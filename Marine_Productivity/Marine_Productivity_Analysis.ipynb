{
 "cells": [
  {
   "cell_type": "markdown",
   "id": "2fd4ce99-22d9-4c9b-b66d-fc4bccb51821",
   "metadata": {},
   "source": [
    "# Primary Productivity in Coastal Waters\n",
    "### Madhan Jeganathan, <br>June 3, 2023"
   ]
  },
  {
   "cell_type": "markdown",
   "id": "65d0b457-076b-4943-82aa-430e345b0bd0",
   "metadata": {},
   "source": [
    "## Data Description"
   ]
  },
  {
   "cell_type": "markdown",
   "id": "2aca6f40-3801-4fed-a8e0-160ad8d85b49",
   "metadata": {},
   "source": [
    "Chlorophyll A is often used as a proxy for primary productivity in marine ecosystems. Primary producers are important because they are at the base of the food web. Nitrogen and phosphorus are key nutrients that stimulate primary production. The levels of chlorophyll A, phosphorus, and nitrogen in water are important for assessing water quality, understanding ecosystem health, and managing environmental impacts. High concentrations of chlorophyll A, phosphorus, and nitrogen can indicate excessive nutrients in the water, which can disrupt aquatic ecosystems. Therefore, it is important to have accurate data on the subject and monitor that data to make informed decisions."
   ]
  },
  {
   "cell_type": "markdown",
   "id": "6026a3cc-7708-4b28-846f-87cda6f92c3e",
   "metadata": {},
   "source": [
    "The data for this analysis comes from the EPA’s National Aquatic Resource Surveys, and in particular, the National Coastal Condition Assessment (NCCA). The first dataset contains information about each site, including its name, region, state, province, coordinates, and more. The second dataset contains information about each observation of chemicals measured, including the site ID, the date, the type of chemical, the amount of that chemical, and more. After merging and transforming the two datasets, the variables I kept for my analysis were `UID` (unique ID), `WTBDY_NM` (waterbody name), `STATE` (state), `NCA_REGION` (National Coastal Assessment region), `DATE_COL_x` (date collected), `Chlorophyll A` (amount of chlorophyll A in the water, measured in $\\mu g/L$), `Total Nitrogen` (amount of nitrogen in the water, measured in $mg/L$), and `Total Phosphorus` (amount of phosphorus in the water, measured in $mg/L$). This data set has 8 variables, mentioned above, and 1092 observations. Each row in the data set corresponds to one observation in which the chlorophyll A, nitrogen, and phosphorous levels of a body of water were measured at some given time. For reference, below is a small portion of the merged data."
   ]
  },
  {
   "cell_type": "code",
   "execution_count": 5,
   "id": "3a8e4b0d-1e1e-4875-985c-c89619dddda7",
   "metadata": {},
   "outputs": [
    {
     "data": {
      "text/html": [
       "<div>\n",
       "<style scoped>\n",
       "    .dataframe tbody tr th:only-of-type {\n",
       "        vertical-align: middle;\n",
       "    }\n",
       "\n",
       "    .dataframe tbody tr th {\n",
       "        vertical-align: top;\n",
       "    }\n",
       "\n",
       "    .dataframe thead th {\n",
       "        text-align: right;\n",
       "    }\n",
       "</style>\n",
       "<table border=\"1\" class=\"dataframe\">\n",
       "  <thead>\n",
       "    <tr style=\"text-align: right;\">\n",
       "      <th></th>\n",
       "      <th>UID</th>\n",
       "      <th>WTBDY_NM</th>\n",
       "      <th>STATE</th>\n",
       "      <th>NCA_REGION</th>\n",
       "      <th>DATE_COL_x</th>\n",
       "      <th>Chlorophyll A</th>\n",
       "      <th>Total Nitrogen</th>\n",
       "      <th>Total Phosphorus</th>\n",
       "    </tr>\n",
       "  </thead>\n",
       "  <tbody>\n",
       "    <tr>\n",
       "      <th>0</th>\n",
       "      <td>59</td>\n",
       "      <td>Mission Bay</td>\n",
       "      <td>CA</td>\n",
       "      <td>West Coast</td>\n",
       "      <td>1-Jul-10</td>\n",
       "      <td>3.34</td>\n",
       "      <td>0.40750</td>\n",
       "      <td>0.061254</td>\n",
       "    </tr>\n",
       "    <tr>\n",
       "      <th>1</th>\n",
       "      <td>60</td>\n",
       "      <td>San Diego Bay</td>\n",
       "      <td>CA</td>\n",
       "      <td>West Coast</td>\n",
       "      <td>1-Jul-10</td>\n",
       "      <td>2.45</td>\n",
       "      <td>0.23000</td>\n",
       "      <td>0.037379</td>\n",
       "    </tr>\n",
       "    <tr>\n",
       "      <th>2</th>\n",
       "      <td>61</td>\n",
       "      <td>Mission Bay</td>\n",
       "      <td>CA</td>\n",
       "      <td>West Coast</td>\n",
       "      <td>1-Jul-10</td>\n",
       "      <td>3.82</td>\n",
       "      <td>0.33625</td>\n",
       "      <td>0.048100</td>\n",
       "    </tr>\n",
       "    <tr>\n",
       "      <th>3</th>\n",
       "      <td>62</td>\n",
       "      <td>San Diego Bay</td>\n",
       "      <td>CA</td>\n",
       "      <td>West Coast</td>\n",
       "      <td>1-Jul-10</td>\n",
       "      <td>6.13</td>\n",
       "      <td>0.23875</td>\n",
       "      <td>0.044251</td>\n",
       "    </tr>\n",
       "    <tr>\n",
       "      <th>4</th>\n",
       "      <td>63</td>\n",
       "      <td>White Oak River</td>\n",
       "      <td>NC</td>\n",
       "      <td>East Coast</td>\n",
       "      <td>9-Jun-10</td>\n",
       "      <td>9.79</td>\n",
       "      <td>0.63250</td>\n",
       "      <td>0.090636</td>\n",
       "    </tr>\n",
       "  </tbody>\n",
       "</table>\n",
       "</div>"
      ],
      "text/plain": [
       "   UID         WTBDY_NM STATE  NCA_REGION DATE_COL_x  Chlorophyll A  \\\n",
       "0   59      Mission Bay    CA  West Coast   1-Jul-10           3.34   \n",
       "1   60    San Diego Bay    CA  West Coast   1-Jul-10           2.45   \n",
       "2   61      Mission Bay    CA  West Coast   1-Jul-10           3.82   \n",
       "3   62    San Diego Bay    CA  West Coast   1-Jul-10           6.13   \n",
       "4   63  White Oak River    NC  East Coast   9-Jun-10           9.79   \n",
       "\n",
       "   Total Nitrogen  Total Phosphorus  \n",
       "0         0.40750          0.061254  \n",
       "1         0.23000          0.037379  \n",
       "2         0.33625          0.048100  \n",
       "3         0.23875          0.044251  \n",
       "4         0.63250          0.090636  "
      ]
     },
     "execution_count": 5,
     "metadata": {},
     "output_type": "execute_result"
    }
   ],
   "source": [
    "ncca.head()"
   ]
  },
  {
   "cell_type": "markdown",
   "id": "16e36038-4d09-4b6b-8b50-2d4dc15cd43d",
   "metadata": {},
   "source": [
    "## Exploratory Analysis"
   ]
  },
  {
   "cell_type": "markdown",
   "id": "30f348c0-79de-4906-ab3b-1a59ea8fcea8",
   "metadata": {},
   "source": [
    "#### Nutrient Availability vs. Productivity  \n",
    "There is a positive correlation between availability and productivity. Additionally, nitrogen and phosphorus are also positively correlated. We can see these relationships clearly in the plots below. In the first plot, orange denotes phosphorus while blue denotes nitrogen, and both correlate positively with chlorophyll A. In the second plot, nitrogen correlates positively with phosphorus; high levels of one seem to indicate high levels of the other."
   ]
  },
  {
   "cell_type": "code",
   "execution_count": 6,
   "id": "b28701b2-86fd-4778-ae12-ace07e941885",
   "metadata": {},
   "outputs": [
    {
     "data": {
      "application/vnd.vegalite.v5+json": {
       "$schema": "https://vega.github.io/schema/vega-lite/v5.16.3.json",
       "config": {
        "view": {
         "continuousHeight": 300,
         "continuousWidth": 300
        }
       },
       "data": {
        "name": "data-05f4fa05fab994d8af36e0596e02740d"
       },
       "datasets": {
        "data-05f4fa05fab994d8af36e0596e02740d": [
         {
          "Chlorophyll A": 12.76,
          "NCA_REGION": "Gulf Coast",
          "Total Nitrogen": 0.8825,
          "Total Phosphorus": 0.143675,
          "WTBDY_NM": "Alazan Bay"
         },
         {
          "Chlorophyll A": 24.461666666666662,
          "NCA_REGION": "East Coast",
          "Total Nitrogen": 0.5971875,
          "Total Phosphorus": 0.03219302083333333,
          "WTBDY_NM": "Albermarle Sound"
         },
         {
          "Chlorophyll A": 4.04,
          "NCA_REGION": "East Coast",
          "Total Nitrogen": 0.7935,
          "Total Phosphorus": 0.02490475,
          "WTBDY_NM": "Alligator River"
         },
         {
          "Chlorophyll A": 6.64,
          "NCA_REGION": "West Coast",
          "Total Nitrogen": 0.50125,
          "Total Phosphorus": 0.07281,
          "WTBDY_NM": "Alsea Bay"
         },
         {
          "Chlorophyll A": 1.27,
          "NCA_REGION": "Gulf Coast",
          "Total Nitrogen": 0.3725,
          "Total Phosphorus": 0.008185,
          "WTBDY_NM": "Anclote Anchorage"
         },
         {
          "Chlorophyll A": 2.5725,
          "NCA_REGION": "Gulf Coast",
          "Total Nitrogen": 0.2609375,
          "Total Phosphorus": 0.006984374999999999,
          "WTBDY_NM": "Apalachee Bay"
         },
         {
          "Chlorophyll A": 15.4,
          "NCA_REGION": "Gulf Coast",
          "Total Nitrogen": 0.4953125,
          "Total Phosphorus": 0.042827937499999996,
          "WTBDY_NM": "Apalachicola Bay"
         },
         {
          "Chlorophyll A": 3.55,
          "NCA_REGION": "Gulf Coast",
          "Total Nitrogen": 0.6145,
          "Total Phosphorus": 0.02549125,
          "WTBDY_NM": "Apalachicola River"
         },
         {
          "Chlorophyll A": 8.25,
          "NCA_REGION": "Gulf Coast",
          "Total Nitrogen": 0.59125,
          "Total Phosphorus": 0.09463437499999999,
          "WTBDY_NM": "Aransas Bay"
         },
         {
          "Chlorophyll A": 2.169,
          "NCA_REGION": "West Coast",
          "Total Nitrogen": 0.35375,
          "Total Phosphorus": 0.088021875,
          "WTBDY_NM": "Arcata Bay"
         },
         {
          "Chlorophyll A": 10.16,
          "NCA_REGION": "East Coast",
          "Total Nitrogen": 0.66,
          "Total Phosphorus": 0.0845,
          "WTBDY_NM": "Assawoman Bay"
         },
         {
          "Chlorophyll A": 10.056666666666667,
          "NCA_REGION": "Gulf Coast",
          "Total Nitrogen": 1.3363333333333334,
          "Total Phosphorus": 0.174385,
          "WTBDY_NM": "Atchafalaya Bay"
         },
         {
          "Chlorophyll A": 5.73,
          "NCA_REGION": "Gulf Coast",
          "Total Nitrogen": 0.7925,
          "Total Phosphorus": 0.17628,
          "WTBDY_NM": "Ayres Bay"
         },
         {
          "Chlorophyll A": 19.4,
          "NCA_REGION": "East Coast",
          "Total Nitrogen": 1.459,
          "Total Phosphorus": 0.0183,
          "WTBDY_NM": "Back Bay"
         },
         {
          "Chlorophyll A": 22.51,
          "NCA_REGION": "Gulf Coast",
          "Total Nitrogen": 0.72875,
          "Total Phosphorus": 0.087415,
          "WTBDY_NM": "Back Bay Biloxi/Bernard Bayou"
         },
         {
          "Chlorophyll A": 3.04,
          "NCA_REGION": "East Coast",
          "Total Nitrogen": 0.164375,
          "Total Phosphorus": 0.015376875,
          "WTBDY_NM": "Back Sound"
         },
         {
          "Chlorophyll A": 28.646666666666665,
          "NCA_REGION": "Gulf Coast",
          "Total Nitrogen": 1.0593333333333332,
          "Total Phosphorus": 0.09231333333333334,
          "WTBDY_NM": "Baffin Bay"
         },
         {
          "Chlorophyll A": 5.0633333333333335,
          "NCA_REGION": "West Coast",
          "Total Nitrogen": 0.4075,
          "Total Phosphorus": 0.07746750000000001,
          "WTBDY_NM": "Baker Bay"
         },
         {
          "Chlorophyll A": 49.58,
          "NCA_REGION": "East Coast",
          "Total Nitrogen": 1.188,
          "Total Phosphorus": 0.0471385,
          "WTBDY_NM": "Banana River"
         },
         {
          "Chlorophyll A": 9.405,
          "NCA_REGION": "East Coast",
          "Total Nitrogen": 0.605,
          "Total Phosphorus": 0.080805,
          "WTBDY_NM": "Barnegat Bay"
         },
         {
          "Chlorophyll A": 0.8150000000000001,
          "NCA_REGION": "Gulf Coast",
          "Total Nitrogen": 0.69875,
          "Total Phosphorus": 0.003205625,
          "WTBDY_NM": "Barnes Sound"
         },
         {
          "Chlorophyll A": 4.95,
          "NCA_REGION": "Gulf Coast",
          "Total Nitrogen": 0.375,
          "Total Phosphorus": 0.035935,
          "WTBDY_NM": "Barroom Bay"
         },
         {
          "Chlorophyll A": 2.69,
          "NCA_REGION": "East Coast",
          "Total Nitrogen": 0.25125,
          "Total Phosphorus": 0.035394375,
          "WTBDY_NM": "Bartlett Narrows"
         },
         {
          "Chlorophyll A": 7.68,
          "NCA_REGION": "East Coast",
          "Total Nitrogen": 0.39,
          "Total Phosphorus": 0.042959,
          "WTBDY_NM": "Batchelor Bay"
         },
         {
          "Chlorophyll A": 24.75,
          "NCA_REGION": "Gulf Coast",
          "Total Nitrogen": 0.92,
          "Total Phosphorus": 0.06983125,
          "WTBDY_NM": "Bay Desespere"
         },
         {
          "Chlorophyll A": 17.57,
          "NCA_REGION": "Gulf Coast",
          "Total Nitrogen": 1.0425,
          "Total Phosphorus": 0.23416,
          "WTBDY_NM": "Bay Gardene"
         },
         {
          "Chlorophyll A": 17.87,
          "NCA_REGION": "East Coast",
          "Total Nitrogen": 0.6175,
          "Total Phosphorus": 0.096125,
          "WTBDY_NM": "Bear River"
         },
         {
          "Chlorophyll A": 16.95,
          "NCA_REGION": "West Coast",
          "Total Nitrogen": 0.4,
          "Total Phosphorus": 0.05860375,
          "WTBDY_NM": "Bellingham Bay"
         },
         {
          "Chlorophyll A": 2.11,
          "NCA_REGION": "West Coast",
          "Total Nitrogen": 0.30125,
          "Total Phosphorus": 0.03212,
          "WTBDY_NM": "Big Lagoon"
         },
         {
          "Chlorophyll A": 0.345853571,
          "NCA_REGION": "Gulf Coast",
          "Total Nitrogen": 0.32875,
          "Total Phosphorus": 0.003195625,
          "WTBDY_NM": "Big Spanish Channel"
         },
         {
          "Chlorophyll A": 0.6439999999999999,
          "NCA_REGION": "East Coast",
          "Total Nitrogen": 0.40275,
          "Total Phosphorus": 0.011399999999999999,
          "WTBDY_NM": "Biscayne Bay"
         },
         {
          "Chlorophyll A": 24.58,
          "NCA_REGION": "Gulf Coast",
          "Total Nitrogen": 0.9125,
          "Total Phosphorus": 0.17061625,
          "WTBDY_NM": "Black Bay"
         },
         {
          "Chlorophyll A": 1.59,
          "NCA_REGION": "Gulf Coast",
          "Total Nitrogen": 0.93,
          "Total Phosphorus": 0.00720125,
          "WTBDY_NM": "Blackwater Sound"
         },
         {
          "Chlorophyll A": 22.09,
          "NCA_REGION": "Gulf Coast",
          "Total Nitrogen": 1.59,
          "Total Phosphorus": 0.19528875,
          "WTBDY_NM": "Blind Bay #2"
         },
         {
          "Chlorophyll A": 3.33,
          "NCA_REGION": "Gulf Coast",
          "Total Nitrogen": 0.6575,
          "Total Phosphorus": 0.20256375,
          "WTBDY_NM": "Blind River"
         },
         {
          "Chlorophyll A": 1.6275,
          "NCA_REGION": "East Coast",
          "Total Nitrogen": 0.179375,
          "Total Phosphorus": 0.024584375,
          "WTBDY_NM": "Block Island Sound"
         },
         {
          "Chlorophyll A": 1.36,
          "NCA_REGION": "East Coast",
          "Total Nitrogen": 0.25375,
          "Total Phosphorus": 0.02198875,
          "WTBDY_NM": "Blue Hill Bay"
         },
         {
          "Chlorophyll A": 5.94,
          "NCA_REGION": "Gulf Coast",
          "Total Nitrogen": 0.39,
          "Total Phosphorus": 0.03524375,
          "WTBDY_NM": "Boca Ciega Bay"
         },
         {
          "Chlorophyll A": 10.96,
          "NCA_REGION": "East Coast",
          "Total Nitrogen": 0.535625,
          "Total Phosphorus": 0.078323125,
          "WTBDY_NM": "Bogue Sound"
         },
         {
          "Chlorophyll A": 104.67,
          "NCA_REGION": "East Coast",
          "Total Nitrogen": 1.44,
          "Total Phosphorus": 0.196,
          "WTBDY_NM": "Bohemia River"
         },
         {
          "Chlorophyll A": 13.65,
          "NCA_REGION": "Gulf Coast",
          "Total Nitrogen": 0.565625,
          "Total Phosphorus": 0.11170625,
          "WTBDY_NM": "Bolivar Roads"
         },
         {
          "Chlorophyll A": 5.2,
          "NCA_REGION": "East Coast",
          "Total Nitrogen": 0.3125,
          "Total Phosphorus": 0.03638125,
          "WTBDY_NM": "Boston Inner Harbor"
         },
         {
          "Chlorophyll A": 9.09,
          "NCA_REGION": "West Coast",
          "Total Nitrogen": 0.3225,
          "Total Phosphorus": 0.04528875,
          "WTBDY_NM": "Boundary/Semiahmoo Bay"
         },
         {
          "Chlorophyll A": 25.540000000000003,
          "NCA_REGION": "Gulf Coast",
          "Total Nitrogen": 1.0900833333333333,
          "Total Phosphorus": 0.1465085416666667,
          "WTBDY_NM": "Breton Sound"
         },
         {
          "Chlorophyll A": 9.895,
          "NCA_REGION": "East Coast",
          "Total Nitrogen": 0.5408333333333334,
          "Total Phosphorus": 0.10565908333333333,
          "WTBDY_NM": "Broad River"
         },
         {
          "Chlorophyll A": 3.928057143,
          "NCA_REGION": "East Coast",
          "Total Nitrogen": 0.215625,
          "Total Phosphorus": 0.040311875,
          "WTBDY_NM": "Broad Sound"
         },
         {
          "Chlorophyll A": 20.4,
          "NCA_REGION": "East Coast",
          "Total Nitrogen": 0.855,
          "Total Phosphorus": 0.0556,
          "WTBDY_NM": "Broad/Linkhorn Bay"
         },
         {
          "Chlorophyll A": 7.27,
          "NCA_REGION": "East Coast",
          "Total Nitrogen": 0.388125,
          "Total Phosphorus": 0.025033125,
          "WTBDY_NM": "Bull Bay"
         },
         {
          "Chlorophyll A": 11.195,
          "NCA_REGION": "East Coast",
          "Total Nitrogen": 0.625,
          "Total Phosphorus": 0.0583,
          "WTBDY_NM": "Bush River"
         },
         {
          "Chlorophyll A": 0.6,
          "NCA_REGION": "Gulf Coast",
          "Total Nitrogen": 0.77625,
          "Total Phosphorus": 0.00443875,
          "WTBDY_NM": "Buttonwood Sound"
         },
         {
          "Chlorophyll A": 3.5977785713749997,
          "NCA_REGION": "East Coast",
          "Total Nitrogen": 0.3025,
          "Total Phosphorus": 0.05236300000000001,
          "WTBDY_NM": "Buzzards Bay"
         },
         {
          "Chlorophyll A": 22.29828571,
          "NCA_REGION": "Gulf Coast",
          "Total Nitrogen": 0.7375,
          "Total Phosphorus": 0.080886875,
          "WTBDY_NM": "Caillou Bay"
         },
         {
          "Chlorophyll A": 18.276666666666667,
          "NCA_REGION": "Gulf Coast",
          "Total Nitrogen": 0.67625,
          "Total Phosphorus": 0.1275683333333333,
          "WTBDY_NM": "Calcasieu Lake"
         },
         {
          "Chlorophyll A": 15.08,
          "NCA_REGION": "Gulf Coast",
          "Total Nitrogen": 1.468,
          "Total Phosphorus": 0.24187875,
          "WTBDY_NM": "California Bay"
         },
         {
          "Chlorophyll A": 1.7825,
          "NCA_REGION": "East Coast",
          "Total Nitrogen": 0.2321875,
          "Total Phosphorus": 0.032059375,
          "WTBDY_NM": "Cape Cod Bay"
         },
         {
          "Chlorophyll A": 15.82,
          "NCA_REGION": "Gulf Coast",
          "Total Nitrogen": 0.86375,
          "Total Phosphorus": 0.18144812500000002,
          "WTBDY_NM": "Carancahua Bay"
         },
         {
          "Chlorophyll A": 1.43,
          "NCA_REGION": "West Coast",
          "Total Nitrogen": 0.21,
          "Total Phosphorus": 0.03783,
          "WTBDY_NM": "Carr Inlet"
         },
         {
          "Chlorophyll A": 1.2416133333333332,
          "NCA_REGION": "East Coast",
          "Total Nitrogen": 0.18625,
          "Total Phosphorus": 0.02583458333333333,
          "WTBDY_NM": "Casco Bay"
         },
         {
          "Chlorophyll A": 62.72,
          "NCA_REGION": "Gulf Coast",
          "Total Nitrogen": 0.9925,
          "Total Phosphorus": 0.11943,
          "WTBDY_NM": "Cedar Keys"
         },
         {
          "Chlorophyll A": 4.538,
          "NCA_REGION": "West Coast",
          "Total Nitrogen": 0.6075,
          "Total Phosphorus": 0.11438425,
          "WTBDY_NM": "CentralBay"
         },
         {
          "Chlorophyll A": 16.24076923076923,
          "NCA_REGION": "Gulf Coast",
          "Total Nitrogen": 0.6823076923076924,
          "Total Phosphorus": 0.10620326923076923,
          "WTBDY_NM": "Chandeleur Sound"
         },
         {
          "Chlorophyll A": 10.55,
          "NCA_REGION": "East Coast",
          "Total Nitrogen": 0.4971875,
          "Total Phosphorus": 0.10607625000000001,
          "WTBDY_NM": "Charleston Harbor"
         },
         {
          "Chlorophyll A": 3.98,
          "NCA_REGION": "Gulf Coast",
          "Total Nitrogen": 0.393125,
          "Total Phosphorus": 0.081200625,
          "WTBDY_NM": "Charlotte Harbor"
         },
         {
          "Chlorophyll A": 2.27,
          "NCA_REGION": "Gulf Coast",
          "Total Nitrogen": 0.61625,
          "Total Phosphorus": 0.02237625,
          "WTBDY_NM": "Chassahowitzka Bay"
         },
         {
          "Chlorophyll A": 16.45,
          "NCA_REGION": "East Coast",
          "Total Nitrogen": 0.6499999999999999,
          "Total Phosphorus": 0.11710000000000001,
          "WTBDY_NM": "Chester River"
         },
         {
          "Chlorophyll A": 11.7,
          "NCA_REGION": "East Coast",
          "Total Nitrogen": 0.485,
          "Total Phosphorus": 0.0293,
          "WTBDY_NM": "Chickahominy River"
         },
         {
          "Chlorophyll A": 6.744999999999999,
          "NCA_REGION": "East Coast",
          "Total Nitrogen": 0.475,
          "Total Phosphorus": 0.06345,
          "WTBDY_NM": "Chincoteague Bay"
         },
         {
          "Chlorophyll A": 4.955,
          "NCA_REGION": "Gulf Coast",
          "Total Nitrogen": 0.318125,
          "Total Phosphorus": 0.015918125,
          "WTBDY_NM": "Choctawhatchee Bay"
         },
         {
          "Chlorophyll A": 5.32,
          "NCA_REGION": "Gulf Coast",
          "Total Nitrogen": 0.58875,
          "Total Phosphorus": 0.03625125,
          "WTBDY_NM": "Chokoloskee Bay"
         },
         {
          "Chlorophyll A": 14.89,
          "NCA_REGION": "East Coast",
          "Total Nitrogen": 2.095,
          "Total Phosphorus": 0.12754125,
          "WTBDY_NM": "Christina River"
         },
         {
          "Chlorophyll A": 14.58,
          "NCA_REGION": "Gulf Coast",
          "Total Nitrogen": 0.5125,
          "Total Phosphorus": 0.0838125,
          "WTBDY_NM": "Christmas Bay"
         },
         {
          "Chlorophyll A": 9.49,
          "NCA_REGION": "East Coast",
          "Total Nitrogen": 1.03,
          "Total Phosphorus": 0.1755675,
          "WTBDY_NM": "Cohansey River"
         },
         {
          "Chlorophyll A": 6.80752,
          "NCA_REGION": "West Coast",
          "Total Nitrogen": 0.3078125,
          "Total Phosphorus": 0.0528846875,
          "WTBDY_NM": "Columbia River"
         },
         {
          "Chlorophyll A": 4.24,
          "NCA_REGION": "West Coast",
          "Total Nitrogen": 0.3825,
          "Total Phosphorus": 0.06229875,
          "WTBDY_NM": "Colvos/Dalco Passage"
         },
         {
          "Chlorophyll A": 3.36688,
          "NCA_REGION": "West Coast",
          "Total Nitrogen": 0.37812500000000004,
          "Total Phosphorus": 0.050515624999999995,
          "WTBDY_NM": "Coos Bay"
         },
         {
          "Chlorophyll A": 10.02,
          "NCA_REGION": "Gulf Coast",
          "Total Nitrogen": 0.763125,
          "Total Phosphorus": 0.1639625,
          "WTBDY_NM": "Copano Bay"
         },
         {
          "Chlorophyll A": 6.44,
          "NCA_REGION": "West Coast",
          "Total Nitrogen": 0.509375,
          "Total Phosphorus": 0.067675625,
          "WTBDY_NM": "Coquille River"
         },
         {
          "Chlorophyll A": 4.13848,
          "NCA_REGION": "East Coast",
          "Total Nitrogen": 0.364,
          "Total Phosphorus": 0.045927125,
          "WTBDY_NM": "Core Sound"
         },
         {
          "Chlorophyll A": 8.43,
          "NCA_REGION": "West Coast",
          "Total Nitrogen": 0.515,
          "Total Phosphorus": 0.07329875,
          "WTBDY_NM": "Cormorant Passage"
         },
         {
          "Chlorophyll A": 6.109999999999999,
          "NCA_REGION": "Gulf Coast",
          "Total Nitrogen": 0.5728571428571428,
          "Total Phosphorus": 0.04855946428571429,
          "WTBDY_NM": "Corpus Christi Bay"
         },
         {
          "Chlorophyll A": 38.935,
          "NCA_REGION": "East Coast",
          "Total Nitrogen": 1.285,
          "Total Phosphorus": 0.047330625,
          "WTBDY_NM": "Corrituck Sound"
         },
         {
          "Chlorophyll A": 3.91,
          "NCA_REGION": "East Coast",
          "Total Nitrogen": 0.215,
          "Total Phosphorus": 0.04924,
          "WTBDY_NM": "Cousins Island Sound"
         },
         {
          "Chlorophyll A": 1.15,
          "NCA_REGION": "Gulf Coast",
          "Total Nitrogen": 0.395,
          "Total Phosphorus": 0.0183375,
          "WTBDY_NM": "Cudjoe Basin"
         },
         {
          "Chlorophyll A": 1.76,
          "NCA_REGION": "West Coast",
          "Total Nitrogen": 0.14375,
          "Total Phosphorus": 0.0246675,
          "WTBDY_NM": "Dabob Bay"
         },
         {
          "Chlorophyll A": 2.21,
          "NCA_REGION": "West Coast",
          "Total Nitrogen": 0.24,
          "Total Phosphorus": 0.03525875,
          "WTBDY_NM": "Dana Point Harbor"
         },
         {
          "Chlorophyll A": 8.2,
          "NCA_REGION": "Gulf Coast",
          "Total Nitrogen": 0.77875,
          "Total Phosphorus": 0.02732625,
          "WTBDY_NM": "Deadman Bay"
         },
         {
          "Chlorophyll A": 10.105714285714285,
          "NCA_REGION": "East Coast",
          "Total Nitrogen": 0.7041071428571428,
          "Total Phosphorus": 0.0828336607142857,
          "WTBDY_NM": "Delaware Bay"
         },
         {
          "Chlorophyll A": 7.11,
          "NCA_REGION": "East Coast",
          "Total Nitrogen": 1.685,
          "Total Phosphorus": 0.15322125,
          "WTBDY_NM": "Delaware River"
         },
         {
          "Chlorophyll A": 3.23,
          "NCA_REGION": "Gulf Coast",
          "Total Nitrogen": 1.898,
          "Total Phosphorus": 0.24786625,
          "WTBDY_NM": "Dixon Bay"
         },
         {
          "Chlorophyll A": 13.72,
          "NCA_REGION": "Gulf Coast",
          "Total Nitrogen": 0.54875,
          "Total Phosphorus": 0.05627,
          "WTBDY_NM": "Dog River"
         },
         {
          "Chlorophyll A": 6.24,
          "NCA_REGION": "West Coast",
          "Total Nitrogen": 0.39375,
          "Total Phosphorus": 0.02838875,
          "WTBDY_NM": "Drakes Bay"
         },
         {
          "Chlorophyll A": 9.463333333333333,
          "NCA_REGION": "Gulf Coast",
          "Total Nitrogen": 0.47458333333333336,
          "Total Phosphorus": 0.05380229166666667,
          "WTBDY_NM": "East Bay"
         },
         {
          "Chlorophyll A": 11.836666666666666,
          "NCA_REGION": "Gulf Coast",
          "Total Nitrogen": 1.75125,
          "Total Phosphorus": 0.20721354166666664,
          "WTBDY_NM": "East Bay (Miss)"
         },
         {
          "Chlorophyll A": 14.172,
          "NCA_REGION": "Gulf Coast",
          "Total Nitrogen": 1.2872999999999999,
          "Total Phosphorus": 0.16561050000000002,
          "WTBDY_NM": "East Cote Blanche Bay"
         },
         {
          "Chlorophyll A": 8.59,
          "NCA_REGION": "Gulf Coast",
          "Total Nitrogen": 0.46875,
          "Total Phosphorus": 0.11009125,
          "WTBDY_NM": "East Matagorda Bay"
         },
         {
          "Chlorophyll A": 4.7429749999999995,
          "NCA_REGION": "East Coast",
          "Total Nitrogen": 0.2134375,
          "Total Phosphorus": 0.024342812499999998,
          "WTBDY_NM": "East Penobscot Bay"
         },
         {
          "Chlorophyll A": 0.97,
          "NCA_REGION": "East Coast",
          "Total Nitrogen": 0.221875,
          "Total Phosphorus": 0.02441375,
          "WTBDY_NM": "Eggemoggin Reach"
         },
         {
          "Chlorophyll A": 14.6,
          "NCA_REGION": "East Coast",
          "Total Nitrogen": 0.637,
          "Total Phosphorus": 0.1064,
          "WTBDY_NM": "Elizabeth River"
         },
         {
          "Chlorophyll A": null,
          "NCA_REGION": "Gulf Coast",
          "Total Nitrogen": 0.495,
          "Total Phosphorus": 0.02319375,
          "WTBDY_NM": "Escambia Bay"
         },
         {
          "Chlorophyll A": 5.5649999999999995,
          "NCA_REGION": "Gulf Coast",
          "Total Nitrogen": 0.375625,
          "Total Phosphorus": 0.0508859375,
          "WTBDY_NM": "Espiritu Santo Bay"
         },
         {
          "Chlorophyll A": 16.24,
          "NCA_REGION": "Gulf Coast",
          "Total Nitrogen": 0.7625,
          "Total Phosphorus": 0.110208,
          "WTBDY_NM": "False Mouth Bay"
         },
         {
          "Chlorophyll A": 1.6800000000000002,
          "NCA_REGION": "Gulf Coast",
          "Total Nitrogen": 0.5639583333333333,
          "Total Phosphorus": 0.010398333333333334,
          "WTBDY_NM": "Florida Bay"
         },
         {
          "Chlorophyll A": 3.38,
          "NCA_REGION": "East Coast",
          "Total Nitrogen": 0.255,
          "Total Phosphorus": 0.05312,
          "WTBDY_NM": "Frenchman Bay"
         },
         {
          "Chlorophyll A": 1.88,
          "NCA_REGION": "East Coast",
          "Total Nitrogen": 0.23,
          "Total Phosphorus": 0.0324625,
          "WTBDY_NM": "Friar Roads"
         },
         {
          "Chlorophyll A": 13.414173333333332,
          "NCA_REGION": "Gulf Coast",
          "Total Nitrogen": 0.6930208333333333,
          "Total Phosphorus": 0.1547440625,
          "WTBDY_NM": "Galveston Bay"
         },
         {
          "Chlorophyll A": 2.7075,
          "NCA_REGION": "East Coast",
          "Total Nitrogen": 0.24375,
          "Total Phosphorus": 0.0350109375,
          "WTBDY_NM": "Gardiners Bay"
         },
         {
          "Chlorophyll A": 15.06,
          "NCA_REGION": "Gulf Coast",
          "Total Nitrogen": 0.713125,
          "Total Phosphorus": 0.049043125,
          "WTBDY_NM": "Gasparilla Bay"
         },
         {
          "Chlorophyll A": 1.26,
          "NCA_REGION": "East Coast",
          "Total Nitrogen": 0.155,
          "Total Phosphorus": 0.0187525,
          "WTBDY_NM": "Gloucester Harbor"
         },
         {
          "Chlorophyll A": 17.67,
          "NCA_REGION": "Gulf Coast",
          "Total Nitrogen": 0.6275,
          "Total Phosphorus": 0.073871875,
          "WTBDY_NM": "Grand Bay #2"
         },
         {
          "Chlorophyll A": 5.511818181818182,
          "NCA_REGION": "West Coast",
          "Total Nitrogen": 0.42311363636363636,
          "Total Phosphorus": 0.06206568181818182,
          "WTBDY_NM": "Grays Harbor"
         },
         {
          "Chlorophyll A": 8.416,
          "NCA_REGION": "East Coast",
          "Total Nitrogen": 0.6096999999999999,
          "Total Phosphorus": 0.064852375,
          "WTBDY_NM": "Great Bay"
         },
         {
          "Chlorophyll A": 26.049999999999997,
          "NCA_REGION": "East Coast",
          "Total Nitrogen": 0.8356250000000001,
          "Total Phosphorus": 0.155893125,
          "WTBDY_NM": "Great Egg Harbor"
         },
         {
          "Chlorophyll A": 5.63,
          "NCA_REGION": "East Coast",
          "Total Nitrogen": 0.42375,
          "Total Phosphorus": 0.0598825,
          "WTBDY_NM": "Great Peconic Bay"
         },
         {
          "Chlorophyll A": 9.88,
          "NCA_REGION": "East Coast",
          "Total Nitrogen": 0.51375,
          "Total Phosphorus": 0.07351625,
          "WTBDY_NM": "Great Sound"
         },
         {
          "Chlorophyll A": 16.47,
          "NCA_REGION": "East Coast",
          "Total Nitrogen": 0.86,
          "Total Phosphorus": 0.089833125,
          "WTBDY_NM": "Great South Bay"
         },
         {
          "Chlorophyll A": 19.189999999999998,
          "NCA_REGION": "East Coast",
          "Total Nitrogen": 0.604375,
          "Total Phosphorus": 0.12190343749999999,
          "WTBDY_NM": "Greenwich Bay"
         },
         {
          "Chlorophyll A": 18.73,
          "NCA_REGION": "Gulf Coast",
          "Total Nitrogen": 0.6675,
          "Total Phosphorus": 0.07697375,
          "WTBDY_NM": "Hackberry Bay"
         },
         {
          "Chlorophyll A": 9.435,
          "NCA_REGION": "West Coast",
          "Total Nitrogen": 0.376875,
          "Total Phosphorus": 0.09134,
          "WTBDY_NM": "Hammersley Inlet"
         },
         {
          "Chlorophyll A": 3.47,
          "NCA_REGION": "East Coast",
          "Total Nitrogen": 0.265,
          "Total Phosphorus": 0.049,
          "WTBDY_NM": "Hampton River/Hampton Harbor"
         },
         {
          "Chlorophyll A": 5.1850000000000005,
          "NCA_REGION": "Gulf Coast",
          "Total Nitrogen": 0.5125,
          "Total Phosphorus": 0.169563125,
          "WTBDY_NM": "Hillsborough Bay"
         },
         {
          "Chlorophyll A": 6.05,
          "NCA_REGION": "East Coast",
          "Total Nitrogen": 0.379,
          "Total Phosphorus": 0.125,
          "WTBDY_NM": "Hog Island Bay"
         },
         {
          "Chlorophyll A": 2.14,
          "NCA_REGION": "Gulf Coast",
          "Total Nitrogen": 0.47375,
          "Total Phosphorus": 0.0188475,
          "WTBDY_NM": "Homosassa Bay"
         },
         {
          "Chlorophyll A": 0.7399999999999999,
          "NCA_REGION": "West Coast",
          "Total Nitrogen": 0.13791666666666666,
          "Total Phosphorus": 0.022819166666666668,
          "WTBDY_NM": "Hood Canal"
         },
         {
          "Chlorophyll A": 8.176666666666668,
          "NCA_REGION": "East Coast",
          "Total Nitrogen": 0.7275,
          "Total Phosphorus": 0.08527708333333334,
          "WTBDY_NM": "Hudson River"
         },
         {
          "Chlorophyll A": 2.84,
          "NCA_REGION": "West Coast",
          "Total Nitrogen": 0.36125,
          "Total Phosphorus": 0.0663175,
          "WTBDY_NM": "Humboldt Bay"
         },
         {
          "Chlorophyll A": 4.1,
          "NCA_REGION": "East Coast",
          "Total Nitrogen": 0.452,
          "Total Phosphorus": 0.098,
          "WTBDY_NM": "Huntington Bay"
         },
         {
          "Chlorophyll A": 20.01,
          "NCA_REGION": "East Coast",
          "Total Nitrogen": 0.78375,
          "Total Phosphorus": 0.122325,
          "WTBDY_NM": "Indian River Bay"
         },
         {
          "Chlorophyll A": 9.096666666666666,
          "NCA_REGION": "East Coast",
          "Total Nitrogen": 0.7838541666666666,
          "Total Phosphorus": 0.06378925,
          "WTBDY_NM": "Indian River Lagoon"
         },
         {
          "Chlorophyll A": 10.84,
          "NCA_REGION": "East Coast",
          "Total Nitrogen": 0.72,
          "Total Phosphorus": 0.08585000000000001,
          "WTBDY_NM": "Isle Of Wight Bay"
         },
         {
          "Chlorophyll A": 15.61,
          "NCA_REGION": "East Coast",
          "Total Nitrogen": 0.62,
          "Total Phosphorus": 0.13684125,
          "WTBDY_NM": "JOHNSON CREEK"
         },
         {
          "Chlorophyll A": 39.235,
          "NCA_REGION": "East Coast",
          "Total Nitrogen": 1.161875,
          "Total Phosphorus": 0.331055875,
          "WTBDY_NM": "Jamaica Bay"
         },
         {
          "Chlorophyll A": 8.39,
          "NCA_REGION": "East Coast",
          "Total Nitrogen": 0.5075,
          "Total Phosphorus": 0.0381025,
          "WTBDY_NM": "Jarrett Bay"
         },
         {
          "Chlorophyll A": 3.39,
          "NCA_REGION": "East Coast",
          "Total Nitrogen": 0.26875,
          "Total Phosphorus": 0.02633375,
          "WTBDY_NM": "Jericho Bay"
         },
         {
          "Chlorophyll A": 1.23,
          "NCA_REGION": "Gulf Coast",
          "Total Nitrogen": 0.97,
          "Total Phosphorus": 0.0061075,
          "WTBDY_NM": "Joe Bay"
         },
         {
          "Chlorophyll A": 4.95,
          "NCA_REGION": "East Coast",
          "Total Nitrogen": 0.24875,
          "Total Phosphorus": 0.02278,
          "WTBDY_NM": "Kingston Bay"
         },
         {
          "Chlorophyll A": 9.276666666666666,
          "NCA_REGION": "Gulf Coast",
          "Total Nitrogen": 0.5383333333333333,
          "Total Phosphorus": 0.040038333333333335,
          "WTBDY_NM": "Laguna Madre"
         },
         {
          "Chlorophyll A": 24.34,
          "NCA_REGION": "Gulf Coast",
          "Total Nitrogen": 0.87125,
          "Total Phosphorus": 0.203495,
          "WTBDY_NM": "Lake Athanasio"
         },
         {
          "Chlorophyll A": 25.78,
          "NCA_REGION": "Gulf Coast",
          "Total Nitrogen": 0.85375,
          "Total Phosphorus": 0.13914375,
          "WTBDY_NM": "Lake Barre"
         },
         {
          "Chlorophyll A": 10.06,
          "NCA_REGION": "Gulf Coast",
          "Total Nitrogen": 0.47265625,
          "Total Phosphorus": 0.101237859375,
          "WTBDY_NM": "Lake Borgne"
         },
         {
          "Chlorophyll A": 42.96,
          "NCA_REGION": "Gulf Coast",
          "Total Nitrogen": 1.393,
          "Total Phosphorus": 0.23800375,
          "WTBDY_NM": "Lake Calebasse"
         },
         {
          "Chlorophyll A": 7.36,
          "NCA_REGION": "Gulf Coast",
          "Total Nitrogen": 0.645625,
          "Total Phosphorus": 0.111469875,
          "WTBDY_NM": "Lake De Cade"
         },
         {
          "Chlorophyll A": 16.157380116964912,
          "NCA_REGION": "Great Lakes",
          "Total Nitrogen": 0.8857083333333333,
          "Total Phosphorus": 0.0388111951754386,
          "WTBDY_NM": "Lake Erie"
         },
         {
          "Chlorophyll A": 2.074470746268657,
          "NCA_REGION": "Great Lakes",
          "Total Nitrogen": 0.43225932835820896,
          "Total Phosphorus": 0.0072620820895522385,
          "WTBDY_NM": "Lake Huron"
         },
         {
          "Chlorophyll A": 9.51,
          "NCA_REGION": "Gulf Coast",
          "Total Nitrogen": 0.46125,
          "Total Phosphorus": 0.132235,
          "WTBDY_NM": "Lake Maurepas"
         },
         {
          "Chlorophyll A": 2.9910811490487808,
          "NCA_REGION": "Great Lakes",
          "Total Nitrogen": 0.42935569105691057,
          "Total Phosphorus": 0.00921697662601626,
          "WTBDY_NM": "Lake Michigan"
         },
         {
          "Chlorophyll A": 3.65,
          "NCA_REGION": "East Coast",
          "Total Nitrogen": 0.2725,
          "Total Phosphorus": 0.03628,
          "WTBDY_NM": "Lake Montauk"
         },
         {
          "Chlorophyll A": 4.199836065573771,
          "NCA_REGION": "Great Lakes",
          "Total Nitrogen": 0.46048790322580646,
          "Total Phosphorus": 0.013084745967741935,
          "WTBDY_NM": "Lake Ontario"
         },
         {
          "Chlorophyll A": 56.99,
          "NCA_REGION": "Gulf Coast",
          "Total Nitrogen": 1.328,
          "Total Phosphorus": 0.22286375,
          "WTBDY_NM": "Lake Palourde"
         },
         {
          "Chlorophyll A": 22.39,
          "NCA_REGION": "Gulf Coast",
          "Total Nitrogen": 0.9325,
          "Total Phosphorus": 0.08135875,
          "WTBDY_NM": "Lake Palourde #1"
         },
         {
          "Chlorophyll A": 16.356666666666666,
          "NCA_REGION": "Gulf Coast",
          "Total Nitrogen": 0.6354166666666666,
          "Total Phosphorus": 0.07436291666666667,
          "WTBDY_NM": "Lake Pelto"
         },
         {
          "Chlorophyll A": 4.9079999999999995,
          "NCA_REGION": "Gulf Coast",
          "Total Nitrogen": 0.36675,
          "Total Phosphorus": 0.10842575000000002,
          "WTBDY_NM": "Lake Pontchartrain"
         },
         {
          "Chlorophyll A": 11.175,
          "NCA_REGION": "Gulf Coast",
          "Total Nitrogen": 1.134,
          "Total Phosphorus": 0.10394,
          "WTBDY_NM": "Lake Salvador"
         },
         {
          "Chlorophyll A": 1.1526761956521738,
          "NCA_REGION": "Great Lakes",
          "Total Nitrogen": 0.4465940860215054,
          "Total Phosphorus": 0.006344380376344086,
          "WTBDY_NM": "Lake Superior"
         },
         {
          "Chlorophyll A": 12.58,
          "NCA_REGION": "Gulf Coast",
          "Total Nitrogen": 0.7925,
          "Total Phosphorus": 0.1304875,
          "WTBDY_NM": "Lavaca Bay"
         },
         {
          "Chlorophyll A": 11.096666666666666,
          "NCA_REGION": "East Coast",
          "Total Nitrogen": 0.5299999999999999,
          "Total Phosphorus": 0.05096666666666667,
          "WTBDY_NM": "Leadenham Creek"
         },
         {
          "Chlorophyll A": 13.59,
          "NCA_REGION": "East Coast",
          "Total Nitrogen": 0.98125,
          "Total Phosphorus": 0.07222,
          "WTBDY_NM": "Little Assawoman Bay"
         },
         {
          "Chlorophyll A": 1.715,
          "NCA_REGION": "East Coast",
          "Total Nitrogen": 0.3695,
          "Total Phosphorus": 0.038,
          "WTBDY_NM": "Little Bay"
         },
         {
          "Chlorophyll A": 1,
          "NCA_REGION": "Gulf Coast",
          "Total Nitrogen": 0.8275,
          "Total Phosphorus": 0.004758125,
          "WTBDY_NM": "Little Blackwater Sound"
         },
         {
          "Chlorophyll A": 0.605,
          "NCA_REGION": "Gulf Coast",
          "Total Nitrogen": 0.47875,
          "Total Phosphorus": 0.002805,
          "WTBDY_NM": "Little Card Sound"
         },
         {
          "Chlorophyll A": 10.483333333333334,
          "NCA_REGION": "East Coast",
          "Total Nitrogen": 0.49,
          "Total Phosphorus": 0.05246666666666667,
          "WTBDY_NM": "Little Choptank River"
         },
         {
          "Chlorophyll A": 9.665000000000001,
          "NCA_REGION": "East Coast",
          "Total Nitrogen": 0.5974999999999999,
          "Total Phosphorus": 0.10015312500000001,
          "WTBDY_NM": "Little Egg Harbor"
         },
         {
          "Chlorophyll A": 2.865,
          "NCA_REGION": "East Coast",
          "Total Nitrogen": 0.4645,
          "Total Phosphorus": 0.033,
          "WTBDY_NM": "Little Harbor"
         },
         {
          "Chlorophyll A": 4.69,
          "NCA_REGION": "East Coast",
          "Total Nitrogen": 0.2621875,
          "Total Phosphorus": 0.044278750000000006,
          "WTBDY_NM": "Little Peconic Bay"
         },
         {
          "Chlorophyll A": 86.27,
          "NCA_REGION": "East Coast",
          "Total Nitrogen": 1.368,
          "Total Phosphorus": 0.2641375,
          "WTBDY_NM": "Little River"
         },
         {
          "Chlorophyll A": 6.42,
          "NCA_REGION": "East Coast",
          "Total Nitrogen": 0.7125,
          "Total Phosphorus": 0.04730875,
          "WTBDY_NM": "Lockwood Follys River"
         },
         {
          "Chlorophyll A": 2.63,
          "NCA_REGION": "West Coast",
          "Total Nitrogen": 0.2925,
          "Total Phosphorus": 0.0345290625,
          "WTBDY_NM": "Long Beach Harbor"
         },
         {
          "Chlorophyll A": 3.755,
          "NCA_REGION": "East Coast",
          "Total Nitrogen": 0.2213,
          "Total Phosphorus": 0.0605,
          "WTBDY_NM": "Long Island Sound"
         },
         {
          "Chlorophyll A": 3.8866666666666667,
          "NCA_REGION": "West Coast",
          "Total Nitrogen": 0.2654166666666667,
          "Total Phosphorus": 0.035575833333333334,
          "WTBDY_NM": "Los Angeles Harbor"
         },
         {
          "Chlorophyll A": 13.05,
          "NCA_REGION": "East Coast",
          "Total Nitrogen": 0.47850000000000004,
          "Total Phosphorus": 0.09609999999999999,
          "WTBDY_NM": "Lower James River"
         },
         {
          "Chlorophyll A": 58.465,
          "NCA_REGION": "East Coast",
          "Total Nitrogen": 1.125,
          "Total Phosphorus": 0.202841875,
          "WTBDY_NM": "Lower Ny/Nj Bay"
         },
         {
          "Chlorophyll A": 9.028,
          "NCA_REGION": "West Coast",
          "Total Nitrogen": 0.9843500000000001,
          "Total Phosphorus": 0.3865702,
          "WTBDY_NM": "Lower South Bay"
         },
         {
          "Chlorophyll A": 2.66,
          "NCA_REGION": "East Coast",
          "Total Nitrogen": 0.23625,
          "Total Phosphorus": 0.0447875,
          "WTBDY_NM": "Luckse Sound"
         },
         {
          "Chlorophyll A": 30.36,
          "NCA_REGION": "East Coast",
          "Total Nitrogen": 0.765,
          "Total Phosphorus": 0.072210625,
          "WTBDY_NM": "MINIM CREEK"
         },
         {
          "Chlorophyll A": 1.17,
          "NCA_REGION": "East Coast",
          "Total Nitrogen": 0.268125,
          "Total Phosphorus": 0.028221875,
          "WTBDY_NM": "Machias Bay"
         },
         {
          "Chlorophyll A": 33.78,
          "NCA_REGION": "East Coast",
          "Total Nitrogen": 0.98,
          "Total Phosphorus": 0.0685,
          "WTBDY_NM": "Magothy River"
         },
         {
          "Chlorophyll A": 10.34,
          "NCA_REGION": "West Coast",
          "Total Nitrogen": 0.41375,
          "Total Phosphorus": 0.06721375,
          "WTBDY_NM": "Makah Bay"
         },
         {
          "Chlorophyll A": 8.15,
          "NCA_REGION": "Gulf Coast",
          "Total Nitrogen": 0.4475,
          "Total Phosphorus": 0.13118375,
          "WTBDY_NM": "Manatee River"
         },
         {
          "Chlorophyll A": 28.41,
          "NCA_REGION": "East Coast",
          "Total Nitrogen": 1.685,
          "Total Phosphorus": 0.23533,
          "WTBDY_NM": "Mannington Meadow"
         },
         {
          "Chlorophyll A": 4.2,
          "NCA_REGION": "East Coast",
          "Total Nitrogen": 0.246625,
          "Total Phosphorus": 0.032054375,
          "WTBDY_NM": "Maquoit Bay"
         },
         {
          "Chlorophyll A": 14.339999999999998,
          "NCA_REGION": "Gulf Coast",
          "Total Nitrogen": 0.6085416666666666,
          "Total Phosphorus": 0.120300625,
          "WTBDY_NM": "Matagorda Bay"
         },
         {
          "Chlorophyll A": 4.35,
          "NCA_REGION": "East Coast",
          "Total Nitrogen": 0.28375,
          "Total Phosphorus": 0.03963875,
          "WTBDY_NM": "Matanzas River"
         },
         {
          "Chlorophyll A": 2.85,
          "NCA_REGION": "Gulf Coast",
          "Total Nitrogen": 0.726875,
          "Total Phosphorus": 0.022869375,
          "WTBDY_NM": "Matlacha Pass"
         },
         {
          "Chlorophyll A": 5.31,
          "NCA_REGION": "East Coast",
          "Total Nitrogen": 1.44,
          "Total Phosphorus": 0.05186375,
          "WTBDY_NM": "Maurice River"
         },
         {
          "Chlorophyll A": 11.31,
          "NCA_REGION": "East Coast",
          "Total Nitrogen": 0.5575,
          "Total Phosphorus": 0.09526625,
          "WTBDY_NM": "Medway River"
         },
         {
          "Chlorophyll A": 2.12,
          "NCA_REGION": "East Coast",
          "Total Nitrogen": 0.2275,
          "Total Phosphorus": 0.0218025,
          "WTBDY_NM": "Merchant Row"
         },
         {
          "Chlorophyll A": 8.88,
          "NCA_REGION": "Gulf Coast",
          "Total Nitrogen": 0.54125,
          "Total Phosphorus": 0.13357375,
          "WTBDY_NM": "Mesquite Bay"
         },
         {
          "Chlorophyll A": 3.09,
          "NCA_REGION": "East Coast",
          "Total Nitrogen": 1.295,
          "Total Phosphorus": 0.02110625,
          "WTBDY_NM": "Miami River"
         },
         {
          "Chlorophyll A": 14.433333333333332,
          "NCA_REGION": "East Coast",
          "Total Nitrogen": 0.4583333333333333,
          "Total Phosphorus": 0.04713333333333333,
          "WTBDY_NM": "Milford Haven"
         },
         {
          "Chlorophyll A": 3.4475,
          "NCA_REGION": "West Coast",
          "Total Nitrogen": 0.31134375,
          "Total Phosphorus": 0.04884690625,
          "WTBDY_NM": "Mission Bay"
         },
         {
          "Chlorophyll A": 12.779725714,
          "NCA_REGION": "Gulf Coast",
          "Total Nitrogen": 0.5455625000000001,
          "Total Phosphorus": 0.0887645625,
          "WTBDY_NM": "Mississippi Sound"
         },
         {
          "Chlorophyll A": 10.469166666666666,
          "NCA_REGION": "Gulf Coast",
          "Total Nitrogen": 0.4009375,
          "Total Phosphorus": 0.05234354166666667,
          "WTBDY_NM": "Mobile Bay"
         },
         {
          "Chlorophyll A": 1.3666666666666665,
          "NCA_REGION": "West Coast",
          "Total Nitrogen": 0.4604166666666667,
          "Total Phosphorus": 0.059457499999999996,
          "WTBDY_NM": "Morro Bay"
         },
         {
          "Chlorophyll A": 12.03,
          "NCA_REGION": "East Coast",
          "Total Nitrogen": 0.72925,
          "Total Phosphorus": 0.07406925,
          "WTBDY_NM": "Mosquito Lagoon"
         },
         {
          "Chlorophyll A": 5.21,
          "NCA_REGION": "East Coast",
          "Total Nitrogen": 0.39875,
          "Total Phosphorus": 0.09377375,
          "WTBDY_NM": "Mt. Hope Bay"
         },
         {
          "Chlorophyll A": 21.05,
          "NCA_REGION": "East Coast",
          "Total Nitrogen": 0.6825,
          "Total Phosphorus": 0.1312875,
          "WTBDY_NM": "Mud River"
         },
         {
          "Chlorophyll A": 4.6,
          "NCA_REGION": "East Coast",
          "Total Nitrogen": 0.2025,
          "Total Phosphorus": 0.02535125,
          "WTBDY_NM": "Muscle Ridge Channel/Owls Head"
         },
         {
          "Chlorophyll A": 11.565000000000001,
          "NCA_REGION": "East Coast",
          "Total Nitrogen": 0.215625,
          "Total Phosphorus": 0.022981875,
          "WTBDY_NM": "Muscongus Bay"
         },
         {
          "Chlorophyll A": 3.64,
          "NCA_REGION": "East Coast",
          "Total Nitrogen": 0.2475,
          "Total Phosphorus": 0.0326325,
          "WTBDY_NM": "Muscongus Sound"
         },
         {
          "Chlorophyll A": 7.176666666666667,
          "NCA_REGION": "East Coast",
          "Total Nitrogen": 0.45,
          "Total Phosphorus": 0.03626666666666666,
          "WTBDY_NM": "Nanticoke River"
         },
         {
          "Chlorophyll A": 3.8332190475,
          "NCA_REGION": "East Coast",
          "Total Nitrogen": 0.2735416666666666,
          "Total Phosphorus": 0.04470833333333333,
          "WTBDY_NM": "Nantucket Sound"
         },
         {
          "Chlorophyll A": 2.305,
          "NCA_REGION": "East Coast",
          "Total Nitrogen": 0.24,
          "Total Phosphorus": 0.031004999999999998,
          "WTBDY_NM": "Napeague Bay"
         },
         {
          "Chlorophyll A": 6.44,
          "NCA_REGION": "East Coast",
          "Total Nitrogen": 0.3640625,
          "Total Phosphorus": 0.060465625,
          "WTBDY_NM": "Narragansett Bay"
         },
         {
          "Chlorophyll A": 4.92608,
          "NCA_REGION": "East Coast",
          "Total Nitrogen": 0.27125,
          "Total Phosphorus": 0.036963125,
          "WTBDY_NM": "Narraguagus Bay"
         },
         {
          "Chlorophyll A": 6.8,
          "NCA_REGION": "East Coast",
          "Total Nitrogen": 0.27375,
          "Total Phosphorus": 0.04489625,
          "WTBDY_NM": "Nassau River System"
         },
         {
          "Chlorophyll A": 6.75,
          "NCA_REGION": "East Coast",
          "Total Nitrogen": 0.64625,
          "Total Phosphorus": 0.06214125,
          "WTBDY_NM": "Nassau Sound"
         },
         {
          "Chlorophyll A": 22.63,
          "NCA_REGION": "East Coast",
          "Total Nitrogen": 1.065,
          "Total Phosphorus": 0.411906,
          "WTBDY_NM": "Navesink River"
         },
         {
          "Chlorophyll A": 17.61,
          "NCA_REGION": "West Coast",
          "Total Nitrogen": 0.40125,
          "Total Phosphorus": 0.05588875,
          "WTBDY_NM": "Nestucca Bay"
         },
         {
          "Chlorophyll A": 1.87,
          "NCA_REGION": "West Coast",
          "Total Nitrogen": 0.42875,
          "Total Phosphorus": 0.0927025,
          "WTBDY_NM": "Netarts Bay"
         },
         {
          "Chlorophyll A": 9.47984,
          "NCA_REGION": "East Coast",
          "Total Nitrogen": 0.485,
          "Total Phosphorus": 0.09164625,
          "WTBDY_NM": "Neuse River"
         },
         {
          "Chlorophyll A": 4.81,
          "NCA_REGION": "East Coast",
          "Total Nitrogen": 0.299,
          "Total Phosphorus": 0.0456955,
          "WTBDY_NM": "New Meadows River"
         },
         {
          "Chlorophyll A": 8.55,
          "NCA_REGION": "East Coast",
          "Total Nitrogen": 0.40625,
          "Total Phosphorus": 0.0554725,
          "WTBDY_NM": "New River"
         },
         {
          "Chlorophyll A": 7.33,
          "NCA_REGION": "East Coast",
          "Total Nitrogen": 1.443,
          "Total Phosphorus": 0.27319875,
          "WTBDY_NM": "Newark Bay"
         },
         {
          "Chlorophyll A": 13.99,
          "NCA_REGION": "East Coast",
          "Total Nitrogen": 1.565,
          "Total Phosphorus": 0.065768625,
          "WTBDY_NM": "Newfound Harbor"
         },
         {
          "Chlorophyll A": 2.43,
          "NCA_REGION": "West Coast",
          "Total Nitrogen": 0.21125,
          "Total Phosphorus": 0.0409975,
          "WTBDY_NM": "Newport Bay"
         },
         {
          "Chlorophyll A": 2.35,
          "NCA_REGION": "East Coast",
          "Total Nitrogen": 0.48875,
          "Total Phosphorus": 0.03009,
          "WTBDY_NM": "Newport River"
         },
         {
          "Chlorophyll A": 4.1,
          "NCA_REGION": "East Coast",
          "Total Nitrogen": 0.27125,
          "Total Phosphorus": 0.05416375,
          "WTBDY_NM": "Noyack Bay"
         },
         {
          "Chlorophyll A": 17.44,
          "NCA_REGION": "Gulf Coast",
          "Total Nitrogen": 0.9612499999999999,
          "Total Phosphorus": 0.18342999999999998,
          "WTBDY_NM": "Nueches Bay"
         },
         {
          "Chlorophyll A": null,
          "NCA_REGION": "Gulf Coast",
          "Total Nitrogen": 0.49625,
          "Total Phosphorus": 0.05009625,
          "WTBDY_NM": "Ochlockonee Bay"
         },
         {
          "Chlorophyll A": 9.91,
          "NCA_REGION": "Gulf Coast",
          "Total Nitrogen": 0.62,
          "Total Phosphorus": 0.055835,
          "WTBDY_NM": "Ochlockonee River System"
         },
         {
          "Chlorophyll A": 3.87,
          "NCA_REGION": "Gulf Coast",
          "Total Nitrogen": 0.425,
          "Total Phosphorus": 0.0835825,
          "WTBDY_NM": "Old Tampa Bay"
         },
         {
          "Chlorophyll A": 9.78,
          "NCA_REGION": "West Coast",
          "Total Nitrogen": 0.34125,
          "Total Phosphorus": 0.07432,
          "WTBDY_NM": "Palix River"
         },
         {
          "Chlorophyll A": 15.290000000000001,
          "NCA_REGION": "East Coast",
          "Total Nitrogen": 0.64375,
          "Total Phosphorus": 0.04427625,
          "WTBDY_NM": "Pamlico River"
         },
         {
          "Chlorophyll A": 6.619291428571429,
          "NCA_REGION": "East Coast",
          "Total Nitrogen": 0.4735892857142857,
          "Total Phosphorus": 0.041090214285714285,
          "WTBDY_NM": "Pamlico Sound"
         },
         {
          "Chlorophyll A": 31.66,
          "NCA_REGION": "Gulf Coast",
          "Total Nitrogen": 1.7355,
          "Total Phosphorus": 0.247353125,
          "WTBDY_NM": "Pass A Loutre"
         },
         {
          "Chlorophyll A": 28.41,
          "NCA_REGION": "East Coast",
          "Total Nitrogen": 0.46,
          "Total Phosphorus": 0.1152,
          "WTBDY_NM": "Patuxent River"
         },
         {
          "Chlorophyll A": 9.215,
          "NCA_REGION": "Gulf Coast",
          "Total Nitrogen": 0.808125,
          "Total Phosphorus": 0.460542375,
          "WTBDY_NM": "Peace River"
         },
         {
          "Chlorophyll A": 4.66,
          "NCA_REGION": "Gulf Coast",
          "Total Nitrogen": 0.204375,
          "Total Phosphorus": 0.018179374999999998,
          "WTBDY_NM": "Pelican Bay"
         },
         {
          "Chlorophyll A": 2.39,
          "NCA_REGION": "East Coast",
          "Total Nitrogen": 0.31625,
          "Total Phosphorus": 0.03344125,
          "WTBDY_NM": "Penobscot River"
         },
         {
          "Chlorophyll A": 2.775,
          "NCA_REGION": "Gulf Coast",
          "Total Nitrogen": 0.326875,
          "Total Phosphorus": 0.016761875000000002,
          "WTBDY_NM": "Pensacola Bay"
         },
         {
          "Chlorophyll A": 11.07,
          "NCA_REGION": "Gulf Coast",
          "Total Nitrogen": 0.53125,
          "Total Phosphorus": 0.021445,
          "WTBDY_NM": "Perdido Bay"
         },
         {
          "Chlorophyll A": 4.24,
          "NCA_REGION": "Gulf Coast",
          "Total Nitrogen": 0.348125,
          "Total Phosphorus": 0.029493125,
          "WTBDY_NM": "Pine Island Sound"
         },
         {
          "Chlorophyll A": 5.78,
          "NCA_REGION": "East Coast",
          "Total Nitrogen": 0.543,
          "Total Phosphorus": 0.036333333333333336,
          "WTBDY_NM": "Piscataqua River"
         },
         {
          "Chlorophyll A": 4.10984,
          "NCA_REGION": "East Coast",
          "Total Nitrogen": 0.25875,
          "Total Phosphorus": 0.031315625,
          "WTBDY_NM": "Pleasant Bay"
         },
         {
          "Chlorophyll A": 3.18,
          "NCA_REGION": "East Coast",
          "Total Nitrogen": 0.23,
          "Total Phosphorus": 0.03525375,
          "WTBDY_NM": "Plum Island Sound"
         },
         {
          "Chlorophyll A": 4.52,
          "NCA_REGION": "East Coast",
          "Total Nitrogen": 0.25125,
          "Total Phosphorus": 0.03079375,
          "WTBDY_NM": "Plymouth Bay"
         },
         {
          "Chlorophyll A": 14.8,
          "NCA_REGION": "East Coast",
          "Total Nitrogen": 0.943,
          "Total Phosphorus": 0.0941,
          "WTBDY_NM": "Pocomoke River"
         },
         {
          "Chlorophyll A": 8.034,
          "NCA_REGION": "East Coast",
          "Total Nitrogen": 0.3714,
          "Total Phosphorus": 0.05134,
          "WTBDY_NM": "Pocomoke Sound"
         },
         {
          "Chlorophyll A": 2.95,
          "NCA_REGION": "East Coast",
          "Total Nitrogen": 0.3,
          "Total Phosphorus": 0.04830375,
          "WTBDY_NM": "Popponesset Bay"
         },
         {
          "Chlorophyll A": 4.67,
          "NCA_REGION": "West Coast",
          "Total Nitrogen": 0.34375,
          "Total Phosphorus": 0.0574275,
          "WTBDY_NM": "Port Gamble Bay"
         },
         {
          "Chlorophyll A": 22.2,
          "NCA_REGION": "West Coast",
          "Total Nitrogen": 0.3475,
          "Total Phosphorus": 0.06573875,
          "WTBDY_NM": "Port Orchard"
         },
         {
          "Chlorophyll A": 1.79,
          "NCA_REGION": "West Coast",
          "Total Nitrogen": 0.19125,
          "Total Phosphorus": 0.0271,
          "WTBDY_NM": "Port Susan"
         },
         {
          "Chlorophyll A": 8.35,
          "NCA_REGION": "East Coast",
          "Total Nitrogen": 0.75,
          "Total Phosphorus": 0.0748,
          "WTBDY_NM": "Port Tobacco River"
         },
         {
          "Chlorophyll A": 18.36,
          "NCA_REGION": "Gulf Coast",
          "Total Nitrogen": 0.633625,
          "Total Phosphorus": 0.08006675,
          "WTBDY_NM": "Portersville Bay"
         },
         {
          "Chlorophyll A": 1.25,
          "NCA_REGION": "West Coast",
          "Total Nitrogen": 0.23875,
          "Total Phosphorus": 0.040385,
          "WTBDY_NM": "Possession Sound"
         },
         {
          "Chlorophyll A": 10.3775,
          "NCA_REGION": "East Coast",
          "Total Nitrogen": 0.509375,
          "Total Phosphorus": 0.043699999999999996,
          "WTBDY_NM": "Potomac River"
         },
         {
          "Chlorophyll A": 12.03,
          "NCA_REGION": "East Coast",
          "Total Nitrogen": 0.54625,
          "Total Phosphorus": 0.14101,
          "WTBDY_NM": "Providence River"
         },
         {
          "Chlorophyll A": 8.854064,
          "NCA_REGION": "West Coast",
          "Total Nitrogen": 0.3355,
          "Total Phosphorus": 0.053549099999999995,
          "WTBDY_NM": "Puget Sound"
         },
         {
          "Chlorophyll A": 19.9,
          "NCA_REGION": "East Coast",
          "Total Nitrogen": 0.916875,
          "Total Phosphorus": 0.052929375,
          "WTBDY_NM": "Pungo River"
         },
         {
          "Chlorophyll A": 3.93,
          "NCA_REGION": "East Coast",
          "Total Nitrogen": 0.23625,
          "Total Phosphorus": 0.03467375,
          "WTBDY_NM": "Quincy Bay"
         },
         {
          "Chlorophyll A": 6.75,
          "NCA_REGION": "East Coast",
          "Total Nitrogen": 0.638,
          "Total Phosphorus": 0.0592,
          "WTBDY_NM": "Rappahannock River"
         },
         {
          "Chlorophyll A": 73.07,
          "NCA_REGION": "East Coast",
          "Total Nitrogen": 1.398,
          "Total Phosphorus": 0.27027,
          "WTBDY_NM": "Raritan Bay"
         },
         {
          "Chlorophyll A": 16.34,
          "NCA_REGION": "East Coast",
          "Total Nitrogen": 0.74,
          "Total Phosphorus": 0.0325475,
          "WTBDY_NM": "Roanoke Sound"
         },
         {
          "Chlorophyll A": 8.96,
          "NCA_REGION": "East Coast",
          "Total Nitrogen": 0.54125,
          "Total Phosphorus": 0.04322125,
          "WTBDY_NM": "Rose Bay"
         },
         {
          "Chlorophyll A": 11.18,
          "NCA_REGION": "Gulf Coast",
          "Total Nitrogen": 0.52,
          "Total Phosphorus": 0.052765,
          "WTBDY_NM": "Sabine Lake"
         },
         {
          "Chlorophyll A": 12.27,
          "NCA_REGION": "Gulf Coast",
          "Total Nitrogen": 0.51875,
          "Total Phosphorus": 0.07862125,
          "WTBDY_NM": "Sabine Pass"
         },
         {
          "Chlorophyll A": 1.28,
          "NCA_REGION": "East Coast",
          "Total Nitrogen": 0.29125,
          "Total Phosphorus": 0.02624875,
          "WTBDY_NM": "Saco Bay"
         },
         {
          "Chlorophyll A": 21.416666666666668,
          "NCA_REGION": "East Coast",
          "Total Nitrogen": 1.0076666666666667,
          "Total Phosphorus": 0.08089333333333333,
          "WTBDY_NM": "Saint Johns River"
         },
         {
          "Chlorophyll A": 8.24,
          "NCA_REGION": "East Coast",
          "Total Nitrogen": 0.38916666666666666,
          "Total Phosphorus": 0.08014416666666667,
          "WTBDY_NM": "Sakonnet River"
         },
         {
          "Chlorophyll A": 3.31,
          "NCA_REGION": "East Coast",
          "Total Nitrogen": 0.19375,
          "Total Phosphorus": 0.01972125,
          "WTBDY_NM": "Salem Sound"
         },
         {
          "Chlorophyll A": 11.42,
          "NCA_REGION": "Gulf Coast",
          "Total Nitrogen": 0.653125,
          "Total Phosphorus": 0.1362425,
          "WTBDY_NM": "San Antonio Bay"
         },
         {
          "Chlorophyll A": 2.54,
          "NCA_REGION": "Gulf Coast",
          "Total Nitrogen": 0.289375,
          "Total Phosphorus": 0.028940625,
          "WTBDY_NM": "San Carlos Bay"
         },
         {
          "Chlorophyll A": 3.13125,
          "NCA_REGION": "West Coast",
          "Total Nitrogen": 0.25315625,
          "Total Phosphorus": 0.04838853125,
          "WTBDY_NM": "San Diego Bay"
         },
         {
          "Chlorophyll A": 11.2,
          "NCA_REGION": "West Coast",
          "Total Nitrogen": 0.4825,
          "Total Phosphorus": 0.05289625,
          "WTBDY_NM": "San Luis Obispo Bay"
         },
         {
          "Chlorophyll A": 2.384,
          "NCA_REGION": "West Coast",
          "Total Nitrogen": 0.6615,
          "Total Phosphorus": 0.12788475000000002,
          "WTBDY_NM": "San Pablo Bay"
         },
         {
          "Chlorophyll A": 6.484999999999999,
          "NCA_REGION": "Gulf Coast",
          "Total Nitrogen": 0.40375,
          "Total Phosphorus": 0.025748125,
          "WTBDY_NM": "Santa Rosa Sound"
         },
         {
          "Chlorophyll A": 7.15,
          "NCA_REGION": "Gulf Coast",
          "Total Nitrogen": 0.43,
          "Total Phosphorus": 0.03129125,
          "WTBDY_NM": "Sarasota Bay"
         },
         {
          "Chlorophyll A": 3.32,
          "NCA_REGION": "West Coast",
          "Total Nitrogen": 0.23875,
          "Total Phosphorus": 0.04299125,
          "WTBDY_NM": "Saratoga Passage"
         },
         {
          "Chlorophyll A": 7.5,
          "NCA_REGION": "East Coast",
          "Total Nitrogen": 0.96,
          "Total Phosphorus": 0.0952675,
          "WTBDY_NM": "Savanna River"
         },
         {
          "Chlorophyll A": 6.28,
          "NCA_REGION": "Gulf Coast",
          "Total Nitrogen": 2.263,
          "Total Phosphorus": 0.235625,
          "WTBDY_NM": "Scott Bay"
         },
         {
          "Chlorophyll A": 5.21248,
          "NCA_REGION": "East Coast",
          "Total Nitrogen": 0.39875,
          "Total Phosphorus": 0.05224375,
          "WTBDY_NM": "Sengekontacket Pond"
         },
         {
          "Chlorophyll A": 12.03,
          "NCA_REGION": "East Coast",
          "Total Nitrogen": 0.460625,
          "Total Phosphorus": 0.0758,
          "WTBDY_NM": "Sewee Bay"
         },
         {
          "Chlorophyll A": 4.28,
          "NCA_REGION": "East Coast",
          "Total Nitrogen": 0.20875,
          "Total Phosphorus": 0.03414375,
          "WTBDY_NM": "Sheepscot Bay"
         },
         {
          "Chlorophyll A": 2.1,
          "NCA_REGION": "East Coast",
          "Total Nitrogen": 0.34125,
          "Total Phosphorus": 0.04478875,
          "WTBDY_NM": "Sheepscot River"
         },
         {
          "Chlorophyll A": 33.51,
          "NCA_REGION": "East Coast",
          "Total Nitrogen": 0.86375,
          "Total Phosphorus": 0.2558625,
          "WTBDY_NM": "Shrewsbury River"
         },
         {
          "Chlorophyll A": 11.58,
          "NCA_REGION": "West Coast",
          "Total Nitrogen": 0.2675,
          "Total Phosphorus": 0.03471,
          "WTBDY_NM": "Siuslaw River"
         },
         {
          "Chlorophyll A": 12.36,
          "NCA_REGION": "West Coast",
          "Total Nitrogen": 0.28,
          "Total Phosphorus": 0.076725,
          "WTBDY_NM": "Skagit Bay"
         },
         {
          "Chlorophyll A": 7.946000000000001,
          "NCA_REGION": "West Coast",
          "Total Nitrogen": 0.6585,
          "Total Phosphorus": 0.2699475,
          "WTBDY_NM": "South Bay"
         },
         {
          "Chlorophyll A": 13.4,
          "NCA_REGION": "East Coast",
          "Total Nitrogen": 0.6525000000000001,
          "Total Phosphorus": 0.112566875,
          "WTBDY_NM": "South Edisto River"
         },
         {
          "Chlorophyll A": 3.07,
          "NCA_REGION": "Gulf Coast",
          "Total Nitrogen": 2.093,
          "Total Phosphorus": 0.25604375,
          "WTBDY_NM": "South Pass"
         },
         {
          "Chlorophyll A": 14.98,
          "NCA_REGION": "East Coast",
          "Total Nitrogen": 0.6275,
          "Total Phosphorus": 0.15157875,
          "WTBDY_NM": "South River"
         },
         {
          "Chlorophyll A": 2.7208,
          "NCA_REGION": "West Coast",
          "Total Nitrogen": 0.41375,
          "Total Phosphorus": 0.089601875,
          "WTBDY_NM": "South Slough"
         },
         {
          "Chlorophyll A": 1.51,
          "NCA_REGION": "Gulf Coast",
          "Total Nitrogen": 0.2275,
          "Total Phosphorus": 0.009526125,
          "WTBDY_NM": "St. Andrew Bay"
         },
         {
          "Chlorophyll A": 5.9775,
          "NCA_REGION": "Gulf Coast",
          "Total Nitrogen": 0.39275,
          "Total Phosphorus": 0.0290631875,
          "WTBDY_NM": "St. George Sound"
         },
         {
          "Chlorophyll A": 12.879999999999999,
          "NCA_REGION": "East Coast",
          "Total Nitrogen": 0.6843750000000001,
          "Total Phosphorus": 0.12444937500000001,
          "WTBDY_NM": "St. Helena Sound"
         },
         {
          "Chlorophyll A": 2.5,
          "NCA_REGION": "Gulf Coast",
          "Total Nitrogen": 0.261875,
          "Total Phosphorus": 0.017600375,
          "WTBDY_NM": "St. Joseph Bay"
         },
         {
          "Chlorophyll A": 9.38,
          "NCA_REGION": "Gulf Coast",
          "Total Nitrogen": 0.4775,
          "Total Phosphorus": 0.02232375,
          "WTBDY_NM": "St. Joseph Sound"
         },
         {
          "Chlorophyll A": 19.33,
          "NCA_REGION": "East Coast",
          "Total Nitrogen": 0.49375,
          "Total Phosphorus": 0.1344575,
          "WTBDY_NM": "St. Simeon Sound"
         },
         {
          "Chlorophyll A": 4.17,
          "NCA_REGION": "East Coast",
          "Total Nitrogen": 0.2675,
          "Total Phosphorus": 0.02963875,
          "WTBDY_NM": "Stockton Harbor"
         },
         {
          "Chlorophyll A": 7.835,
          "NCA_REGION": "East Coast",
          "Total Nitrogen": 0.5325,
          "Total Phosphorus": 0.11490875,
          "WTBDY_NM": "Stono River"
         },
         {
          "Chlorophyll A": 0.58,
          "NCA_REGION": "West Coast",
          "Total Nitrogen": 0.58625,
          "Total Phosphorus": 0.0761825,
          "WTBDY_NM": "Strait of Juan de Fuca"
         },
         {
          "Chlorophyll A": 1.9600000000000002,
          "NCA_REGION": "West Coast",
          "Total Nitrogen": 0.5535714285714286,
          "Total Phosphorus": 0.10530267857142858,
          "WTBDY_NM": "Suisun Bay"
         },
         {
          "Chlorophyll A": 2.8800000000000003,
          "NCA_REGION": "Gulf Coast",
          "Total Nitrogen": 0.2783333333333333,
          "Total Phosphorus": 0.05904958333333333,
          "WTBDY_NM": "Tampa Bay"
         },
         {
          "Chlorophyll A": 12.97,
          "NCA_REGION": "Gulf Coast",
          "Total Nitrogen": 0.724375,
          "Total Phosphorus": 0.083614375,
          "WTBDY_NM": "Tarpon Bay"
         },
         {
          "Chlorophyll A": 10.39,
          "NCA_REGION": "Gulf Coast",
          "Total Nitrogen": 0.6725,
          "Total Phosphorus": 0.07369875,
          "WTBDY_NM": "Terrebone Bay"
         },
         {
          "Chlorophyll A": 5.3,
          "NCA_REGION": "East Coast",
          "Total Nitrogen": 0.31,
          "Total Phosphorus": 0.067,
          "WTBDY_NM": "Thames River"
         },
         {
          "Chlorophyll A": 3.85,
          "NCA_REGION": "Gulf Coast",
          "Total Nitrogen": 0.36125,
          "Total Phosphorus": 0.02040375,
          "WTBDY_NM": "The Narrows"
         },
         {
          "Chlorophyll A": 4.803333333333334,
          "NCA_REGION": "West Coast",
          "Total Nitrogen": 0.3458333333333334,
          "Total Phosphorus": 0.04539458333333333,
          "WTBDY_NM": "Tillamook Bay"
         },
         {
          "Chlorophyll A": 19.329155556666667,
          "NCA_REGION": "Gulf Coast",
          "Total Nitrogen": 0.7437083333333333,
          "Total Phosphorus": 0.07095095833333333,
          "WTBDY_NM": "Timbalier Bay"
         },
         {
          "Chlorophyll A": 5.86,
          "NCA_REGION": "West Coast",
          "Total Nitrogen": 0.410625,
          "Total Phosphorus": 0.07872124999999999,
          "WTBDY_NM": "Tomales Bay"
         },
         {
          "Chlorophyll A": 16.18,
          "NCA_REGION": "East Coast",
          "Total Nitrogen": 0.82,
          "Total Phosphorus": 0.049410625,
          "WTBDY_NM": "Toms River"
         },
         {
          "Chlorophyll A": 0.42,
          "NCA_REGION": "Gulf Coast",
          "Total Nitrogen": 0.3825,
          "Total Phosphorus": 0.00456875,
          "WTBDY_NM": "Torch Key Mangroves"
         },
         {
          "Chlorophyll A": 24.77,
          "NCA_REGION": "Gulf Coast",
          "Total Nitrogen": 0.7875,
          "Total Phosphorus": 0.167255,
          "WTBDY_NM": "Tres Palacios Bay"
         },
         {
          "Chlorophyll A": 9.344999999999999,
          "NCA_REGION": "East Coast",
          "Total Nitrogen": 0.700625,
          "Total Phosphorus": 0.1303025,
          "WTBDY_NM": "Trout River"
         },
         {
          "Chlorophyll A": 8.85,
          "NCA_REGION": "East Coast",
          "Total Nitrogen": 0.75375,
          "Total Phosphorus": 0.180485,
          "WTBDY_NM": "Turtle River"
         },
         {
          "Chlorophyll A": 30.26,
          "NCA_REGION": "West Coast",
          "Total Nitrogen": 0.57625,
          "Total Phosphorus": 0.089455625,
          "WTBDY_NM": "Umpqua River"
         },
         {
          "Chlorophyll A": 1.31,
          "NCA_REGION": "East Coast",
          "Total Nitrogen": 0.18875,
          "Total Phosphorus": 0.027455625,
          "WTBDY_NM": "Union River Bay"
         },
         {
          "Chlorophyll A": 13.63,
          "NCA_REGION": "East Coast",
          "Total Nitrogen": 0.60875,
          "Total Phosphorus": 0.05833375,
          "WTBDY_NM": "Upper Broad Creek"
         },
         {
          "Chlorophyll A": 31.294999999999998,
          "NCA_REGION": "East Coast",
          "Total Nitrogen": 0.983,
          "Total Phosphorus": 0.12115000000000001,
          "WTBDY_NM": "Upper James River"
         },
         {
          "Chlorophyll A": 3.76,
          "NCA_REGION": "West Coast",
          "Total Nitrogen": 0.24625,
          "Total Phosphorus": 0.04569375,
          "WTBDY_NM": "Useless Bay"
         },
         {
          "Chlorophyll A": 29.7856,
          "NCA_REGION": "Gulf Coast",
          "Total Nitrogen": 1.075,
          "Total Phosphorus": 0.1765725,
          "WTBDY_NM": "Vermilion Bay"
         },
         {
          "Chlorophyll A": 17.47,
          "NCA_REGION": "East Coast",
          "Total Nitrogen": 0.865,
          "Total Phosphorus": 0.073774375,
          "WTBDY_NM": "WINYAH BAY"
         },
         {
          "Chlorophyll A": 14.8,
          "NCA_REGION": "East Coast",
          "Total Nitrogen": 0.5,
          "Total Phosphorus": 0.0823,
          "WTBDY_NM": "Warwick River"
         },
         {
          "Chlorophyll A": 18.53,
          "NCA_REGION": "East Coast",
          "Total Nitrogen": 0.58125,
          "Total Phosphorus": 0.12839625,
          "WTBDY_NM": "Wassaw Sound"
         },
         {
          "Chlorophyll A": 1.84,
          "NCA_REGION": "East Coast",
          "Total Nitrogen": 0.2725,
          "Total Phosphorus": 0.02547,
          "WTBDY_NM": "Wells Embayment"
         },
         {
          "Chlorophyll A": 20.29,
          "NCA_REGION": "East Coast",
          "Total Nitrogen": 2.005,
          "Total Phosphorus": 0.24391125,
          "WTBDY_NM": "West / East Creeks"
         },
         {
          "Chlorophyll A": 11.69,
          "NCA_REGION": "Gulf Coast",
          "Total Nitrogen": 0.628125,
          "Total Phosphorus": 0.08729875,
          "WTBDY_NM": "West Bay"
         },
         {
          "Chlorophyll A": 2.13,
          "NCA_REGION": "Gulf Coast",
          "Total Nitrogen": 0.273375,
          "Total Phosphorus": 0.01146275,
          "WTBDY_NM": "West Bay (St. Andrew)"
         },
         {
          "Chlorophyll A": 15.126,
          "NCA_REGION": "Gulf Coast",
          "Total Nitrogen": 1.27955,
          "Total Phosphorus": 0.17174,
          "WTBDY_NM": "West Cote Blanche Bay"
         },
         {
          "Chlorophyll A": 2.8561555555,
          "NCA_REGION": "East Coast",
          "Total Nitrogen": 0.2203125,
          "Total Phosphorus": 0.0365040625,
          "WTBDY_NM": "West Penobscot Bay"
         },
         {
          "Chlorophyll A": 3.75,
          "NCA_REGION": "East Coast",
          "Total Nitrogen": 0.2625,
          "Total Phosphorus": 0.025604375,
          "WTBDY_NM": "Western Bay"
         },
         {
          "Chlorophyll A": 15.095,
          "NCA_REGION": "East Coast",
          "Total Nitrogen": 0.600625,
          "Total Phosphorus": 0.079415625,
          "WTBDY_NM": "Westport River"
         },
         {
          "Chlorophyll A": 4.07,
          "NCA_REGION": "East Coast",
          "Total Nitrogen": 0.34375,
          "Total Phosphorus": 0.062955,
          "WTBDY_NM": "Weymouth Fore River/Town River"
         },
         {
          "Chlorophyll A": 6.38,
          "NCA_REGION": "Gulf Coast",
          "Total Nitrogen": 0.495,
          "Total Phosphorus": 0.0413525,
          "WTBDY_NM": "White Lake"
         },
         {
          "Chlorophyll A": 9.79,
          "NCA_REGION": "East Coast",
          "Total Nitrogen": 0.6325,
          "Total Phosphorus": 0.09063625,
          "WTBDY_NM": "White Oak River"
         },
         {
          "Chlorophyll A": 2.25,
          "NCA_REGION": "Gulf Coast",
          "Total Nitrogen": 0.65875,
          "Total Phosphorus": 0.01457125,
          "WTBDY_NM": "Whitewater Bay"
         },
         {
          "Chlorophyll A": 18.08,
          "NCA_REGION": "Gulf Coast",
          "Total Nitrogen": 0.70375,
          "Total Phosphorus": 0.091095,
          "WTBDY_NM": "Whitney River"
         },
         {
          "Chlorophyll A": 20.22,
          "NCA_REGION": "East Coast",
          "Total Nitrogen": 0.85,
          "Total Phosphorus": 0.083,
          "WTBDY_NM": "Wicomico River"
         },
         {
          "Chlorophyll A": 5.189,
          "NCA_REGION": "West Coast",
          "Total Nitrogen": 0.3236111111111111,
          "Total Phosphorus": 0.07520694444444445,
          "WTBDY_NM": "Willapa Bay"
         },
         {
          "Chlorophyll A": 15.02,
          "NCA_REGION": "East Coast",
          "Total Nitrogen": 0.57,
          "Total Phosphorus": 0.0534,
          "WTBDY_NM": "Wye River"
         },
         {
          "Chlorophyll A": 6.01,
          "NCA_REGION": "West Coast",
          "Total Nitrogen": 0.4225,
          "Total Phosphorus": 0.07031875,
          "WTBDY_NM": "Yaquina Bay"
         },
         {
          "Chlorophyll A": 3.34,
          "NCA_REGION": "West Coast",
          "Total Nitrogen": 0.37875,
          "Total Phosphorus": 0.06652,
          "WTBDY_NM": "Yaquina River"
         },
         {
          "Chlorophyll A": 8.33,
          "NCA_REGION": "East Coast",
          "Total Nitrogen": 0.464,
          "Total Phosphorus": 0.07495,
          "WTBDY_NM": "York River"
         },
         {
          "Chlorophyll A": 4.993333333333333,
          "NCA_REGION": "West Coast",
          "Total Nitrogen": 0.3258333333333333,
          "Total Phosphorus": 0.060796249999999996,
          "WTBDY_NM": "Youngs Bay"
         }
        ]
       },
       "hconcat": [
        {
         "layer": [
          {
           "encoding": {
            "x": {
             "field": "Total Phosphorus",
             "scale": {
              "type": "sqrt"
             },
             "type": "quantitative"
            },
            "y": {
             "field": "Chlorophyll A",
             "scale": {
              "type": "sqrt"
             },
             "type": "quantitative"
            }
           },
           "mark": {
            "color": "orange",
            "opacity": 0.4,
            "type": "circle"
           },
           "title": "Availability vs. Productivity"
          },
          {
           "encoding": {
            "x": {
             "field": "Total Phosphorus",
             "scale": {
              "type": "sqrt"
             },
             "type": "quantitative"
            },
            "y": {
             "field": "Chlorophyll A",
             "scale": {
              "type": "sqrt"
             },
             "type": "quantitative"
            }
           },
           "mark": {
            "color": "orange",
            "type": "line"
           },
           "title": "Availability vs. Productivity",
           "transform": [
            {
             "bandwidth": 0.8,
             "loess": "Chlorophyll A",
             "on": "Total Phosphorus"
            }
           ]
          },
          {
           "layer": [
            {
             "encoding": {
              "x": {
               "field": "Total Nitrogen",
               "scale": {
                "type": "sqrt"
               },
               "type": "quantitative"
              },
              "y": {
               "field": "Chlorophyll A",
               "scale": {
                "type": "sqrt"
               },
               "type": "quantitative"
              }
             },
             "mark": {
              "color": "blue",
              "opacity": 0.4,
              "type": "circle"
             },
             "title": "Availability vs. Productivity"
            },
            {
             "encoding": {
              "x": {
               "field": "Total Nitrogen",
               "scale": {
                "type": "sqrt"
               },
               "type": "quantitative"
              },
              "y": {
               "field": "Chlorophyll A",
               "scale": {
                "type": "sqrt"
               },
               "type": "quantitative"
              }
             },
             "mark": {
              "color": "blue",
              "type": "line"
             },
             "title": "Availability vs. Productivity",
             "transform": [
              {
               "bandwidth": 0.8,
               "loess": "Chlorophyll A",
               "on": "Total Nitrogen"
              }
             ]
            }
           ]
          }
         ]
        },
        {
         "layer": [
          {
           "encoding": {
            "x": {
             "field": "Total Nitrogen",
             "scale": {
              "type": "sqrt"
             },
             "type": "quantitative"
            },
            "y": {
             "field": "Total Phosphorus",
             "scale": {
              "type": "sqrt"
             },
             "type": "quantitative"
            }
           },
           "mark": {
            "color": "green",
            "opacity": 0.4,
            "type": "circle"
           },
           "title": "Nitrogen vs. Phosphorus"
          },
          {
           "encoding": {
            "x": {
             "field": "Total Nitrogen",
             "scale": {
              "type": "sqrt"
             },
             "type": "quantitative"
            },
            "y": {
             "field": "Total Phosphorus",
             "scale": {
              "type": "sqrt"
             },
             "type": "quantitative"
            }
           },
           "mark": {
            "color": "green",
            "type": "line"
           },
           "title": "Nitrogen vs. Phosphorus",
           "transform": [
            {
             "bandwidth": 0.8,
             "loess": "Total Phosphorus",
             "on": "Total Nitrogen"
            }
           ]
          }
         ]
        }
       ]
      },
      "image/png": "[encoded data removed]",
      "text/plain": [
       "<VegaLite 5 object>\n",
       "\n",
       "If you see this message, it means the renderer has not been properly enabled\n",
       "for the frontend that you are using. For more information, see\n",
       "https://altair-viz.github.io/user_guide/display_frontends.html#troubleshooting\n"
      ]
     },
     "execution_count": 6,
     "metadata": {},
     "output_type": "execute_result"
    }
   ],
   "source": [
    "phosphorus_plot + nitrogen_plot | np_plot"
   ]
  },
  {
   "cell_type": "markdown",
   "id": "a41e41f2-1212-4353-a419-0b0990cddcca",
   "metadata": {},
   "source": [
    "#### Nutrient Availability by Region  \n",
    "Among US coastal regions, there seem to be some notable differences in available nutrients. From the plots below, we see that in terms of nitrogen concentration, the Gulf Coast has the most, and in terms of phosphorus concentration, the Great Lakes have by far the least. In terms of total available nutrients, the Gulf Coast has by far the most, the East and West Coast are close and make up the middle of the pack, and the Great Lakes have the least."
   ]
  },
  {
   "cell_type": "code",
   "execution_count": 7,
   "id": "343e25a7-6135-4c90-ba00-18ccfeb53042",
   "metadata": {},
   "outputs": [
    {
     "data": {
      "application/vnd.vegalite.v5+json": {
       "$schema": "https://vega.github.io/schema/vega-lite/v5.16.3.json",
       "config": {
        "view": {
         "continuousHeight": 300,
         "continuousWidth": 300
        }
       },
       "data": {
        "name": "data-802d906868106c0673e81b6b472ab5b2"
       },
       "datasets": {
        "data-802d906868106c0673e81b6b472ab5b2": [
         {
          "Chlorophyll A": 10.61778496655346,
          "NCA_REGION": "East Coast",
          "Total Nitrogen": 0.5298835403726708,
          "Total Phosphorus": 0.06986698874223603
         },
         {
          "Chlorophyll A": 4.475248495,
          "NCA_REGION": "Great Lakes",
          "Total Nitrogen": 0.5033358208955224,
          "Total Phosphorus": 0.013019321828358209
         },
         {
          "Chlorophyll A": 11.603817609832618,
          "NCA_REGION": "Gulf Coast",
          "Total Nitrogen": 0.68925,
          "Total Phosphorus": 0.09447358527542372
         },
         {
          "Chlorophyll A": 5.545900458015267,
          "NCA_REGION": "West Coast",
          "Total Nitrogen": 0.412793893129771,
          "Total Phosphorus": 0.08549806202290076
         }
        ]
       },
       "hconcat": [
        {
         "encoding": {
          "x": {
           "field": "NCA_REGION",
           "type": "nominal"
          },
          "y": {
           "field": "Total Nitrogen",
           "type": "quantitative"
          }
         },
         "height": 200,
         "mark": {
          "color": "blue",
          "type": "bar"
         },
         "width": 200
        },
        {
         "encoding": {
          "x": {
           "field": "NCA_REGION",
           "type": "nominal"
          },
          "y": {
           "field": "Total Phosphorus",
           "type": "quantitative"
          }
         },
         "height": 200,
         "mark": {
          "color": "orange",
          "type": "bar"
         },
         "width": 200
        }
       ]
      },
      "image/png": "[encoded data removed]",
      "text/plain": [
       "<VegaLite 5 object>\n",
       "\n",
       "If you see this message, it means the renderer has not been properly enabled\n",
       "for the frontend that you are using. For more information, see\n",
       "https://altair-viz.github.io/user_guide/display_frontends.html#troubleshooting\n"
      ]
     },
     "execution_count": 7,
     "metadata": {},
     "output_type": "execute_result"
    }
   ],
   "source": [
    "nregion_plot | pregion_plot"
   ]
  },
  {
   "cell_type": "markdown",
   "id": "035c613d-bc8a-4e74-9c74-696f64a4f5e1",
   "metadata": {},
   "source": [
    "#### Productivity by Region and State  \n",
    "Based on the 2010 data, productivity does seem to vary geographically. From the plots below, we see that the Gulf Coast and the East Coast have much more chlorophyll A than the West Coast and the Great Lakes. From the availability plots in the previous plots, I expected the Gulf Coast to have the most productivity and the Great Lakes to have the least, but I also expected the East and West Coast to be quite close. The large disparity in productivity between the east and west coast suggests that nitrogen might have a larger impact on productivity than phosphorus."
   ]
  },
  {
   "cell_type": "code",
   "execution_count": 8,
   "id": "8522e75e-f430-4264-8d5a-0ea4f5ab228a",
   "metadata": {},
   "outputs": [
    {
     "data": {
      "application/vnd.vegalite.v5+json": {
       "$schema": "https://vega.github.io/schema/vega-lite/v5.16.3.json",
       "config": {
        "view": {
         "continuousHeight": 300,
         "continuousWidth": 300
        }
       },
       "datasets": {
        "data-31693c58f224ab4b478e797bd9ca69d5": [
         {
          "Chlorophyll A": 10.476470588235294,
          "STATE": "AL",
          "Total Nitrogen": 0.40786029411764707,
          "Total Phosphorus": 0.04836841176470589
         },
         {
          "Chlorophyll A": 4.0916610169491525,
          "STATE": "CA",
          "Total Nitrogen": 0.48425635593220334,
          "Total Phosphorus": 0.11569880296610169
         },
         {
          "Chlorophyll A": 4.1625,
          "STATE": "CT",
          "Total Nitrogen": 0.235875,
          "Total Phosphorus": 0.0605
         },
         {
          "Chlorophyll A": 12.39,
          "STATE": "DE",
          "Total Nitrogen": 0.99875,
          "Total Phosphorus": 0.10339612499999999
         },
         {
          "Chlorophyll A": 6.724065039677777,
          "STATE": "FL",
          "Total Nitrogen": 0.5604677419354839,
          "Total Phosphorus": 0.04728506854838709
         },
         {
          "Chlorophyll A": 16.495714285714286,
          "STATE": "GA",
          "Total Nitrogen": 0.6096428571428572,
          "Total Phosphorus": 0.12777339285714287
         },
         {
          "Chlorophyll A": 0.45,
          "STATE": "IL",
          "Total Nitrogen": 0.403125,
          "Total Phosphorus": 0.0061165625000000005
         },
         {
          "Chlorophyll A": 4.135088888888889,
          "STATE": "IN",
          "Total Nitrogen": 0.5219444444444444,
          "Total Phosphorus": 0.007484416666666666
         },
         {
          "Chlorophyll A": 16.151495459534882,
          "STATE": "LA",
          "Total Nitrogen": 0.9386337209302326,
          "Total Phosphorus": 0.1380791046511628
         },
         {
          "Chlorophyll A": 4.286456036838709,
          "STATE": "MA",
          "Total Nitrogen": 0.29420454545454544,
          "Total Phosphorus": 0.0450275
         },
         {
          "Chlorophyll A": 15.134193548387097,
          "STATE": "MD",
          "Total Nitrogen": 0.6019354838709677,
          "Total Phosphorus": 0.06622903225806452
         },
         {
          "Chlorophyll A": 3.244002842372093,
          "STATE": "ME",
          "Total Nitrogen": 0.23500000000000001,
          "Total Phosphorus": 0.030750636627906978
         },
         {
          "Chlorophyll A": 2.170450859398104,
          "STATE": "MI",
          "Total Nitrogen": 0.43765624999999997,
          "Total Phosphorus": 0.007578880896226416
         },
         {
          "Chlorophyll A": 0.83125,
          "STATE": "MN",
          "Total Nitrogen": 0.55859375,
          "Total Phosphorus": 0.011276875
         },
         {
          "Chlorophyll A": 13.347,
          "STATE": "MS",
          "Total Nitrogen": 0.5375624999999999,
          "Total Phosphorus": 0.0759393125
         },
         {
          "Chlorophyll A": 15.341482222222222,
          "STATE": "NC",
          "Total Nitrogen": 0.6064583333333333,
          "Total Phosphorus": 0.05300011805555556
         },
         {
          "Chlorophyll A": 5.344166666666666,
          "STATE": "NH",
          "Total Nitrogen": 0.51025,
          "Total Phosphorus": 0.04466666666666667
         },
         {
          "Chlorophyll A": 22.906206896551723,
          "STATE": "NJ",
          "Total Nitrogen": 0.9328793103448276,
          "Total Phosphorus": 0.1538475948275862
         },
         {
          "Chlorophyll A": 4.770849056603773,
          "STATE": "NY",
          "Total Nitrogen": 0.4276226635514019,
          "Total Phosphorus": 0.029091149532710282
         },
         {
          "Chlorophyll A": 22.362091954034483,
          "STATE": "OH",
          "Total Nitrogen": 1.1174439655172415,
          "Total Phosphorus": 0.04914230603448276
         },
         {
          "Chlorophyll A": 8.212601904761906,
          "STATE": "OR",
          "Total Nitrogen": 0.3894345238095238,
          "Total Phosphorus": 0.06151815476190477
         },
         {
          "Chlorophyll A": 9.270000000000001,
          "STATE": "PA",
          "Total Nitrogen": 0.44833333333333336,
          "Total Phosphorus": 0.019128333333333334
         },
         {
          "Chlorophyll A": 7.904285714285714,
          "STATE": "RI",
          "Total Nitrogen": 0.37625000000000003,
          "Total Phosphorus": 0.07330620535714286
         },
         {
          "Chlorophyll A": 12.818333333333333,
          "STATE": "SC",
          "Total Nitrogen": 0.6381875,
          "Total Phosphorus": 0.10923354999999998
         },
         {
          "Chlorophyll A": 11.985944150943396,
          "STATE": "TX",
          "Total Nitrogen": 0.6533938679245282,
          "Total Phosphorus": 0.1082938679245283
         },
         {
          "Chlorophyll A": 13.41391304347826,
          "STATE": "VA",
          "Total Nitrogen": 0.5849565217391305,
          "Total Phosphorus": 0.06926521739130434
         },
         {
          "Chlorophyll A": 6.1302023529411755,
          "STATE": "WA",
          "Total Nitrogen": 0.33974019607843137,
          "Total Phosphorus": 0.060434029411764706
         },
         {
          "Chlorophyll A": 4.265575438596491,
          "STATE": "WI",
          "Total Nitrogen": 0.508298245614035,
          "Total Phosphorus": 0.016685219298245613
         }
        ],
        "data-802d906868106c0673e81b6b472ab5b2": [
         {
          "Chlorophyll A": 10.61778496655346,
          "NCA_REGION": "East Coast",
          "Total Nitrogen": 0.5298835403726708,
          "Total Phosphorus": 0.06986698874223603
         },
         {
          "Chlorophyll A": 4.475248495,
          "NCA_REGION": "Great Lakes",
          "Total Nitrogen": 0.5033358208955224,
          "Total Phosphorus": 0.013019321828358209
         },
         {
          "Chlorophyll A": 11.603817609832618,
          "NCA_REGION": "Gulf Coast",
          "Total Nitrogen": 0.68925,
          "Total Phosphorus": 0.09447358527542372
         },
         {
          "Chlorophyll A": 5.545900458015267,
          "NCA_REGION": "West Coast",
          "Total Nitrogen": 0.412793893129771,
          "Total Phosphorus": 0.08549806202290076
         }
        ]
       },
       "hconcat": [
        {
         "data": {
          "name": "data-802d906868106c0673e81b6b472ab5b2"
         },
         "encoding": {
          "x": {
           "field": "NCA_REGION",
           "type": "nominal"
          },
          "y": {
           "field": "Chlorophyll A",
           "type": "quantitative"
          }
         },
         "height": 200,
         "mark": {
          "color": "purple",
          "type": "bar"
         },
         "width": 200
        },
        {
         "data": {
          "name": "data-31693c58f224ab4b478e797bd9ca69d5"
         },
         "encoding": {
          "x": {
           "field": "STATE",
           "type": "nominal"
          },
          "y": {
           "field": "Chlorophyll A",
           "type": "quantitative"
          }
         },
         "height": 200,
         "mark": {
          "color": "purple",
          "type": "bar"
         },
         "width": 400
        }
       ]
      },
      "image/png": "[encoded data removed]",
      "text/plain": [
       "<VegaLite 5 object>\n",
       "\n",
       "If you see this message, it means the renderer has not been properly enabled\n",
       "for the frontend that you are using. For more information, see\n",
       "https://altair-viz.github.io/user_guide/display_frontends.html#troubleshooting\n"
      ]
     },
     "execution_count": 8,
     "metadata": {},
     "output_type": "execute_result"
    }
   ],
   "source": [
    "cregion_plot | state_plot"
   ]
  },
  {
   "cell_type": "markdown",
   "id": "2f737ffa-df60-4108-a2b0-53baaa15077f",
   "metadata": {},
   "source": [
    "#### Nutrient Availability and Productivity in California, Seasonally  \n",
    "Only the months of June, July, August, and September were recorded, which all fall into the season of summer. Even within these four months, though, there is a difference in availability and productivity in California coastal waters. From the plots below, we can see that in June and July, the availability is significantly lower, and in turn, the levels of chlorophyll A are lower. In August and September, however, the levels of nitrogen and phosphorus spike, and in turn, productivity increases. This makes intuitive sense because August and September are the hottest months of the year in California. We can see the gradual increase of chlorophyll A as the months get warmer and warmer."
   ]
  },
  {
   "cell_type": "code",
   "execution_count": 9,
   "id": "e4f52df2-49a7-4618-809c-dee9736a809e",
   "metadata": {},
   "outputs": [
    {
     "data": {
      "application/vnd.vegalite.v5+json": {
       "$schema": "https://vega.github.io/schema/vega-lite/v5.16.3.json",
       "config": {
        "view": {
         "continuousHeight": 300,
         "continuousWidth": 300
        }
       },
       "data": {
        "name": "data-aade70e7b374092d94807c767e738e8e"
       },
       "datasets": {
        "data-aade70e7b374092d94807c767e738e8e": [
         {
          "Chlorophyll A": 4.522,
          "DATE_COL_x": "August",
          "Total Nitrogen": 0.6294137931034482,
          "Total Phosphorus": 0.17872999137931037
         },
         {
          "Chlorophyll A": 3.7421052631578946,
          "DATE_COL_x": "July",
          "Total Nitrogen": 0.3213815789473684,
          "Total Phosphorus": 0.044027960526315794
         },
         {
          "Chlorophyll A": 2.88,
          "DATE_COL_x": "June",
          "Total Nitrogen": 0.25669642857142855,
          "Total Phosphorus": 0.04918905357142857
         },
         {
          "Chlorophyll A": 4.7525,
          "DATE_COL_x": "September",
          "Total Nitrogen": 0.60375,
          "Total Phosphorus": 0.11555125
         }
        ]
       },
       "hconcat": [
        {
         "encoding": {
          "x": {
           "field": "DATE_COL_x",
           "type": "nominal"
          },
          "y": {
           "field": "Total Nitrogen",
           "type": "quantitative"
          }
         },
         "height": 200,
         "mark": {
          "color": "blue",
          "type": "bar"
         },
         "width": 200
        },
        {
         "encoding": {
          "x": {
           "field": "DATE_COL_x",
           "type": "nominal"
          },
          "y": {
           "field": "Total Phosphorus",
           "type": "quantitative"
          }
         },
         "height": 200,
         "mark": {
          "color": "orange",
          "type": "bar"
         },
         "width": 200
        },
        {
         "encoding": {
          "x": {
           "field": "DATE_COL_x",
           "type": "nominal"
          },
          "y": {
           "field": "Chlorophyll A",
           "type": "quantitative"
          }
         },
         "height": 200,
         "mark": {
          "color": "purple",
          "type": "bar"
         },
         "width": 200
        }
       ]
      },
      "image/png": "[encoded data removed]",
      "text/plain": [
       "<VegaLite 5 object>\n",
       "\n",
       "If you see this message, it means the renderer has not been properly enabled\n",
       "for the frontend that you are using. For more information, see\n",
       "https://altair-viz.github.io/user_guide/display_frontends.html#troubleshooting\n"
      ]
     },
     "execution_count": 9,
     "metadata": {},
     "output_type": "execute_result"
    }
   ],
   "source": [
    "n_cali | p_cali | c_cali"
   ]
  },
  {
   "cell_type": "markdown",
   "id": "5eb3e913-29fc-4b81-bcca-94cac151ff6c",
   "metadata": {},
   "source": [
    "#### Anomalies by Region  \n",
    "From looking at the very first plot comparing nitrogen and phosphorus to chlorophyll A, all of the points above the 40 $\\mu g/L$ line seem to be outliers. Counting all of the sites with averages of chlorophyll A over 40 $\\mu g/L$ to create the plot below, we see that the east coast has by far the most at 11, and the west coast with the least at 1. This is interesting because, from previous plots, I expected the Gulf Coast to have the most anomalies since it has the highest average of both availability and productivity."
   ]
  },
  {
   "cell_type": "code",
   "execution_count": 10,
   "id": "90406d3d-4625-49a2-9947-d2601dd6c34c",
   "metadata": {},
   "outputs": [
    {
     "data": {
      "text/plain": [
       "Text(0, 0.5, 'Anomaly Count')"
      ]
     },
     "execution_count": 10,
     "metadata": {},
     "output_type": "execute_result"
    },
    {
     "data": {
      "image/png": "[encoded data removed]",
      "text/plain": [
       "<Figure size 640x480 with 1 Axes>"
      ]
     },
     "metadata": {},
     "output_type": "display_data"
    }
   ],
   "source": [
    "plt.bar(anomaly_counts.index, anomaly_counts)\n",
    "plt.xlabel('NCA_REGION')\n",
    "plt.ylabel('Anomaly Count')"
   ]
  },
  {
   "cell_type": "markdown",
   "id": "409e86a6-cdd9-4df2-b1e0-05f8c506bb97",
   "metadata": {},
   "source": [
    "Below is a closer look at the details of each anomaly."
   ]
  },
  {
   "cell_type": "code",
   "execution_count": 11,
   "id": "bb652246-8cff-43d4-999f-41d0ef4672d2",
   "metadata": {},
   "outputs": [
    {
     "data": {
      "text/html": [
       "<div>\n",
       "<style scoped>\n",
       "    .dataframe tbody tr th:only-of-type {\n",
       "        vertical-align: middle;\n",
       "    }\n",
       "\n",
       "    .dataframe tbody tr th {\n",
       "        vertical-align: top;\n",
       "    }\n",
       "\n",
       "    .dataframe thead th {\n",
       "        text-align: right;\n",
       "    }\n",
       "</style>\n",
       "<table border=\"1\" class=\"dataframe\">\n",
       "  <thead>\n",
       "    <tr style=\"text-align: right;\">\n",
       "      <th></th>\n",
       "      <th>NCA_REGION</th>\n",
       "      <th>WTBDY_NM</th>\n",
       "      <th>STATE</th>\n",
       "      <th>Chlorophyll A</th>\n",
       "      <th>Total Nitrogen</th>\n",
       "      <th>Total Phosphorus</th>\n",
       "    </tr>\n",
       "  </thead>\n",
       "  <tbody>\n",
       "    <tr>\n",
       "      <th>0</th>\n",
       "      <td>East Coast</td>\n",
       "      <td>Albermarle Sound</td>\n",
       "      <td>NC</td>\n",
       "      <td>45.3950</td>\n",
       "      <td>0.956875</td>\n",
       "      <td>0.042645</td>\n",
       "    </tr>\n",
       "    <tr>\n",
       "      <th>1</th>\n",
       "      <td>East Coast</td>\n",
       "      <td>Banana River</td>\n",
       "      <td>FL</td>\n",
       "      <td>49.5800</td>\n",
       "      <td>1.188000</td>\n",
       "      <td>0.047138</td>\n",
       "    </tr>\n",
       "    <tr>\n",
       "      <th>2</th>\n",
       "      <td>East Coast</td>\n",
       "      <td>Bohemia River</td>\n",
       "      <td>MD</td>\n",
       "      <td>104.6700</td>\n",
       "      <td>1.440000</td>\n",
       "      <td>0.196000</td>\n",
       "    </tr>\n",
       "    <tr>\n",
       "      <th>3</th>\n",
       "      <td>East Coast</td>\n",
       "      <td>Corrituck Sound</td>\n",
       "      <td>NC</td>\n",
       "      <td>45.2000</td>\n",
       "      <td>1.575000</td>\n",
       "      <td>0.039599</td>\n",
       "    </tr>\n",
       "    <tr>\n",
       "      <th>4</th>\n",
       "      <td>East Coast</td>\n",
       "      <td>Great Egg Harbor</td>\n",
       "      <td>NJ</td>\n",
       "      <td>46.2300</td>\n",
       "      <td>1.024375</td>\n",
       "      <td>0.228589</td>\n",
       "    </tr>\n",
       "    <tr>\n",
       "      <th>5</th>\n",
       "      <td>East Coast</td>\n",
       "      <td>Jamaica Bay</td>\n",
       "      <td>NJ</td>\n",
       "      <td>43.5300</td>\n",
       "      <td>1.185000</td>\n",
       "      <td>0.374458</td>\n",
       "    </tr>\n",
       "    <tr>\n",
       "      <th>6</th>\n",
       "      <td>East Coast</td>\n",
       "      <td>Little River</td>\n",
       "      <td>NC</td>\n",
       "      <td>86.2700</td>\n",
       "      <td>1.368000</td>\n",
       "      <td>0.264138</td>\n",
       "    </tr>\n",
       "    <tr>\n",
       "      <th>7</th>\n",
       "      <td>East Coast</td>\n",
       "      <td>Lower Ny/Nj Bay</td>\n",
       "      <td>NJ</td>\n",
       "      <td>93.1800</td>\n",
       "      <td>1.298750</td>\n",
       "      <td>0.249997</td>\n",
       "    </tr>\n",
       "    <tr>\n",
       "      <th>8</th>\n",
       "      <td>East Coast</td>\n",
       "      <td>Raritan Bay</td>\n",
       "      <td>NJ</td>\n",
       "      <td>73.0700</td>\n",
       "      <td>1.398000</td>\n",
       "      <td>0.270270</td>\n",
       "    </tr>\n",
       "    <tr>\n",
       "      <th>9</th>\n",
       "      <td>East Coast</td>\n",
       "      <td>Saint Johns River</td>\n",
       "      <td>FL</td>\n",
       "      <td>51.1400</td>\n",
       "      <td>1.308000</td>\n",
       "      <td>0.076720</td>\n",
       "    </tr>\n",
       "    <tr>\n",
       "      <th>10</th>\n",
       "      <td>East Coast</td>\n",
       "      <td>Upper James River</td>\n",
       "      <td>VA</td>\n",
       "      <td>54.9000</td>\n",
       "      <td>1.311000</td>\n",
       "      <td>0.115400</td>\n",
       "    </tr>\n",
       "    <tr>\n",
       "      <th>11</th>\n",
       "      <td>Great Lakes</td>\n",
       "      <td>Lake Erie</td>\n",
       "      <td>MI</td>\n",
       "      <td>56.7100</td>\n",
       "      <td>1.473000</td>\n",
       "      <td>0.201089</td>\n",
       "    </tr>\n",
       "    <tr>\n",
       "      <th>12</th>\n",
       "      <td>Great Lakes</td>\n",
       "      <td>Lake Erie</td>\n",
       "      <td>OH</td>\n",
       "      <td>105.8425</td>\n",
       "      <td>3.259250</td>\n",
       "      <td>0.160150</td>\n",
       "    </tr>\n",
       "    <tr>\n",
       "      <th>13</th>\n",
       "      <td>Great Lakes</td>\n",
       "      <td>Lake Michigan</td>\n",
       "      <td>WI</td>\n",
       "      <td>45.4400</td>\n",
       "      <td>1.362500</td>\n",
       "      <td>0.135830</td>\n",
       "    </tr>\n",
       "    <tr>\n",
       "      <th>14</th>\n",
       "      <td>Great Lakes</td>\n",
       "      <td>Lake Ontario</td>\n",
       "      <td>NY</td>\n",
       "      <td>48.4000</td>\n",
       "      <td>0.902500</td>\n",
       "      <td>0.070886</td>\n",
       "    </tr>\n",
       "    <tr>\n",
       "      <th>15</th>\n",
       "      <td>Gulf Coast</td>\n",
       "      <td>Breton Sound</td>\n",
       "      <td>LA</td>\n",
       "      <td>48.4850</td>\n",
       "      <td>1.562500</td>\n",
       "      <td>0.221716</td>\n",
       "    </tr>\n",
       "    <tr>\n",
       "      <th>16</th>\n",
       "      <td>Gulf Coast</td>\n",
       "      <td>Cedar Keys</td>\n",
       "      <td>FL</td>\n",
       "      <td>62.7200</td>\n",
       "      <td>0.992500</td>\n",
       "      <td>0.119430</td>\n",
       "    </tr>\n",
       "    <tr>\n",
       "      <th>17</th>\n",
       "      <td>Gulf Coast</td>\n",
       "      <td>Lake Calebasse</td>\n",
       "      <td>LA</td>\n",
       "      <td>42.9600</td>\n",
       "      <td>1.393000</td>\n",
       "      <td>0.238004</td>\n",
       "    </tr>\n",
       "    <tr>\n",
       "      <th>18</th>\n",
       "      <td>Gulf Coast</td>\n",
       "      <td>Lake Palourde</td>\n",
       "      <td>LA</td>\n",
       "      <td>56.9900</td>\n",
       "      <td>1.328000</td>\n",
       "      <td>0.222864</td>\n",
       "    </tr>\n",
       "    <tr>\n",
       "      <th>19</th>\n",
       "      <td>Gulf Coast</td>\n",
       "      <td>Pass A Loutre</td>\n",
       "      <td>LA</td>\n",
       "      <td>60.3500</td>\n",
       "      <td>1.248000</td>\n",
       "      <td>0.226051</td>\n",
       "    </tr>\n",
       "    <tr>\n",
       "      <th>20</th>\n",
       "      <td>West Coast</td>\n",
       "      <td>Umpqua River</td>\n",
       "      <td>OR</td>\n",
       "      <td>56.4200</td>\n",
       "      <td>0.847500</td>\n",
       "      <td>0.136484</td>\n",
       "    </tr>\n",
       "  </tbody>\n",
       "</table>\n",
       "</div>"
      ],
      "text/plain": [
       "     NCA_REGION           WTBDY_NM STATE  Chlorophyll A  Total Nitrogen  \\\n",
       "0    East Coast   Albermarle Sound    NC        45.3950        0.956875   \n",
       "1    East Coast       Banana River    FL        49.5800        1.188000   \n",
       "2    East Coast      Bohemia River    MD       104.6700        1.440000   \n",
       "3    East Coast    Corrituck Sound    NC        45.2000        1.575000   \n",
       "4    East Coast   Great Egg Harbor    NJ        46.2300        1.024375   \n",
       "5    East Coast        Jamaica Bay    NJ        43.5300        1.185000   \n",
       "6    East Coast       Little River    NC        86.2700        1.368000   \n",
       "7    East Coast    Lower Ny/Nj Bay    NJ        93.1800        1.298750   \n",
       "8    East Coast        Raritan Bay    NJ        73.0700        1.398000   \n",
       "9    East Coast  Saint Johns River    FL        51.1400        1.308000   \n",
       "10   East Coast  Upper James River    VA        54.9000        1.311000   \n",
       "11  Great Lakes          Lake Erie    MI        56.7100        1.473000   \n",
       "12  Great Lakes          Lake Erie    OH       105.8425        3.259250   \n",
       "13  Great Lakes      Lake Michigan    WI        45.4400        1.362500   \n",
       "14  Great Lakes       Lake Ontario    NY        48.4000        0.902500   \n",
       "15   Gulf Coast       Breton Sound    LA        48.4850        1.562500   \n",
       "16   Gulf Coast         Cedar Keys    FL        62.7200        0.992500   \n",
       "17   Gulf Coast     Lake Calebasse    LA        42.9600        1.393000   \n",
       "18   Gulf Coast      Lake Palourde    LA        56.9900        1.328000   \n",
       "19   Gulf Coast      Pass A Loutre    LA        60.3500        1.248000   \n",
       "20   West Coast       Umpqua River    OR        56.4200        0.847500   \n",
       "\n",
       "    Total Phosphorus  \n",
       "0           0.042645  \n",
       "1           0.047138  \n",
       "2           0.196000  \n",
       "3           0.039599  \n",
       "4           0.228589  \n",
       "5           0.374458  \n",
       "6           0.264138  \n",
       "7           0.249997  \n",
       "8           0.270270  \n",
       "9           0.076720  \n",
       "10          0.115400  \n",
       "11          0.201089  \n",
       "12          0.160150  \n",
       "13          0.135830  \n",
       "14          0.070886  \n",
       "15          0.221716  \n",
       "16          0.119430  \n",
       "17          0.238004  \n",
       "18          0.222864  \n",
       "19          0.226051  \n",
       "20          0.136484  "
      ]
     },
     "metadata": {},
     "output_type": "display_data"
    }
   ],
   "source": [
    "display(anomaly)"
   ]
  },
  {
   "cell_type": "markdown",
   "id": "660b7e7b-6fcb-4603-8c56-d3a372d63c48",
   "metadata": {},
   "source": [
    "There seem to be outliers even within this set of outliers. The ones that stand out the most are Lake Erie, OH, and Bohemia River, MD, with chlorophyll A concentrations of over 100 $\\mu g/L$. Interestingly, the nitrogen and phosphorous contents of Bohemia River, MD, don't seem to deviate much from the other outliers. However, the nitrogen content of Lake Erie, OH, sticks out significantly, being around 3 times more than the rest of the outliers."
   ]
  },
  {
   "cell_type": "markdown",
   "id": "328866e2-097c-42b1-b75d-9b7fa4330516",
   "metadata": {},
   "source": [
    "## Code Appendix"
   ]
  },
  {
   "cell_type": "code",
   "execution_count": 2,
   "id": "e98ef170-7902-4dd3-9374-8052714960a1",
   "metadata": {},
   "outputs": [
    {
     "data": {
      "text/plain": [
       "RendererRegistry.enable('mimetype')"
      ]
     },
     "execution_count": 2,
     "metadata": {},
     "output_type": "execute_result"
    }
   ],
   "source": [
    "import numpy as np\n",
    "import pandas as pd\n",
    "import matplotlib.pyplot as plt\n",
    "import altair as alt\n",
    "alt.renderers.enable('mimetype')"
   ]
  },
  {
   "cell_type": "code",
   "execution_count": 3,
   "id": "ba0f68ac-b686-4622-a25d-fe4128550dee",
   "metadata": {},
   "outputs": [
    {
     "data": {
      "text/plain": [
       "(1092, 8)"
      ]
     },
     "execution_count": 3,
     "metadata": {},
     "output_type": "execute_result"
    }
   ],
   "source": [
    "ncca_raw = pd.read_csv('data/assessed_ncca2010_waterchem.csv')\n",
    "ncca_sites = pd.read_csv('data/assessed_ncca2010_siteinfo.csv')\n",
    "\n",
    "ncca = pd.merge(\n",
    "    ncca_sites, ncca_raw, how = 'right',\n",
    "    on = ['UID', 'STATE']\n",
    ").pivot(\n",
    "    index = ['UID', 'WTBDY_NM', 'STATE', 'NCA_REGION', 'DATE_COL_x'],\n",
    "    columns = 'PARAMETER_NAME',\n",
    "    values = 'RESULT'\n",
    ").reset_index().rename_axis(\n",
    "    columns=None\n",
    ").loc[:, ['UID', 'WTBDY_NM','STATE', 'NCA_REGION', 'DATE_COL_x', 'Chlorophyll A', 'Total Nitrogen', 'Total Phosphorus']]\n",
    "\n",
    "ncca.shape"
   ]
  },
  {
   "cell_type": "code",
   "execution_count": 4,
   "id": "e57f0cec-593a-4a39-9a00-5972bd8c2884",
   "metadata": {},
   "outputs": [],
   "source": [
    "wtbdy = ncca.drop(columns='UID').groupby(['WTBDY_NM', 'NCA_REGION']).mean(numeric_only=True).reset_index()\n",
    "\n",
    "n_scatter = alt.Chart(wtbdy).mark_circle(opacity = 0.4, color = 'blue').encode(\n",
    "    x = alt.X('Total Nitrogen:Q', scale = alt.Scale(type = 'sqrt')),\n",
    "    y = alt.Y('Chlorophyll A:Q', scale = alt.Scale(type = 'sqrt')),\n",
    ").properties(\n",
    "    title = 'Availability vs. Productivity'\n",
    ")\n",
    "\n",
    "n_smooth = n_scatter.transform_loess(\n",
    "    on = 'Total Nitrogen',\n",
    "    loess = 'Chlorophyll A',\n",
    "    bandwidth = 0.8\n",
    ").mark_line(color = 'blue')\n",
    "\n",
    "nitrogen_plot = n_scatter + n_smooth\n",
    "\n",
    "p_scatter = alt.Chart(wtbdy).mark_circle(opacity = 0.4, color = 'orange').encode(\n",
    "    x = alt.X('Total Phosphorus:Q', scale = alt.Scale(type = 'sqrt')),\n",
    "    y = alt.Y('Chlorophyll A:Q', scale = alt.Scale(type = 'sqrt')),\n",
    ").properties(\n",
    "    title = 'Availability vs. Productivity'\n",
    ")\n",
    "\n",
    "p_smooth = p_scatter.transform_loess(\n",
    "    on = 'Total Phosphorus',\n",
    "    loess = 'Chlorophyll A',\n",
    "    bandwidth = 0.8\n",
    ").mark_line(color = 'orange')\n",
    "\n",
    "phosphorus_plot = p_scatter + p_smooth\n",
    "\n",
    "np_scatter = alt.Chart(wtbdy).mark_circle(opacity = 0.4, color = 'green').encode(\n",
    "    x = alt.X('Total Nitrogen:Q', scale = alt.Scale(type = 'sqrt')),\n",
    "    y = alt.Y('Total Phosphorus:Q', scale = alt.Scale(type = 'sqrt')),\n",
    ").properties(\n",
    "    title = 'Nitrogen vs. Phosphorus'\n",
    ")\n",
    "\n",
    "np_smooth = np_scatter.transform_loess(\n",
    "    on = 'Total Nitrogen',\n",
    "    loess = 'Total Phosphorus',\n",
    "    bandwidth = 0.8\n",
    ").mark_line(color = 'green')\n",
    "\n",
    "np_plot = np_scatter + np_smooth\n",
    "\n",
    "region = ncca.drop(columns='UID').groupby(['NCA_REGION']).mean(numeric_only=True).reset_index()\n",
    "\n",
    "nregion_plot = alt.Chart(region).mark_bar(color = 'blue').encode(\n",
    "    x='NCA_REGION',\n",
    "    y='Total Nitrogen'\n",
    ").properties(\n",
    "    height = 200,\n",
    "    width = 200\n",
    ")\n",
    "pregion_plot = alt.Chart(region).mark_bar(color = 'orange').encode(\n",
    "    x='NCA_REGION',\n",
    "    y='Total Phosphorus'\n",
    ").properties(\n",
    "    height = 200,\n",
    "    width = 200\n",
    ")\n",
    "\n",
    "cregion_plot = alt.Chart(region).mark_bar(color = 'purple').encode(\n",
    "    x='NCA_REGION',\n",
    "    y='Chlorophyll A'\n",
    ").properties(\n",
    "    height = 200,\n",
    "    width = 200\n",
    ")\n",
    "\n",
    "state = ncca.drop(columns='UID').groupby(['STATE']).mean(numeric_only=True).reset_index()\n",
    "\n",
    "state_plot = alt.Chart(state).mark_bar(color = 'purple').encode(\n",
    "    x='STATE',\n",
    "    y='Chlorophyll A'\n",
    ").properties(\n",
    "    height = 200,\n",
    "    width = 400\n",
    ")\n",
    "\n",
    "cali = ncca.drop(columns='UID')[ncca['STATE'] == 'CA']\n",
    "cali.loc[cali['DATE_COL_x'].str.contains('Jun'), 'DATE_COL_x'] = 'June'\n",
    "cali.loc[cali['DATE_COL_x'].str.contains('Jul'), 'DATE_COL_x'] = 'July'\n",
    "cali.loc[cali['DATE_COL_x'].str.contains('Aug'), 'DATE_COL_x'] = 'August'\n",
    "cali.loc[cali['DATE_COL_x'].str.contains('Sep'), 'DATE_COL_x'] = 'September'\n",
    "\n",
    "cali = cali.groupby('DATE_COL_x').mean(numeric_only = True).reset_index()\n",
    "\n",
    "n_cali = alt.Chart(cali).mark_bar(color = 'blue').encode(\n",
    "    x='DATE_COL_x',\n",
    "    y='Total Nitrogen'\n",
    ").properties(\n",
    "    height = 200,\n",
    "    width = 200\n",
    ")\n",
    "\n",
    "p_cali = alt.Chart(cali).mark_bar(color = 'orange').encode(\n",
    "    x='DATE_COL_x',\n",
    "    y='Total Phosphorus'\n",
    ").properties(\n",
    "    height = 200,\n",
    "    width = 200\n",
    ")\n",
    "\n",
    "c_cali = alt.Chart(cali).mark_bar(color = 'purple').encode(\n",
    "    x='DATE_COL_x',\n",
    "    y='Chlorophyll A'\n",
    ").properties(\n",
    "    height = 200,\n",
    "    width = 200\n",
    ")\n",
    "\n",
    "anomaly = ncca[ncca['Chlorophyll A']>40].drop(columns = 'UID').groupby(['NCA_REGION','WTBDY_NM','STATE']).mean(numeric_only = True).reset_index()\n",
    "anomaly_counts = anomaly.groupby(['NCA_REGION'])['NCA_REGION'].count()"
   ]
  },
  {
   "cell_type": "code",
   "execution_count": null,
   "id": "1e2c4ced-e1b0-4e6c-8625-9f7d7f2eca7d",
   "metadata": {},
   "outputs": [],
   "source": []
  }
 ],
 "metadata": {
  "kernelspec": {
   "display_name": "Python 3 (ipykernel)",
   "language": "python",
   "name": "python3"
  },
  "language_info": {
   "codemirror_mode": {
    "name": "ipython",
    "version": 3
   },
   "file_extension": ".py",
   "mimetype": "text/x-python",
   "name": "python",
   "nbconvert_exporter": "python",
   "pygments_lexer": "ipython3",
   "version": "3.12.1"
  }
 },
 "nbformat": 4,
 "nbformat_minor": 5
}
