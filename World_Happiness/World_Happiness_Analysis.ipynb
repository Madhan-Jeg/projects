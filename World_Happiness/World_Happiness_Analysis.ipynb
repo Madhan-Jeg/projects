{
 "cells": [
  {
   "cell_type": "markdown",
   "id": "4aab4a21-0d64-4a77-bf14-335d6bc00644",
   "metadata": {},
   "source": [
    "# Factors of Happiness Around the World\n",
    "### Madhan Jeganathan, <br>June 17, 2023"
   ]
  },
  {
   "cell_type": "markdown",
   "id": "5cef4e07-3290-45b1-8782-c18c6c8bd907",
   "metadata": {},
   "source": [
    "## Data Description"
   ]
  },
  {
   "cell_type": "markdown",
   "id": "5de38728-5c9d-4d26-8ce0-f6041455afb6",
   "metadata": {},
   "source": [
    "The World Happiness Report (WHR) is a publication of the Sustainable Development Solutions Network, powered by the Gallup World Poll data. The WHR reflects a worldwide demand for more attention to happiness and well-being as criteria for government policy and initiative. WHR reviews the state of happiness in the world today by nation and shows how the science of happiness explains personal and national variations in happiness. The dataset we are analyzing contains 165 unique countries from the years of 2005 to 2022. Along with `Life Ladder`, the measurement of overall happiness in a nation, we are presented with multiple contributing variables. These variables include `Log GDP Per Capita`, `Social Support`, `Healthy Life Expectancy At Birth`, `Freedom To Make Life Choices`, `Perceptions Of Corruption`, and more. In total, there are 10 measured variables per year per country in the dataset (if not missing). For reference, below is a quick look at the first few rows of the raw dataset."
   ]
  },
  {
   "cell_type": "code",
   "execution_count": 7,
   "id": "ac49d16d-4f9a-42fa-88d0-ec650f20e47d",
   "metadata": {},
   "outputs": [
    {
     "data": {
      "text/html": [
       "<div>\n",
       "<style scoped>\n",
       "    .dataframe tbody tr th:only-of-type {\n",
       "        vertical-align: middle;\n",
       "    }\n",
       "\n",
       "    .dataframe tbody tr th {\n",
       "        vertical-align: top;\n",
       "    }\n",
       "\n",
       "    .dataframe thead th {\n",
       "        text-align: right;\n",
       "    }\n",
       "</style>\n",
       "<table border=\"1\" class=\"dataframe\">\n",
       "  <thead>\n",
       "    <tr style=\"text-align: right;\">\n",
       "      <th></th>\n",
       "      <th>Country Name</th>\n",
       "      <th>Regional Indicator</th>\n",
       "      <th>Year</th>\n",
       "      <th>Life Ladder</th>\n",
       "      <th>Log GDP Per Capita</th>\n",
       "      <th>Social Support</th>\n",
       "      <th>Healthy Life Expectancy At Birth</th>\n",
       "      <th>Freedom To Make Life Choices</th>\n",
       "      <th>Generosity</th>\n",
       "      <th>Perceptions Of Corruption</th>\n",
       "      <th>Positive Affect</th>\n",
       "      <th>Negative Affect</th>\n",
       "      <th>Confidence In National Government</th>\n",
       "    </tr>\n",
       "  </thead>\n",
       "  <tbody>\n",
       "    <tr>\n",
       "      <th>0</th>\n",
       "      <td>Afghanistan</td>\n",
       "      <td>South Asia</td>\n",
       "      <td>2008</td>\n",
       "      <td>3.723590</td>\n",
       "      <td>7.350416</td>\n",
       "      <td>0.450662</td>\n",
       "      <td>50.500000</td>\n",
       "      <td>0.718114</td>\n",
       "      <td>0.167652</td>\n",
       "      <td>0.881686</td>\n",
       "      <td>0.414297</td>\n",
       "      <td>0.258195</td>\n",
       "      <td>0.612072</td>\n",
       "    </tr>\n",
       "    <tr>\n",
       "      <th>1</th>\n",
       "      <td>Afghanistan</td>\n",
       "      <td>South Asia</td>\n",
       "      <td>2009</td>\n",
       "      <td>4.401778</td>\n",
       "      <td>7.508646</td>\n",
       "      <td>0.552308</td>\n",
       "      <td>50.799999</td>\n",
       "      <td>0.678896</td>\n",
       "      <td>0.190809</td>\n",
       "      <td>0.850035</td>\n",
       "      <td>0.481421</td>\n",
       "      <td>0.237092</td>\n",
       "      <td>0.611545</td>\n",
       "    </tr>\n",
       "    <tr>\n",
       "      <th>2</th>\n",
       "      <td>Afghanistan</td>\n",
       "      <td>South Asia</td>\n",
       "      <td>2010</td>\n",
       "      <td>4.758381</td>\n",
       "      <td>7.613900</td>\n",
       "      <td>0.539075</td>\n",
       "      <td>51.099998</td>\n",
       "      <td>0.600127</td>\n",
       "      <td>0.121316</td>\n",
       "      <td>0.706766</td>\n",
       "      <td>0.516907</td>\n",
       "      <td>0.275324</td>\n",
       "      <td>0.299357</td>\n",
       "    </tr>\n",
       "    <tr>\n",
       "      <th>3</th>\n",
       "      <td>Afghanistan</td>\n",
       "      <td>South Asia</td>\n",
       "      <td>2011</td>\n",
       "      <td>3.831719</td>\n",
       "      <td>7.581259</td>\n",
       "      <td>0.521104</td>\n",
       "      <td>51.400002</td>\n",
       "      <td>0.495901</td>\n",
       "      <td>0.163571</td>\n",
       "      <td>0.731109</td>\n",
       "      <td>0.479835</td>\n",
       "      <td>0.267175</td>\n",
       "      <td>0.307386</td>\n",
       "    </tr>\n",
       "    <tr>\n",
       "      <th>4</th>\n",
       "      <td>Afghanistan</td>\n",
       "      <td>South Asia</td>\n",
       "      <td>2012</td>\n",
       "      <td>3.782938</td>\n",
       "      <td>7.660506</td>\n",
       "      <td>0.520637</td>\n",
       "      <td>51.700001</td>\n",
       "      <td>0.530935</td>\n",
       "      <td>0.237588</td>\n",
       "      <td>0.775620</td>\n",
       "      <td>0.613513</td>\n",
       "      <td>0.267919</td>\n",
       "      <td>0.435440</td>\n",
       "    </tr>\n",
       "  </tbody>\n",
       "</table>\n",
       "</div>"
      ],
      "text/plain": [
       "  Country Name Regional Indicator  Year  Life Ladder  Log GDP Per Capita  \\\n",
       "0  Afghanistan         South Asia  2008     3.723590            7.350416   \n",
       "1  Afghanistan         South Asia  2009     4.401778            7.508646   \n",
       "2  Afghanistan         South Asia  2010     4.758381            7.613900   \n",
       "3  Afghanistan         South Asia  2011     3.831719            7.581259   \n",
       "4  Afghanistan         South Asia  2012     3.782938            7.660506   \n",
       "\n",
       "   Social Support  Healthy Life Expectancy At Birth  \\\n",
       "0        0.450662                         50.500000   \n",
       "1        0.552308                         50.799999   \n",
       "2        0.539075                         51.099998   \n",
       "3        0.521104                         51.400002   \n",
       "4        0.520637                         51.700001   \n",
       "\n",
       "   Freedom To Make Life Choices  Generosity  Perceptions Of Corruption  \\\n",
       "0                      0.718114    0.167652                   0.881686   \n",
       "1                      0.678896    0.190809                   0.850035   \n",
       "2                      0.600127    0.121316                   0.706766   \n",
       "3                      0.495901    0.163571                   0.731109   \n",
       "4                      0.530935    0.237588                   0.775620   \n",
       "\n",
       "   Positive Affect  Negative Affect  Confidence In National Government  \n",
       "0         0.414297         0.258195                           0.612072  \n",
       "1         0.481421         0.237092                           0.611545  \n",
       "2         0.516907         0.275324                           0.299357  \n",
       "3         0.479835         0.267175                           0.307386  \n",
       "4         0.613513         0.267919                           0.435440  "
      ]
     },
     "execution_count": 7,
     "metadata": {},
     "output_type": "execute_result"
    }
   ],
   "source": [
    "happy.head()"
   ]
  },
  {
   "cell_type": "markdown",
   "id": "5d1358d8-0a3b-4d11-88f2-b03a3cc9809e",
   "metadata": {},
   "source": [
    "## Data Analysis"
   ]
  },
  {
   "cell_type": "markdown",
   "id": "686e9266-756e-4309-9e38-a0ea4014f1f2",
   "metadata": {},
   "source": [
    "We understand that Life Ladder changes annually for countries, with some having little to no change, and others having extreme increases or decreases over time. Our goal is to view the general happiness of the world over time, identify the countries with the largest change in happiness over time, and identify the countries with the highest and lowest average happiness over time. We also want to see which variables affect Life Ladder the most positively and negatively and see if we can relate those variables to the countries with the most change in happiness."
   ]
  },
  {
   "cell_type": "markdown",
   "id": "853a41d9-dbed-4213-85f5-38193c26f6fe",
   "metadata": {},
   "source": [
    "#### Overview\n",
    "Let’s start our analysis with a simple plot of happiness over the years."
   ]
  },
  {
   "cell_type": "code",
   "execution_count": 8,
   "id": "6f015e79-e138-421a-8053-ef3f42689a42",
   "metadata": {},
   "outputs": [
    {
     "data": {
      "application/vnd.vegalite.v5+json": {
       "$schema": "https://vega.github.io/schema/vega-lite/v5.16.3.json",
       "config": {
        "view": {
         "continuousHeight": 300,
         "continuousWidth": 300
        }
       },
       "data": {
        "name": "data-f424d78f38f9386446c3a93fa9b7bab1"
       },
       "datasets": {
        "data-f424d78f38f9386446c3a93fa9b7bab1": [
         {
          "Confidence In National Government": 0.4344721060434783,
          "Freedom To Make Life Choices": 0.8296179294799999,
          "Generosity": 0.248032972,
          "Healthy Life Expectancy At Birth": 66.82592603851852,
          "Life Ladder": 6.446164272444444,
          "Log GDP Per Capita": 10.124157411074075,
          "Negative Affect": 0.25570991573076923,
          "Perceptions Of Corruption": 0.71587549748,
          "Positive Affect": 0.6719334698076923,
          "Social Support": 0.8973668637407407,
          "Year": 2005
         },
         {
          "Confidence In National Government": 0.5157809914883721,
          "Freedom To Make Life Choices": 0.7305084886162792,
          "Generosity": 0.0022595862469135804,
          "Healthy Life Expectancy At Birth": 60.09727285636364,
          "Life Ladder": 5.196935289348315,
          "Log GDP Per Capita": 9.065341510670455,
          "Negative Affect": 0.25461085426136365,
          "Perceptions Of Corruption": 0.7557367969638554,
          "Positive Affect": 0.6607711539318182,
          "Social Support": 0.8358522572808988,
          "Year": 2006
         },
         {
          "Confidence In National Government": 0.4738740591030928,
          "Freedom To Make Life Choices": 0.6873287042277229,
          "Generosity": 0.009588608841584158,
          "Healthy Life Expectancy At Birth": 61.56274776643564,
          "Life Ladder": 5.418291402794117,
          "Log GDP Per Capita": 9.190076431495049,
          "Negative Affect": 0.2502223590784314,
          "Perceptions Of Corruption": 0.7920688080306122,
          "Positive Affect": 0.6522893291212122,
          "Social Support": 0.80769380153,
          "Year": 2007
         },
         {
          "Confidence In National Government": 0.48539360932352943,
          "Freedom To Make Life Choices": 0.6883650380654206,
          "Generosity": 0.017560965238532112,
          "Healthy Life Expectancy At Birth": 61.15143514555556,
          "Life Ladder": 5.418553961427272,
          "Log GDP Per Capita": 9.180457904054546,
          "Negative Affect": 0.2435305645909091,
          "Perceptions Of Corruption": 0.7641203101028037,
          "Positive Affect": 0.652883923055046,
          "Social Support": 0.7844008426909092,
          "Year": 2008
         },
         {
          "Confidence In National Government": 0.4983902766236559,
          "Freedom To Make Life Choices": 0.6874353614285714,
          "Generosity": -0.009109942486725663,
          "Healthy Life Expectancy At Birth": 62.514526882792794,
          "Life Ladder": 5.457640127140351,
          "Log GDP Per Capita": 9.273883756274335,
          "Negative Affect": 0.24698927463716816,
          "Perceptions Of Corruption": 0.7633710404144144,
          "Positive Affect": 0.6434483664867257,
          "Social Support": 0.8190758006283185,
          "Year": 2009
         },
         {
          "Confidence In National Government": 0.49281039655445547,
          "Freedom To Make Life Choices": 0.7082779358852459,
          "Generosity": -0.0006567554390243918,
          "Healthy Life Expectancy At Birth": 62.911983332314044,
          "Life Ladder": 5.496782154798387,
          "Log GDP Per Capita": 9.406275326821138,
          "Negative Affect": 0.24069492428333333,
          "Perceptions Of Corruption": 0.7571987443025211,
          "Positive Affect": 0.6467395616833334,
          "Social Support": 0.8318488165666668,
          "Year": 2010
         },
         {
          "Confidence In National Government": 0.493762369125,
          "Freedom To Make Life Choices": 0.7322044530896551,
          "Generosity": -0.018809874493055555,
          "Healthy Life Expectancy At Birth": 61.9723405502837,
          "Life Ladder": 5.4240878428561645,
          "Log GDP Per Capita": 9.304891438303448,
          "Negative Affect": 0.248832568630137,
          "Perceptions Of Corruption": 0.7551696771884059,
          "Positive Affect": 0.6369514313310345,
          "Social Support": 0.8028021843517241,
          "Year": 2011
         },
         {
          "Confidence In National Government": 0.4495300546416667,
          "Freedom To Make Life Choices": 0.7113685614499999,
          "Generosity": -0.006459356270676691,
          "Healthy Life Expectancy At Birth": 63.018235206617646,
          "Life Ladder": 5.443611861985815,
          "Log GDP Per Capita": 9.410053624185714,
          "Negative Affect": 0.259250419070922,
          "Perceptions Of Corruption": 0.7572064811450382,
          "Positive Affect": 0.641409834248227,
          "Social Support": 0.808636519893617,
          "Year": 2012
         },
         {
          "Confidence In National Government": 0.4512571123032787,
          "Freedom To Make Life Choices": 0.7275337992074075,
          "Generosity": -0.004057793496240601,
          "Healthy Life Expectancy At Birth": 63.12616531819549,
          "Life Ladder": 5.393301501014706,
          "Log GDP Per Capita": 9.384705799463235,
          "Negative Affect": 0.2699761607794118,
          "Perceptions Of Corruption": 0.7638479502093024,
          "Positive Affect": 0.6546155841865672,
          "Social Support": 0.8060867795514706,
          "Year": 2013
         },
         {
          "Confidence In National Government": 0.47309942493023255,
          "Freedom To Make Life Choices": 0.7347619630724638,
          "Generosity": 0.016176018244604316,
          "Healthy Life Expectancy At Birth": 63.08057144728571,
          "Life Ladder": 5.386266734875,
          "Log GDP Per Capita": 9.367557368783217,
          "Negative Affect": 0.2697441086524823,
          "Perceptions Of Corruption": 0.7386885032814814,
          "Positive Affect": 0.6555347812714286,
          "Social Support": 0.8056778089929078,
          "Year": 2014
         },
         {
          "Confidence In National Government": 0.479223562,
          "Freedom To Make Life Choices": 0.748439905438849,
          "Generosity": 0.01571400704285714,
          "Healthy Life Expectancy At Birth": 63.39280566201438,
          "Life Ladder": 5.400948453985916,
          "Log GDP Per Capita": 9.391633287602836,
          "Negative Affect": 0.2784240816595745,
          "Perceptions Of Corruption": 0.7371103690378787,
          "Positive Affect": 0.6576852447446809,
          "Social Support": 0.7982595046950355,
          "Year": 2015
         },
         {
          "Confidence In National Government": 0.476236462375,
          "Freedom To Make Life Choices": 0.7628987798345325,
          "Generosity": -0.0022016374892086326,
          "Healthy Life Expectancy At Birth": 63.43211712824818,
          "Life Ladder": 5.396380853929078,
          "Log GDP Per Capita": 9.3898838689,
          "Negative Affect": 0.28526692869503545,
          "Perceptions Of Corruption": 0.7472651785307692,
          "Positive Affect": 0.6558398875460993,
          "Social Support": 0.8119672107234043,
          "Year": 2016
         },
         {
          "Confidence In National Government": 0.5021837350151516,
          "Freedom To Make Life Choices": 0.7805770760273972,
          "Generosity": -0.009002042006896551,
          "Healthy Life Expectancy At Birth": 63.57097921825175,
          "Life Ladder": 5.460421472986394,
          "Log GDP Per Capita": 9.389603866328766,
          "Negative Affect": 0.2912308003630137,
          "Perceptions Of Corruption": 0.7285423351605839,
          "Positive Affect": 0.6483457280273973,
          "Social Support": 0.8051643735410958,
          "Year": 2017
         },
         {
          "Confidence In National Government": 0.49531534141935485,
          "Freedom To Make Life Choices": 0.78384395475,
          "Generosity": -0.028721606021276595,
          "Healthy Life Expectancy At Birth": 63.89039835681159,
          "Life Ladder": 5.498683415432624,
          "Log GDP Per Capita": 9.390906851475176,
          "Negative Affect": 0.2929294356618705,
          "Perceptions Of Corruption": 0.734555361819549,
          "Positive Affect": 0.6526015718417266,
          "Social Support": 0.8121599144539007,
          "Year": 2018
         },
         {
          "Confidence In National Government": 0.50065779556,
          "Freedom To Make Life Choices": 0.7946986115352113,
          "Generosity": -0.023988174612676057,
          "Healthy Life Expectancy At Birth": 64.16258991733814,
          "Life Ladder": 5.5709947589510485,
          "Log GDP Per Capita": 9.453175831496504,
          "Negative Affect": 0.2868447580915493,
          "Perceptions Of Corruption": 0.7232811380962962,
          "Positive Affect": 0.6545910788661972,
          "Social Support": 0.8168751188461538,
          "Year": 2019
         },
         {
          "Confidence In National Government": 0.49449889381372547,
          "Freedom To Make Life Choices": 0.809864937773913,
          "Generosity": -0.0053304340438596505,
          "Healthy Life Expectancy At Birth": 65.54181397699115,
          "Life Ladder": 5.7275391077155176,
          "Log GDP Per Capita": 9.632069048114035,
          "Negative Affect": 0.30169523187826086,
          "Perceptions Of Corruption": 0.7260290228363636,
          "Positive Affect": 0.664378922373913,
          "Social Support": 0.8229818739827586,
          "Year": 2020
         },
         {
          "Confidence In National Government": 0.48424269976635514,
          "Freedom To Make Life Choices": 0.7881148428099174,
          "Generosity": 0.03544521254166667,
          "Healthy Life Expectancy At Birth": 65.40966434647058,
          "Life Ladder": 5.636192835754098,
          "Log GDP Per Capita": 9.5964434385,
          "Negative Affect": 0.29022742902459014,
          "Perceptions Of Corruption": 0.7248491796554621,
          "Positive Affect": 0.6530874316885246,
          "Social Support": 0.8039331387295081,
          "Year": 2021
         },
         {
          "Confidence In National Government": null,
          "Freedom To Make Life Choices": 0.7904471125309734,
          "Generosity": 0.028539050935185186,
          "Healthy Life Expectancy At Birth": 65.28671171846847,
          "Life Ladder": 5.58512628808772,
          "Log GDP Per Capita": 9.52308705551852,
          "Negative Affect": 0.29247369794736844,
          "Perceptions Of Corruption": 0.7208520018648649,
          "Positive Affect": 0.6564397007719298,
          "Social Support": 0.7980057530877194,
          "Year": 2022
         }
        ]
       },
       "encoding": {
        "x": {
         "field": "Year",
         "type": "quantitative"
        },
        "y": {
         "field": "Life Ladder",
         "type": "quantitative"
        }
       },
       "height": 200,
       "mark": {
        "size": 15,
        "type": "bar"
       },
       "title": "World Happiness Over the Years",
       "width": 500
      },
      "image/png": "[encoded data removed]",
      "text/plain": [
       "<VegaLite 5 object>\n",
       "\n",
       "If you see this message, it means the renderer has not been properly enabled\n",
       "for the frontend that you are using. For more information, see\n",
       "https://altair-viz.github.io/user_guide/display_frontends.html#troubleshooting\n"
      ]
     },
     "execution_count": 8,
     "metadata": {},
     "output_type": "execute_result"
    }
   ],
   "source": [
    "year_bar"
   ]
  },
  {
   "cell_type": "markdown",
   "id": "a425aa8c-6ae4-4b45-9087-bd2a47a5d78a",
   "metadata": {},
   "source": [
    "From this plot, we can see that from 2006 to 2022, general happiness has been fluctuating ever so slightly, ultimately increasing over time. However, in 2005, it was significantly higher. Let's see if missing data can explain this outlier. Below is a breakdown of the proportion of missing `Life Ladder` values from each year."
   ]
  },
  {
   "cell_type": "code",
   "execution_count": 9,
   "id": "043623af-7fad-45c7-9638-789b3bd8be2e",
   "metadata": {},
   "outputs": [
    {
     "data": {
      "text/plain": [
       "Year\n",
       "2005    0.836364\n",
       "2006    0.460606\n",
       "2007    0.381818\n",
       "2008    0.333333\n",
       "2009    0.309091\n",
       "2010    0.248485\n",
       "2011    0.115152\n",
       "2012    0.145455\n",
       "2013    0.175758\n",
       "2014    0.127273\n",
       "2015    0.139394\n",
       "2016    0.145455\n",
       "2017    0.109091\n",
       "2018    0.145455\n",
       "2019    0.133333\n",
       "2020    0.296970\n",
       "2021    0.260606\n",
       "2022    0.309091\n",
       "dtype: float64"
      ]
     },
     "execution_count": 9,
     "metadata": {},
     "output_type": "execute_result"
    }
   ],
   "source": [
    "happy_missing"
   ]
  },
  {
   "cell_type": "markdown",
   "id": "3e66607f-b29e-4850-9b70-da58757a20c2",
   "metadata": {},
   "source": [
    "As expected, 2005 is an outlier when it comes to missing data. Over 80% of countries have missing `Life Ladder` values for the year 2005. Because of this, we decided to use 2007 as the starting point for the next section (2006 also has a large proportion of missing data)."
   ]
  },
  {
   "cell_type": "markdown",
   "id": "6b8bbc91-3687-49fd-a03c-9da9ea91c4ba",
   "metadata": {},
   "source": [
    "#### Largest Change in Happiness\n",
    "Below are the countries with the largest increase in Life Ladder from 2007 to 2022, followed by the countries with the largest decrease."
   ]
  },
  {
   "cell_type": "code",
   "execution_count": 10,
   "id": "be40ed47-2fd4-4943-bc1d-9ec5dbcc2fb9",
   "metadata": {},
   "outputs": [
    {
     "data": {
      "text/html": [
       "<div>\n",
       "<style scoped>\n",
       "    .dataframe tbody tr th:only-of-type {\n",
       "        vertical-align: middle;\n",
       "    }\n",
       "\n",
       "    .dataframe tbody tr th {\n",
       "        vertical-align: top;\n",
       "    }\n",
       "\n",
       "    .dataframe thead th {\n",
       "        text-align: right;\n",
       "    }\n",
       "</style>\n",
       "<table border=\"1\" class=\"dataframe\">\n",
       "  <thead>\n",
       "    <tr style=\"text-align: right;\">\n",
       "      <th>Year</th>\n",
       "      <th>Country Name</th>\n",
       "      <th>2007</th>\n",
       "      <th>2022</th>\n",
       "      <th>Progress</th>\n",
       "    </tr>\n",
       "  </thead>\n",
       "  <tbody>\n",
       "    <tr>\n",
       "      <th>44</th>\n",
       "      <td>Georgia</td>\n",
       "      <td>3.707195</td>\n",
       "      <td>5.292755</td>\n",
       "      <td>1.585561</td>\n",
       "    </tr>\n",
       "    <tr>\n",
       "      <th>16</th>\n",
       "      <td>Bulgaria</td>\n",
       "      <td>3.843798</td>\n",
       "      <td>5.378349</td>\n",
       "      <td>1.534551</td>\n",
       "    </tr>\n",
       "    <tr>\n",
       "      <th>91</th>\n",
       "      <td>Nicaragua</td>\n",
       "      <td>4.944091</td>\n",
       "      <td>6.392258</td>\n",
       "      <td>1.448167</td>\n",
       "    </tr>\n",
       "    <tr>\n",
       "      <th>69</th>\n",
       "      <td>Latvia</td>\n",
       "      <td>4.666972</td>\n",
       "      <td>6.054838</td>\n",
       "      <td>1.387866</td>\n",
       "    </tr>\n",
       "    <tr>\n",
       "      <th>72</th>\n",
       "      <td>Lithuania</td>\n",
       "      <td>5.808285</td>\n",
       "      <td>7.037577</td>\n",
       "      <td>1.229292</td>\n",
       "    </tr>\n",
       "    <tr>\n",
       "      <th>37</th>\n",
       "      <td>El Salvador</td>\n",
       "      <td>5.295535</td>\n",
       "      <td>6.492156</td>\n",
       "      <td>1.196621</td>\n",
       "    </tr>\n",
       "    <tr>\n",
       "      <th>83</th>\n",
       "      <td>Mongolia</td>\n",
       "      <td>4.609059</td>\n",
       "      <td>5.787830</td>\n",
       "      <td>1.178771</td>\n",
       "    </tr>\n",
       "    <tr>\n",
       "      <th>66</th>\n",
       "      <td>Kosovo</td>\n",
       "      <td>5.103906</td>\n",
       "      <td>6.159853</td>\n",
       "      <td>1.055947</td>\n",
       "    </tr>\n",
       "    <tr>\n",
       "      <th>103</th>\n",
       "      <td>Romania</td>\n",
       "      <td>5.393724</td>\n",
       "      <td>6.436974</td>\n",
       "      <td>1.043250</td>\n",
       "    </tr>\n",
       "    <tr>\n",
       "      <th>38</th>\n",
       "      <td>Estonia</td>\n",
       "      <td>5.332044</td>\n",
       "      <td>6.357114</td>\n",
       "      <td>1.025070</td>\n",
       "    </tr>\n",
       "  </tbody>\n",
       "</table>\n",
       "</div>"
      ],
      "text/plain": [
       "Year Country Name      2007      2022  Progress\n",
       "44        Georgia  3.707195  5.292755  1.585561\n",
       "16       Bulgaria  3.843798  5.378349  1.534551\n",
       "91      Nicaragua  4.944091  6.392258  1.448167\n",
       "69         Latvia  4.666972  6.054838  1.387866\n",
       "72      Lithuania  5.808285  7.037577  1.229292\n",
       "37    El Salvador  5.295535  6.492156  1.196621\n",
       "83       Mongolia  4.609059  5.787830  1.178771\n",
       "66         Kosovo  5.103906  6.159853  1.055947\n",
       "103       Romania  5.393724  6.436974  1.043250\n",
       "38        Estonia  5.332044  6.357114  1.025070"
      ]
     },
     "execution_count": 10,
     "metadata": {},
     "output_type": "execute_result"
    }
   ],
   "source": [
    "happiest_dir"
   ]
  },
  {
   "cell_type": "markdown",
   "id": "d8a4eae2-9be9-436d-a02f-edf456a9e07f",
   "metadata": {},
   "source": [
    "These countries had the largest increase in happiness. Factors such as economic growth, improved social welfare and healthcare, access to education, and stable political environments could contribute to an increase in happiness over time."
   ]
  },
  {
   "cell_type": "code",
   "execution_count": 11,
   "id": "9212d51b-6616-4407-b555-c2dcd784c19e",
   "metadata": {},
   "outputs": [
    {
     "data": {
      "text/html": [
       "<div>\n",
       "<style scoped>\n",
       "    .dataframe tbody tr th:only-of-type {\n",
       "        vertical-align: middle;\n",
       "    }\n",
       "\n",
       "    .dataframe tbody tr th {\n",
       "        vertical-align: top;\n",
       "    }\n",
       "\n",
       "    .dataframe thead th {\n",
       "        text-align: right;\n",
       "    }\n",
       "</style>\n",
       "<table border=\"1\" class=\"dataframe\">\n",
       "  <thead>\n",
       "    <tr style=\"text-align: right;\">\n",
       "      <th>Year</th>\n",
       "      <th>Country Name</th>\n",
       "      <th>2007</th>\n",
       "      <th>2022</th>\n",
       "      <th>Progress</th>\n",
       "    </tr>\n",
       "  </thead>\n",
       "  <tbody>\n",
       "    <tr>\n",
       "      <th>75</th>\n",
       "      <td>Malawi</td>\n",
       "      <td>4.891037</td>\n",
       "      <td>3.355563</td>\n",
       "      <td>-1.535473</td>\n",
       "    </tr>\n",
       "    <tr>\n",
       "      <th>36</th>\n",
       "      <td>Egypt</td>\n",
       "      <td>5.540511</td>\n",
       "      <td>4.023561</td>\n",
       "      <td>-1.516950</td>\n",
       "    </tr>\n",
       "    <tr>\n",
       "      <th>63</th>\n",
       "      <td>Jordan</td>\n",
       "      <td>5.598057</td>\n",
       "      <td>4.355607</td>\n",
       "      <td>-1.242451</td>\n",
       "    </tr>\n",
       "    <tr>\n",
       "      <th>7</th>\n",
       "      <td>Bangladesh</td>\n",
       "      <td>4.607322</td>\n",
       "      <td>3.407532</td>\n",
       "      <td>-1.199790</td>\n",
       "    </tr>\n",
       "    <tr>\n",
       "      <th>54</th>\n",
       "      <td>India</td>\n",
       "      <td>5.026793</td>\n",
       "      <td>3.929816</td>\n",
       "      <td>-1.096977</td>\n",
       "    </tr>\n",
       "    <tr>\n",
       "      <th>46</th>\n",
       "      <td>Ghana</td>\n",
       "      <td>5.220148</td>\n",
       "      <td>4.190855</td>\n",
       "      <td>-1.029294</td>\n",
       "    </tr>\n",
       "    <tr>\n",
       "      <th>108</th>\n",
       "      <td>Sierra Leone</td>\n",
       "      <td>3.585127</td>\n",
       "      <td>2.560430</td>\n",
       "      <td>-1.024698</td>\n",
       "    </tr>\n",
       "    <tr>\n",
       "      <th>97</th>\n",
       "      <td>Panama</td>\n",
       "      <td>6.894140</td>\n",
       "      <td>5.979382</td>\n",
       "      <td>-0.914758</td>\n",
       "    </tr>\n",
       "    <tr>\n",
       "      <th>105</th>\n",
       "      <td>Saudi Arabia</td>\n",
       "      <td>7.266694</td>\n",
       "      <td>6.381610</td>\n",
       "      <td>-0.885084</td>\n",
       "    </tr>\n",
       "    <tr>\n",
       "      <th>129</th>\n",
       "      <td>United States</td>\n",
       "      <td>7.512688</td>\n",
       "      <td>6.692790</td>\n",
       "      <td>-0.819898</td>\n",
       "    </tr>\n",
       "  </tbody>\n",
       "</table>\n",
       "</div>"
      ],
      "text/plain": [
       "Year   Country Name      2007      2022  Progress\n",
       "75           Malawi  4.891037  3.355563 -1.535473\n",
       "36            Egypt  5.540511  4.023561 -1.516950\n",
       "63           Jordan  5.598057  4.355607 -1.242451\n",
       "7        Bangladesh  4.607322  3.407532 -1.199790\n",
       "54            India  5.026793  3.929816 -1.096977\n",
       "46            Ghana  5.220148  4.190855 -1.029294\n",
       "108    Sierra Leone  3.585127  2.560430 -1.024698\n",
       "97           Panama  6.894140  5.979382 -0.914758\n",
       "105    Saudi Arabia  7.266694  6.381610 -0.885084\n",
       "129   United States  7.512688  6.692790 -0.819898"
      ]
     },
     "execution_count": 11,
     "metadata": {},
     "output_type": "execute_result"
    }
   ],
   "source": [
    "unhappiest_dir"
   ]
  },
  {
   "cell_type": "markdown",
   "id": "37671462-72de-4526-902d-c6c3a4702420",
   "metadata": {},
   "source": [
    "These countries had the largest decrease in happiness. I was surprised to see the U.S. on this list, and hope that we (and every other country) trend the other way in the future. Along with them is India, the second most populous country in the world. Rising unemployment, financial instability, political unrest, corruption, health crises, and natural disasters are some factors that could contribute to a decrease in happiness over time.\n",
    "\n",
    "Countries without `Life Ladder` scores for either 2007 or 2022 were excluded. This metric may not be the most accurate because it just compares countries at two different points in time without any context. It is possible that the specific years of 2007 and 2022 were outliers for certain countries and taking the difference in `Life Ladder` does not tell the whole story."
   ]
  },
  {
   "cell_type": "markdown",
   "id": "6a2f5656-df11-402b-b5da-196f81b5cc5c",
   "metadata": {},
   "source": [
    "#### Happiest and Unhappiest, on Average\n",
    "Below are the countries with the highest average happiness from 2005 to 2022, followed by the countries with the lowest."
   ]
  },
  {
   "cell_type": "code",
   "execution_count": 12,
   "id": "f6414427-8d4d-430a-b542-5c7f3269e73b",
   "metadata": {},
   "outputs": [
    {
     "data": {
      "text/html": [
       "<div>\n",
       "<style scoped>\n",
       "    .dataframe tbody tr th:only-of-type {\n",
       "        vertical-align: middle;\n",
       "    }\n",
       "\n",
       "    .dataframe tbody tr th {\n",
       "        vertical-align: top;\n",
       "    }\n",
       "\n",
       "    .dataframe thead th {\n",
       "        text-align: right;\n",
       "    }\n",
       "</style>\n",
       "<table border=\"1\" class=\"dataframe\">\n",
       "  <thead>\n",
       "    <tr style=\"text-align: right;\">\n",
       "      <th></th>\n",
       "      <th>Country Name</th>\n",
       "      <th>Life Ladder</th>\n",
       "    </tr>\n",
       "  </thead>\n",
       "  <tbody>\n",
       "    <tr>\n",
       "      <th>39</th>\n",
       "      <td>Denmark</td>\n",
       "      <td>7.673428</td>\n",
       "    </tr>\n",
       "    <tr>\n",
       "      <th>48</th>\n",
       "      <td>Finland</td>\n",
       "      <td>7.619146</td>\n",
       "    </tr>\n",
       "    <tr>\n",
       "      <th>111</th>\n",
       "      <td>Norway</td>\n",
       "      <td>7.481820</td>\n",
       "    </tr>\n",
       "    <tr>\n",
       "      <th>142</th>\n",
       "      <td>Switzerland</td>\n",
       "      <td>7.474483</td>\n",
       "    </tr>\n",
       "    <tr>\n",
       "      <th>63</th>\n",
       "      <td>Iceland</td>\n",
       "      <td>7.458607</td>\n",
       "    </tr>\n",
       "    <tr>\n",
       "      <th>105</th>\n",
       "      <td>Netherlands</td>\n",
       "      <td>7.451992</td>\n",
       "    </tr>\n",
       "    <tr>\n",
       "      <th>141</th>\n",
       "      <td>Sweden</td>\n",
       "      <td>7.377259</td>\n",
       "    </tr>\n",
       "    <tr>\n",
       "      <th>25</th>\n",
       "      <td>Canada</td>\n",
       "      <td>7.323657</td>\n",
       "    </tr>\n",
       "    <tr>\n",
       "      <th>106</th>\n",
       "      <td>New Zealand</td>\n",
       "      <td>7.278497</td>\n",
       "    </tr>\n",
       "    <tr>\n",
       "      <th>69</th>\n",
       "      <td>Israel</td>\n",
       "      <td>7.265653</td>\n",
       "    </tr>\n",
       "  </tbody>\n",
       "</table>\n",
       "</div>"
      ],
      "text/plain": [
       "    Country Name  Life Ladder\n",
       "39       Denmark     7.673428\n",
       "48       Finland     7.619146\n",
       "111       Norway     7.481820\n",
       "142  Switzerland     7.474483\n",
       "63       Iceland     7.458607\n",
       "105  Netherlands     7.451992\n",
       "141       Sweden     7.377259\n",
       "25        Canada     7.323657\n",
       "106  New Zealand     7.278497\n",
       "69        Israel     7.265653"
      ]
     },
     "execution_count": 12,
     "metadata": {},
     "output_type": "execute_result"
    }
   ],
   "source": [
    "happiest"
   ]
  },
  {
   "cell_type": "markdown",
   "id": "1559b757-3f38-401b-88af-cf7455d7c64a",
   "metadata": {},
   "source": [
    "These are the happiest countries overall, most of which are in Northern Europe. These countries have remained economically and politically stable over time and consistently have high GDP per capita, high social support, and low perceptions of corruption."
   ]
  },
  {
   "cell_type": "code",
   "execution_count": 13,
   "id": "7fd297f2-eb32-4618-9f27-58d73b15442c",
   "metadata": {},
   "outputs": [
    {
     "data": {
      "text/html": [
       "<div>\n",
       "<style scoped>\n",
       "    .dataframe tbody tr th:only-of-type {\n",
       "        vertical-align: middle;\n",
       "    }\n",
       "\n",
       "    .dataframe tbody tr th {\n",
       "        vertical-align: top;\n",
       "    }\n",
       "\n",
       "    .dataframe thead th {\n",
       "        text-align: right;\n",
       "    }\n",
       "</style>\n",
       "<table border=\"1\" class=\"dataframe\">\n",
       "  <thead>\n",
       "    <tr style=\"text-align: right;\">\n",
       "      <th></th>\n",
       "      <th>Country Name</th>\n",
       "      <th>Life Ladder</th>\n",
       "    </tr>\n",
       "  </thead>\n",
       "  <tbody>\n",
       "    <tr>\n",
       "      <th>0</th>\n",
       "      <td>Afghanistan</td>\n",
       "      <td>3.346632</td>\n",
       "    </tr>\n",
       "    <tr>\n",
       "      <th>135</th>\n",
       "      <td>South Sudan</td>\n",
       "      <td>3.401875</td>\n",
       "    </tr>\n",
       "    <tr>\n",
       "      <th>26</th>\n",
       "      <td>Central African Republic</td>\n",
       "      <td>3.514954</td>\n",
       "    </tr>\n",
       "    <tr>\n",
       "      <th>22</th>\n",
       "      <td>Burundi</td>\n",
       "      <td>3.548124</td>\n",
       "    </tr>\n",
       "    <tr>\n",
       "      <th>123</th>\n",
       "      <td>Rwanda</td>\n",
       "      <td>3.654473</td>\n",
       "    </tr>\n",
       "    <tr>\n",
       "      <th>148</th>\n",
       "      <td>Togo</td>\n",
       "      <td>3.661006</td>\n",
       "    </tr>\n",
       "    <tr>\n",
       "      <th>146</th>\n",
       "      <td>Tanzania</td>\n",
       "      <td>3.691510</td>\n",
       "    </tr>\n",
       "    <tr>\n",
       "      <th>164</th>\n",
       "      <td>Zimbabwe</td>\n",
       "      <td>3.805361</td>\n",
       "    </tr>\n",
       "    <tr>\n",
       "      <th>31</th>\n",
       "      <td>Comoros</td>\n",
       "      <td>3.886998</td>\n",
       "    </tr>\n",
       "    <tr>\n",
       "      <th>162</th>\n",
       "      <td>Yemen</td>\n",
       "      <td>3.912124</td>\n",
       "    </tr>\n",
       "  </tbody>\n",
       "</table>\n",
       "</div>"
      ],
      "text/plain": [
       "                 Country Name  Life Ladder\n",
       "0                 Afghanistan     3.346632\n",
       "135               South Sudan     3.401875\n",
       "26   Central African Republic     3.514954\n",
       "22                    Burundi     3.548124\n",
       "123                    Rwanda     3.654473\n",
       "148                      Togo     3.661006\n",
       "146                  Tanzania     3.691510\n",
       "164                  Zimbabwe     3.805361\n",
       "31                    Comoros     3.886998\n",
       "162                     Yemen     3.912124"
      ]
     },
     "execution_count": 13,
     "metadata": {},
     "output_type": "execute_result"
    }
   ],
   "source": [
    "unhappiest"
   ]
  },
  {
   "cell_type": "markdown",
   "id": "8ccab6c5-a3e6-4bb2-a98e-e145e40468ef",
   "metadata": {},
   "source": [
    "These are the unhappiest countries overall, all of which are in Africa or the Middle East. These countries are consistently in political and economic unrest with low social support and high perceptions of corruption."
   ]
  },
  {
   "cell_type": "markdown",
   "id": "5690ed4a-bfff-436b-b1b6-6c05ccedbc50",
   "metadata": {},
   "source": [
    "#### Correlation"
   ]
  },
  {
   "cell_type": "code",
   "execution_count": 14,
   "id": "560f96c2-eded-4dec-8dfe-8a5ea9dbf082",
   "metadata": {},
   "outputs": [
    {
     "data": {
      "application/vnd.vegalite.v5+json": {
       "$schema": "https://vega.github.io/schema/vega-lite/v5.16.3.json",
       "config": {
        "view": {
         "continuousHeight": 300,
         "continuousWidth": 300
        }
       },
       "data": {
        "name": "data-0e8442f87c5b1eec131ffd03919ff1cf"
       },
       "datasets": {
        "data-0e8442f87c5b1eec131ffd03919ff1cf": [
         {
          "Correlation": 1,
          "col": "Life Ladder",
          "row": "Life Ladder"
         },
         {
          "Correlation": 0.78487080869899,
          "col": "Life Ladder",
          "row": "Log GDP Per Capita"
         },
         {
          "Correlation": 0.721663355397355,
          "col": "Life Ladder",
          "row": "Social Support"
         },
         {
          "Correlation": 0.7134926136580739,
          "col": "Life Ladder",
          "row": "Healthy Life Expectancy At Birth"
         },
         {
          "Correlation": 0.534532281181744,
          "col": "Life Ladder",
          "row": "Freedom To Make Life Choices"
         },
         {
          "Correlation": 0.1816580875522955,
          "col": "Life Ladder",
          "row": "Generosity"
         },
         {
          "Correlation": -0.43156896185456484,
          "col": "Life Ladder",
          "row": "Perceptions Of Corruption"
         },
         {
          "Correlation": 0.5182072498202096,
          "col": "Life Ladder",
          "row": "Positive Affect"
         },
         {
          "Correlation": -0.33999179215853,
          "col": "Life Ladder",
          "row": "Negative Affect"
         },
         {
          "Correlation": -0.08188677876699203,
          "col": "Life Ladder",
          "row": "Confidence In National Government"
         },
         {
          "Correlation": 0.78487080869899,
          "col": "Log GDP Per Capita",
          "row": "Life Ladder"
         },
         {
          "Correlation": 1,
          "col": "Log GDP Per Capita",
          "row": "Log GDP Per Capita"
         },
         {
          "Correlation": 0.6836185841456904,
          "col": "Log GDP Per Capita",
          "row": "Social Support"
         },
         {
          "Correlation": 0.8181259242338239,
          "col": "Log GDP Per Capita",
          "row": "Healthy Life Expectancy At Birth"
         },
         {
          "Correlation": 0.36756008801784185,
          "col": "Log GDP Per Capita",
          "row": "Freedom To Make Life Choices"
         },
         {
          "Correlation": -0.000799722994815347,
          "col": "Log GDP Per Capita",
          "row": "Generosity"
         },
         {
          "Correlation": -0.35288449991820575,
          "col": "Log GDP Per Capita",
          "row": "Perceptions Of Corruption"
         },
         {
          "Correlation": 0.23798641384755514,
          "col": "Log GDP Per Capita",
          "row": "Positive Affect"
         },
         {
          "Correlation": -0.24755955122761672,
          "col": "Log GDP Per Capita",
          "row": "Negative Affect"
         },
         {
          "Correlation": -0.1883505293379961,
          "col": "Log GDP Per Capita",
          "row": "Confidence In National Government"
         },
         {
          "Correlation": 0.721663355397355,
          "col": "Social Support",
          "row": "Life Ladder"
         },
         {
          "Correlation": 0.6836185841456904,
          "col": "Social Support",
          "row": "Log GDP Per Capita"
         },
         {
          "Correlation": 1,
          "col": "Social Support",
          "row": "Social Support"
         },
         {
          "Correlation": 0.5976823500332538,
          "col": "Social Support",
          "row": "Healthy Life Expectancy At Birth"
         },
         {
          "Correlation": 0.4094389566961722,
          "col": "Social Support",
          "row": "Freedom To Make Life Choices"
         },
         {
          "Correlation": 0.06859287085253787,
          "col": "Social Support",
          "row": "Generosity"
         },
         {
          "Correlation": -0.222583666016795,
          "col": "Social Support",
          "row": "Perceptions Of Corruption"
         },
         {
          "Correlation": 0.4311386450718828,
          "col": "Social Support",
          "row": "Positive Affect"
         },
         {
          "Correlation": -0.4417995625769296,
          "col": "Social Support",
          "row": "Negative Affect"
         },
         {
          "Correlation": -0.1695729233423846,
          "col": "Social Support",
          "row": "Confidence In National Government"
         },
         {
          "Correlation": 0.7134926136580739,
          "col": "Healthy Life Expectancy At Birth",
          "row": "Life Ladder"
         },
         {
          "Correlation": 0.8181259242338239,
          "col": "Healthy Life Expectancy At Birth",
          "row": "Log GDP Per Capita"
         },
         {
          "Correlation": 0.5976823500332538,
          "col": "Healthy Life Expectancy At Birth",
          "row": "Social Support"
         },
         {
          "Correlation": 1,
          "col": "Healthy Life Expectancy At Birth",
          "row": "Healthy Life Expectancy At Birth"
         },
         {
          "Correlation": 0.3734477850909955,
          "col": "Healthy Life Expectancy At Birth",
          "row": "Freedom To Make Life Choices"
         },
         {
          "Correlation": 0.010876369316137266,
          "col": "Healthy Life Expectancy At Birth",
          "row": "Generosity"
         },
         {
          "Correlation": -0.29905491320857663,
          "col": "Healthy Life Expectancy At Birth",
          "row": "Perceptions Of Corruption"
         },
         {
          "Correlation": 0.22311853668560203,
          "col": "Healthy Life Expectancy At Birth",
          "row": "Positive Affect"
         },
         {
          "Correlation": -0.1407261353253471,
          "col": "Healthy Life Expectancy At Birth",
          "row": "Negative Affect"
         },
         {
          "Correlation": -0.17800317308065375,
          "col": "Healthy Life Expectancy At Birth",
          "row": "Confidence In National Government"
         },
         {
          "Correlation": 0.534532281181744,
          "col": "Freedom To Make Life Choices",
          "row": "Life Ladder"
         },
         {
          "Correlation": 0.36756008801784185,
          "col": "Freedom To Make Life Choices",
          "row": "Log GDP Per Capita"
         },
         {
          "Correlation": 0.4094389566961722,
          "col": "Freedom To Make Life Choices",
          "row": "Social Support"
         },
         {
          "Correlation": 0.3734477850909955,
          "col": "Freedom To Make Life Choices",
          "row": "Healthy Life Expectancy At Birth"
         },
         {
          "Correlation": 1,
          "col": "Freedom To Make Life Choices",
          "row": "Freedom To Make Life Choices"
         },
         {
          "Correlation": 0.3251072808550255,
          "col": "Freedom To Make Life Choices",
          "row": "Generosity"
         },
         {
          "Correlation": -0.47653719421040974,
          "col": "Freedom To Make Life Choices",
          "row": "Perceptions Of Corruption"
         },
         {
          "Correlation": 0.5787520913716118,
          "col": "Freedom To Make Life Choices",
          "row": "Positive Affect"
         },
         {
          "Correlation": -0.27546950971671,
          "col": "Freedom To Make Life Choices",
          "row": "Negative Affect"
         },
         {
          "Correlation": 0.40853257982755714,
          "col": "Freedom To Make Life Choices",
          "row": "Confidence In National Government"
         },
         {
          "Correlation": 0.1816580875522955,
          "col": "Generosity",
          "row": "Life Ladder"
         },
         {
          "Correlation": -0.000799722994815347,
          "col": "Generosity",
          "row": "Log GDP Per Capita"
         },
         {
          "Correlation": 0.06859287085253787,
          "col": "Generosity",
          "row": "Social Support"
         },
         {
          "Correlation": 0.010876369316137266,
          "col": "Generosity",
          "row": "Healthy Life Expectancy At Birth"
         },
         {
          "Correlation": 0.3251072808550255,
          "col": "Generosity",
          "row": "Freedom To Make Life Choices"
         },
         {
          "Correlation": 1,
          "col": "Generosity",
          "row": "Generosity"
         },
         {
          "Correlation": -0.27949403797555655,
          "col": "Generosity",
          "row": "Perceptions Of Corruption"
         },
         {
          "Correlation": 0.30714031508701634,
          "col": "Generosity",
          "row": "Positive Affect"
         },
         {
          "Correlation": -0.08083727711490657,
          "col": "Generosity",
          "row": "Negative Affect"
         },
         {
          "Correlation": 0.2943985858730801,
          "col": "Generosity",
          "row": "Confidence In National Government"
         },
         {
          "Correlation": -0.43156896185456484,
          "col": "Perceptions Of Corruption",
          "row": "Life Ladder"
         },
         {
          "Correlation": -0.35288449991820575,
          "col": "Perceptions Of Corruption",
          "row": "Log GDP Per Capita"
         },
         {
          "Correlation": -0.222583666016795,
          "col": "Perceptions Of Corruption",
          "row": "Social Support"
         },
         {
          "Correlation": -0.29905491320857663,
          "col": "Perceptions Of Corruption",
          "row": "Healthy Life Expectancy At Birth"
         },
         {
          "Correlation": -0.47653719421040974,
          "col": "Perceptions Of Corruption",
          "row": "Freedom To Make Life Choices"
         },
         {
          "Correlation": -0.27949403797555655,
          "col": "Perceptions Of Corruption",
          "row": "Generosity"
         },
         {
          "Correlation": 1,
          "col": "Perceptions Of Corruption",
          "row": "Perceptions Of Corruption"
         },
         {
          "Correlation": -0.2806201102169848,
          "col": "Perceptions Of Corruption",
          "row": "Positive Affect"
         },
         {
          "Correlation": 0.26626728816685424,
          "col": "Perceptions Of Corruption",
          "row": "Negative Affect"
         },
         {
          "Correlation": -0.46078891526294347,
          "col": "Perceptions Of Corruption",
          "row": "Confidence In National Government"
         },
         {
          "Correlation": 0.5182072498202096,
          "col": "Positive Affect",
          "row": "Life Ladder"
         },
         {
          "Correlation": 0.23798641384755514,
          "col": "Positive Affect",
          "row": "Log GDP Per Capita"
         },
         {
          "Correlation": 0.4311386450718828,
          "col": "Positive Affect",
          "row": "Social Support"
         },
         {
          "Correlation": 0.22311853668560203,
          "col": "Positive Affect",
          "row": "Healthy Life Expectancy At Birth"
         },
         {
          "Correlation": 0.5787520913716118,
          "col": "Positive Affect",
          "row": "Freedom To Make Life Choices"
         },
         {
          "Correlation": 0.30714031508701634,
          "col": "Positive Affect",
          "row": "Generosity"
         },
         {
          "Correlation": -0.2806201102169848,
          "col": "Positive Affect",
          "row": "Perceptions Of Corruption"
         },
         {
          "Correlation": 1,
          "col": "Positive Affect",
          "row": "Positive Affect"
         },
         {
          "Correlation": -0.33023646611279384,
          "col": "Positive Affect",
          "row": "Negative Affect"
         },
         {
          "Correlation": 0.12324077232446247,
          "col": "Positive Affect",
          "row": "Confidence In National Government"
         },
         {
          "Correlation": -0.33999179215853,
          "col": "Negative Affect",
          "row": "Life Ladder"
         },
         {
          "Correlation": -0.24755955122761672,
          "col": "Negative Affect",
          "row": "Log GDP Per Capita"
         },
         {
          "Correlation": -0.4417995625769296,
          "col": "Negative Affect",
          "row": "Social Support"
         },
         {
          "Correlation": -0.1407261353253471,
          "col": "Negative Affect",
          "row": "Healthy Life Expectancy At Birth"
         },
         {
          "Correlation": -0.27546950971671,
          "col": "Negative Affect",
          "row": "Freedom To Make Life Choices"
         },
         {
          "Correlation": -0.08083727711490657,
          "col": "Negative Affect",
          "row": "Generosity"
         },
         {
          "Correlation": 0.26626728816685424,
          "col": "Negative Affect",
          "row": "Perceptions Of Corruption"
         },
         {
          "Correlation": -0.33023646611279384,
          "col": "Negative Affect",
          "row": "Positive Affect"
         },
         {
          "Correlation": 1,
          "col": "Negative Affect",
          "row": "Negative Affect"
         },
         {
          "Correlation": -0.12563144240154586,
          "col": "Negative Affect",
          "row": "Confidence In National Government"
         },
         {
          "Correlation": -0.08188677876699203,
          "col": "Confidence In National Government",
          "row": "Life Ladder"
         },
         {
          "Correlation": -0.1883505293379961,
          "col": "Confidence In National Government",
          "row": "Log GDP Per Capita"
         },
         {
          "Correlation": -0.1695729233423846,
          "col": "Confidence In National Government",
          "row": "Social Support"
         },
         {
          "Correlation": -0.17800317308065375,
          "col": "Confidence In National Government",
          "row": "Healthy Life Expectancy At Birth"
         },
         {
          "Correlation": 0.40853257982755714,
          "col": "Confidence In National Government",
          "row": "Freedom To Make Life Choices"
         },
         {
          "Correlation": 0.2943985858730801,
          "col": "Confidence In National Government",
          "row": "Generosity"
         },
         {
          "Correlation": -0.46078891526294347,
          "col": "Confidence In National Government",
          "row": "Perceptions Of Corruption"
         },
         {
          "Correlation": 0.12324077232446247,
          "col": "Confidence In National Government",
          "row": "Positive Affect"
         },
         {
          "Correlation": -0.12563144240154586,
          "col": "Confidence In National Government",
          "row": "Negative Affect"
         },
         {
          "Correlation": 1,
          "col": "Confidence In National Government",
          "row": "Confidence In National Government"
         }
        ]
       },
       "encoding": {
        "color": {
         "field": "Correlation",
         "legend": {
          "tickCount": 5
         },
         "scale": {
          "domain": [
           -1,
           1
          ],
          "scheme": "blueorange",
          "type": "sqrt"
         },
         "type": "quantitative"
        },
        "x": {
         "field": "col",
         "sort": {
          "field": "Correlation",
          "order": "ascending"
         },
         "title": "",
         "type": "nominal"
        },
        "y": {
         "field": "row",
         "sort": {
          "field": "Correlation",
          "order": "ascending"
         },
         "title": "",
         "type": "nominal"
        }
       },
       "height": 300,
       "mark": {
        "type": "rect"
       },
       "width": 300
      },
      "image/png": "[encoded data removed]",
      "text/plain": [
       "<VegaLite 5 object>\n",
       "\n",
       "If you see this message, it means the renderer has not been properly enabled\n",
       "for the frontend that you are using. For more information, see\n",
       "https://altair-viz.github.io/user_guide/display_frontends.html#troubleshooting\n"
      ]
     },
     "execution_count": 14,
     "metadata": {},
     "output_type": "execute_result"
    }
   ],
   "source": [
    "happy_corr_plot"
   ]
  },
  {
   "cell_type": "markdown",
   "id": "c9f5750f-f2a9-476d-b441-1178c4df4f20",
   "metadata": {},
   "source": [
    "Above is a correlation plot with all of the different measured variables. Dark brown indicates a high positive correlation and dark blue indicates a high negative correlation. Let’s take a closer look at `Life Ladder` correlations."
   ]
  },
  {
   "cell_type": "code",
   "execution_count": 15,
   "id": "5cec3d28-4819-4d7c-b8b1-d1f81aaa1811",
   "metadata": {},
   "outputs": [
    {
     "data": {
      "text/plain": [
       "Perceptions Of Corruption           -0.431569\n",
       "Negative Affect                     -0.339992\n",
       "Confidence In National Government   -0.081887\n",
       "Generosity                           0.181658\n",
       "Positive Affect                      0.518207\n",
       "Freedom To Make Life Choices         0.534532\n",
       "Healthy Life Expectancy At Birth     0.713493\n",
       "Social Support                       0.721663\n",
       "Log GDP Per Capita                   0.784871\n",
       "Life Ladder                          1.000000\n",
       "Name: Life Ladder, dtype: float64"
      ]
     },
     "execution_count": 15,
     "metadata": {},
     "output_type": "execute_result"
    }
   ],
   "source": [
    "life_ladder_corr"
   ]
  },
  {
   "cell_type": "markdown",
   "id": "0d3ecc7f-d572-44bf-a979-250c8d793a6e",
   "metadata": {},
   "source": [
    "The table above shows the specific correlation values of other variables with `Life Ladder`. We see that `Perceptions Of Corruption` is the most negatively correlated while `Log GDP Per Capita` is the most positively correlated, with `Social Support` and `Healthy Life Expectancy At Birth` very close behind. This shows that high perceptions of corruption and low confidence in government indicate general unhappiness in a country, while things like wealth, health, and government support indicate general happiness in a country."
   ]
  },
  {
   "cell_type": "markdown",
   "id": "04ebd664-2814-4ce1-8d7e-ca33078c0abd",
   "metadata": {},
   "source": [
    "#### PCA\n",
    "Now we will run a principal component analysis of the data."
   ]
  },
  {
   "cell_type": "code",
   "execution_count": 16,
   "id": "833d3084-6fe2-421d-b183-874aed69901f",
   "metadata": {},
   "outputs": [
    {
     "data": {
      "application/vnd.vegalite.v5+json": {
       "$schema": "https://vega.github.io/schema/vega-lite/v5.16.3.json",
       "config": {
        "view": {
         "continuousHeight": 300,
         "continuousWidth": 300
        }
       },
       "data": {
        "name": "data-a0a568417eabd594cb00e6b2bb98082a"
       },
       "datasets": {
        "data-a0a568417eabd594cb00e6b2bb98082a": [
         {
          "Component": 1,
          "Cumulative variance explained": 0.428809128694973,
          "Proportion of variance explained": 0.428809128694973
         },
         {
          "Component": 2,
          "Cumulative variance explained": 0.6268327982499924,
          "Proportion of variance explained": 0.19802366955501938
         },
         {
          "Component": 3,
          "Cumulative variance explained": 0.721074612813572,
          "Proportion of variance explained": 0.09424181456357958
         },
         {
          "Component": 4,
          "Cumulative variance explained": 0.809631725708697,
          "Proportion of variance explained": 0.08855711289512506
         },
         {
          "Component": 5,
          "Cumulative variance explained": 0.8750425761565848,
          "Proportion of variance explained": 0.0654108504478877
         },
         {
          "Component": 6,
          "Cumulative variance explained": 0.9175044449043604,
          "Proportion of variance explained": 0.042461868747775675
         },
         {
          "Component": 7,
          "Cumulative variance explained": 0.944817966912132,
          "Proportion of variance explained": 0.02731352200777163
         },
         {
          "Component": 8,
          "Cumulative variance explained": 0.9692778008603037,
          "Proportion of variance explained": 0.024459833948171646
         },
         {
          "Component": 9,
          "Cumulative variance explained": 0.9868388602541549,
          "Proportion of variance explained": 0.017561059393851244
         },
         {
          "Component": 10,
          "Cumulative variance explained": 0.9999999999999999,
          "Proportion of variance explained": 0.013161139745844999
         }
        ]
       },
       "layer": [
        {
         "layer": [
          {
           "encoding": {
            "x": {
             "field": "Component",
             "type": "quantitative"
            },
            "y": {
             "axis": {
              "titleColor": "blue"
             },
             "field": "Proportion of variance explained",
             "type": "quantitative"
            }
           },
           "mark": {
            "stroke": "blue",
            "type": "line"
           }
          },
          {
           "encoding": {
            "x": {
             "field": "Component",
             "type": "quantitative"
            },
            "y": {
             "axis": {
              "titleColor": "blue"
             },
             "field": "Proportion of variance explained",
             "type": "quantitative"
            }
           },
           "mark": {
            "color": "blue",
            "type": "point"
           }
          }
         ]
        },
        {
         "layer": [
          {
           "encoding": {
            "x": {
             "field": "Component",
             "type": "quantitative"
            },
            "y": {
             "axis": {
              "titleColor": "red"
             },
             "field": "Cumulative variance explained",
             "type": "quantitative"
            }
           },
           "mark": {
            "stroke": "red",
            "type": "line"
           }
          },
          {
           "encoding": {
            "x": {
             "field": "Component",
             "type": "quantitative"
            },
            "y": {
             "axis": {
              "titleColor": "red"
             },
             "field": "Cumulative variance explained",
             "type": "quantitative"
            }
           },
           "mark": {
            "stroke": "red",
            "type": "point"
           }
          }
         ]
        }
       ],
       "resolve": {
        "scale": {
         "y": "independent"
        }
       }
      },
      "image/png": "[encoded data removed]",
      "text/plain": [
       "<VegaLite 5 object>\n",
       "\n",
       "If you see this message, it means the renderer has not been properly enabled\n",
       "for the frontend that you are using. For more information, see\n",
       "https://altair-viz.github.io/user_guide/display_frontends.html#troubleshooting\n"
      ]
     },
     "execution_count": 16,
     "metadata": {},
     "output_type": "execute_result"
    }
   ],
   "source": [
    "var_explained_plot"
   ]
  },
  {
   "cell_type": "markdown",
   "id": "4763e3d1-de86-4a7a-8dd8-3927c8112502",
   "metadata": {},
   "source": [
    "The plot above shows the variance explained for each of the principal components (PCs). There are 5 PCs that explain more than 5% of the total variation individually, with the first two explaining far more variance than the following three. Together they capture 87.5% of the total variance. Let’s take a look at these 5 PCs."
   ]
  },
  {
   "cell_type": "code",
   "execution_count": 17,
   "id": "3429582a-543c-4730-b3c3-b900184d2d1f",
   "metadata": {},
   "outputs": [
    {
     "data": {
      "application/vnd.vegalite.v5+json": {
       "$schema": "https://vega.github.io/schema/vega-lite/v5.16.3.json",
       "config": {
        "view": {
         "continuousHeight": 300,
         "continuousWidth": 300
        }
       },
       "data": {
        "name": "data-d2d3b901eeb4ef3d9c9780850dcb13f8"
       },
       "datasets": {
        "data-d2d3b901eeb4ef3d9c9780850dcb13f8": [
         {
          "Loading": 0.43780774364122327,
          "Principal Component": "PC1",
          "Variable": "Life Ladder",
          "zero": 0
         },
         {
          "Loading": 0.3950145362407646,
          "Principal Component": "PC1",
          "Variable": "Log GDP Per Capita",
          "zero": 0
         },
         {
          "Loading": 0.3863298063249017,
          "Principal Component": "PC1",
          "Variable": "Social Support",
          "zero": 0
         },
         {
          "Loading": 0.37260762411235326,
          "Principal Component": "PC1",
          "Variable": "Healthy Life Expectancy At Birth",
          "zero": 0
         },
         {
          "Loading": 0.3459488205138932,
          "Principal Component": "PC1",
          "Variable": "Freedom To Make Life Choices",
          "zero": 0
         },
         {
          "Loading": 0.1325703532494374,
          "Principal Component": "PC1",
          "Variable": "Generosity",
          "zero": 0
         },
         {
          "Loading": -0.28975864565478215,
          "Principal Component": "PC1",
          "Variable": "Perceptions Of Corruption",
          "zero": 0
         },
         {
          "Loading": 0.30197251569604544,
          "Principal Component": "PC1",
          "Variable": "Positive Affect",
          "zero": 0
         },
         {
          "Loading": -0.22343721789802354,
          "Principal Component": "PC1",
          "Variable": "Negative Affect",
          "zero": 0
         },
         {
          "Loading": 0.04328494749274129,
          "Principal Component": "PC1",
          "Variable": "Confidence In National Government",
          "zero": 0
         },
         {
          "Loading": 0.12154077642126715,
          "Principal Component": "PC2",
          "Variable": "Life Ladder",
          "zero": 0
         },
         {
          "Loading": 0.2944867738823466,
          "Principal Component": "PC2",
          "Variable": "Log GDP Per Capita",
          "zero": 0
         },
         {
          "Loading": 0.21793969386755455,
          "Principal Component": "PC2",
          "Variable": "Social Support",
          "zero": 0
         },
         {
          "Loading": 0.28322919273721653,
          "Principal Component": "PC2",
          "Variable": "Healthy Life Expectancy At Birth",
          "zero": 0
         },
         {
          "Loading": -0.2983150393568823,
          "Principal Component": "PC2",
          "Variable": "Freedom To Make Life Choices",
          "zero": 0
         },
         {
          "Loading": -0.40889545745649536,
          "Principal Component": "PC2",
          "Variable": "Generosity",
          "zero": 0
         },
         {
          "Loading": 0.3277167618867848,
          "Principal Component": "PC2",
          "Variable": "Perceptions Of Corruption",
          "zero": 0
         },
         {
          "Loading": -0.19892963152848506,
          "Principal Component": "PC2",
          "Variable": "Positive Affect",
          "zero": 0
         },
         {
          "Loading": 0.09353046490533316,
          "Principal Component": "PC2",
          "Variable": "Negative Affect",
          "zero": 0
         },
         {
          "Loading": -0.5990678708389742,
          "Principal Component": "PC2",
          "Variable": "Confidence In National Government",
          "zero": 0
         },
         {
          "Loading": 0.07251375257501878,
          "Principal Component": "PC3",
          "Variable": "Life Ladder",
          "zero": 0
         },
         {
          "Loading": 0.20483316382587788,
          "Principal Component": "PC3",
          "Variable": "Log GDP Per Capita",
          "zero": 0
         },
         {
          "Loading": -0.26448853718215565,
          "Principal Component": "PC3",
          "Variable": "Social Support",
          "zero": 0
         },
         {
          "Loading": 0.3296018907494245,
          "Principal Component": "PC3",
          "Variable": "Healthy Life Expectancy At Birth",
          "zero": 0
         },
         {
          "Loading": 0.10248700645091734,
          "Principal Component": "PC3",
          "Variable": "Freedom To Make Life Choices",
          "zero": 0
         },
         {
          "Loading": 0.0011013032407784233,
          "Principal Component": "PC3",
          "Variable": "Generosity",
          "zero": 0
         },
         {
          "Loading": -0.3126710303344789,
          "Principal Component": "PC3",
          "Variable": "Perceptions Of Corruption",
          "zero": 0
         },
         {
          "Loading": -0.36126189714517776,
          "Principal Component": "PC3",
          "Variable": "Positive Affect",
          "zero": 0
         },
         {
          "Loading": 0.7085286672349966,
          "Principal Component": "PC3",
          "Variable": "Negative Affect",
          "zero": 0
         },
         {
          "Loading": 0.18276360361122387,
          "Principal Component": "PC3",
          "Variable": "Confidence In National Government",
          "zero": 0
         },
         {
          "Loading": 0.07907079368238443,
          "Principal Component": "PC4",
          "Variable": "Life Ladder",
          "zero": 0
         },
         {
          "Loading": -0.12764000984600596,
          "Principal Component": "PC4",
          "Variable": "Log GDP Per Capita",
          "zero": 0
         },
         {
          "Loading": 0.02337725928951079,
          "Principal Component": "PC4",
          "Variable": "Social Support",
          "zero": 0
         },
         {
          "Loading": -0.0038832690916308582,
          "Principal Component": "PC4",
          "Variable": "Healthy Life Expectancy At Birth",
          "zero": 0
         },
         {
          "Loading": 0.09095772831758728,
          "Principal Component": "PC4",
          "Variable": "Freedom To Make Life Choices",
          "zero": 0
         },
         {
          "Loading": 0.5460599854876589,
          "Principal Component": "PC4",
          "Variable": "Generosity",
          "zero": 0
         },
         {
          "Loading": 0.3575252661385827,
          "Principal Component": "PC4",
          "Variable": "Perceptions Of Corruption",
          "zero": 0
         },
         {
          "Loading": 0.43751340982360876,
          "Principal Component": "PC4",
          "Variable": "Positive Affect",
          "zero": 0
         },
         {
          "Loading": 0.4915673974635618,
          "Principal Component": "PC4",
          "Variable": "Negative Affect",
          "zero": 0
         },
         {
          "Loading": -0.3309964341178007,
          "Principal Component": "PC4",
          "Variable": "Confidence In National Government",
          "zero": 0
         },
         {
          "Loading": 0.039012202065382834,
          "Principal Component": "PC5",
          "Variable": "Life Ladder",
          "zero": 0
         },
         {
          "Loading": 0.12054545728001542,
          "Principal Component": "PC5",
          "Variable": "Log GDP Per Capita",
          "zero": 0
         },
         {
          "Loading": -0.006689832265725223,
          "Principal Component": "PC5",
          "Variable": "Social Support",
          "zero": 0
         },
         {
          "Loading": 0.06587596026500264,
          "Principal Component": "PC5",
          "Variable": "Healthy Life Expectancy At Birth",
          "zero": 0
         },
         {
          "Loading": -0.4293142543607006,
          "Principal Component": "PC5",
          "Variable": "Freedom To Make Life Choices",
          "zero": 0
         },
         {
          "Loading": 0.6967209516550534,
          "Principal Component": "PC5",
          "Variable": "Generosity",
          "zero": 0
         },
         {
          "Loading": -0.1652366596815123,
          "Principal Component": "PC5",
          "Variable": "Perceptions Of Corruption",
          "zero": 0
         },
         {
          "Loading": -0.4340538333672292,
          "Principal Component": "PC5",
          "Variable": "Positive Affect",
          "zero": 0
         },
         {
          "Loading": -0.265578182312241,
          "Principal Component": "PC5",
          "Variable": "Negative Affect",
          "zero": 0
         },
         {
          "Loading": -0.15360330877428818,
          "Principal Component": "PC5",
          "Variable": "Confidence In National Government",
          "zero": 0
         }
        ]
       },
       "facet": {
        "column": {
         "field": "Principal Component",
         "title": "",
         "type": "nominal"
        }
       },
       "spec": {
        "height": 250,
        "layer": [
         {
          "encoding": {
           "color": {
            "field": "Principal Component",
            "type": "nominal"
           },
           "x": {
            "field": "Loading",
            "type": "quantitative"
           },
           "y": {
            "field": "Variable",
            "title": "",
            "type": "nominal"
           }
          },
          "mark": {
           "point": true,
           "type": "line"
          }
         },
         {
          "encoding": {
           "size": {
            "value": 0.05
           },
           "x": {
            "field": "zero",
            "title": "Loading",
            "type": "quantitative"
           }
          },
          "mark": {
           "type": "rule"
          }
         }
        ],
        "width": 100
       }
      },
      "image/png": "[encoded data removed]",
      "text/plain": [
       "<VegaLite 5 object>\n",
       "\n",
       "If you see this message, it means the renderer has not been properly enabled\n",
       "for the frontend that you are using. For more information, see\n",
       "https://altair-viz.github.io/user_guide/display_frontends.html#troubleshooting\n"
      ]
     },
     "execution_count": 17,
     "metadata": {},
     "output_type": "execute_result"
    }
   ],
   "source": [
    "PC_plot"
   ]
  },
  {
   "cell_type": "markdown",
   "id": "014a6f3e-ea25-46ef-9003-02869a39a125",
   "metadata": {},
   "source": [
    "The more positive the loading value, the more positively the variable affects the PC value, and the more negative the loading value, the more negatively the variable affects the PC value. For example, PC5 is most positively affected by Generosity and most negatively affected by Freedom to make life choices. Variables with loadings close to 0 have little to no effect on that PC.\n",
    "\n",
    "Now let's look at some PC values. Below are tables of countries with the highest and lowest PC1 scores, along with their other PC scores."
   ]
  },
  {
   "cell_type": "code",
   "execution_count": 18,
   "id": "c3a9fb9f-f01c-4192-a33b-a22a06fe6f85",
   "metadata": {},
   "outputs": [
    {
     "data": {
      "text/html": [
       "<div>\n",
       "<style scoped>\n",
       "    .dataframe tbody tr th:only-of-type {\n",
       "        vertical-align: middle;\n",
       "    }\n",
       "\n",
       "    .dataframe tbody tr th {\n",
       "        vertical-align: top;\n",
       "    }\n",
       "\n",
       "    .dataframe thead th {\n",
       "        text-align: right;\n",
       "    }\n",
       "</style>\n",
       "<table border=\"1\" class=\"dataframe\">\n",
       "  <thead>\n",
       "    <tr style=\"text-align: right;\">\n",
       "      <th></th>\n",
       "      <th>PC1</th>\n",
       "      <th>PC2</th>\n",
       "      <th>PC3</th>\n",
       "      <th>PC4</th>\n",
       "      <th>PC5</th>\n",
       "    </tr>\n",
       "    <tr>\n",
       "      <th>Country</th>\n",
       "      <th></th>\n",
       "      <th></th>\n",
       "      <th></th>\n",
       "      <th></th>\n",
       "      <th></th>\n",
       "    </tr>\n",
       "  </thead>\n",
       "  <tbody>\n",
       "    <tr>\n",
       "      <th>Denmark</th>\n",
       "      <td>0.049105</td>\n",
       "      <td>-0.021358</td>\n",
       "      <td>0.014103</td>\n",
       "      <td>-0.011105</td>\n",
       "      <td>0.015226</td>\n",
       "    </tr>\n",
       "    <tr>\n",
       "      <th>Norway</th>\n",
       "      <td>0.047127</td>\n",
       "      <td>-0.020862</td>\n",
       "      <td>0.012390</td>\n",
       "      <td>-0.011611</td>\n",
       "      <td>0.004460</td>\n",
       "    </tr>\n",
       "    <tr>\n",
       "      <th>Switzerland</th>\n",
       "      <td>0.046850</td>\n",
       "      <td>-0.022458</td>\n",
       "      <td>0.017383</td>\n",
       "      <td>-0.026520</td>\n",
       "      <td>0.005874</td>\n",
       "    </tr>\n",
       "    <tr>\n",
       "      <th>Sweden</th>\n",
       "      <td>0.045476</td>\n",
       "      <td>-0.018548</td>\n",
       "      <td>0.011475</td>\n",
       "      <td>-0.014998</td>\n",
       "      <td>0.016771</td>\n",
       "    </tr>\n",
       "    <tr>\n",
       "      <th>New Zealand</th>\n",
       "      <td>0.045275</td>\n",
       "      <td>-0.026200</td>\n",
       "      <td>0.009682</td>\n",
       "      <td>-0.002080</td>\n",
       "      <td>0.023945</td>\n",
       "    </tr>\n",
       "    <tr>\n",
       "      <th>Finland</th>\n",
       "      <td>0.044809</td>\n",
       "      <td>-0.013389</td>\n",
       "      <td>0.013053</td>\n",
       "      <td>-0.031150</td>\n",
       "      <td>-0.001464</td>\n",
       "    </tr>\n",
       "    <tr>\n",
       "      <th>Iceland</th>\n",
       "      <td>0.043041</td>\n",
       "      <td>-0.001746</td>\n",
       "      <td>-0.021583</td>\n",
       "      <td>0.024545</td>\n",
       "      <td>0.018860</td>\n",
       "    </tr>\n",
       "    <tr>\n",
       "      <th>Netherlands</th>\n",
       "      <td>0.042256</td>\n",
       "      <td>-0.019315</td>\n",
       "      <td>0.014202</td>\n",
       "      <td>0.001694</td>\n",
       "      <td>0.031220</td>\n",
       "    </tr>\n",
       "    <tr>\n",
       "      <th>Luxembourg</th>\n",
       "      <td>0.041279</td>\n",
       "      <td>-0.014039</td>\n",
       "      <td>0.021161</td>\n",
       "      <td>-0.031525</td>\n",
       "      <td>0.003579</td>\n",
       "    </tr>\n",
       "    <tr>\n",
       "      <th>Canada</th>\n",
       "      <td>0.041216</td>\n",
       "      <td>-0.016212</td>\n",
       "      <td>0.016711</td>\n",
       "      <td>0.010986</td>\n",
       "      <td>0.011412</td>\n",
       "    </tr>\n",
       "  </tbody>\n",
       "</table>\n",
       "</div>"
      ],
      "text/plain": [
       "                  PC1       PC2       PC3       PC4       PC5\n",
       "Country                                                      \n",
       "Denmark      0.049105 -0.021358  0.014103 -0.011105  0.015226\n",
       "Norway       0.047127 -0.020862  0.012390 -0.011611  0.004460\n",
       "Switzerland  0.046850 -0.022458  0.017383 -0.026520  0.005874\n",
       "Sweden       0.045476 -0.018548  0.011475 -0.014998  0.016771\n",
       "New Zealand  0.045275 -0.026200  0.009682 -0.002080  0.023945\n",
       "Finland      0.044809 -0.013389  0.013053 -0.031150 -0.001464\n",
       "Iceland      0.043041 -0.001746 -0.021583  0.024545  0.018860\n",
       "Netherlands  0.042256 -0.019315  0.014202  0.001694  0.031220\n",
       "Luxembourg   0.041279 -0.014039  0.021161 -0.031525  0.003579\n",
       "Canada       0.041216 -0.016212  0.016711  0.010986  0.011412"
      ]
     },
     "execution_count": 18,
     "metadata": {},
     "output_type": "execute_result"
    }
   ],
   "source": [
    "pc1_most"
   ]
  },
  {
   "cell_type": "code",
   "execution_count": 19,
   "id": "3d25ae43-e477-4e02-8c4e-95611b6eec6f",
   "metadata": {},
   "outputs": [
    {
     "data": {
      "text/html": [
       "<div>\n",
       "<style scoped>\n",
       "    .dataframe tbody tr th:only-of-type {\n",
       "        vertical-align: middle;\n",
       "    }\n",
       "\n",
       "    .dataframe tbody tr th {\n",
       "        vertical-align: top;\n",
       "    }\n",
       "\n",
       "    .dataframe thead th {\n",
       "        text-align: right;\n",
       "    }\n",
       "</style>\n",
       "<table border=\"1\" class=\"dataframe\">\n",
       "  <thead>\n",
       "    <tr style=\"text-align: right;\">\n",
       "      <th></th>\n",
       "      <th>PC1</th>\n",
       "      <th>PC2</th>\n",
       "      <th>PC3</th>\n",
       "      <th>PC4</th>\n",
       "      <th>PC5</th>\n",
       "    </tr>\n",
       "    <tr>\n",
       "      <th>Country</th>\n",
       "      <th></th>\n",
       "      <th></th>\n",
       "      <th></th>\n",
       "      <th></th>\n",
       "      <th></th>\n",
       "    </tr>\n",
       "  </thead>\n",
       "  <tbody>\n",
       "    <tr>\n",
       "      <th>Central African Republic</th>\n",
       "      <td>-0.055487</td>\n",
       "      <td>-0.041215</td>\n",
       "      <td>0.023005</td>\n",
       "      <td>0.003557</td>\n",
       "      <td>-0.009005</td>\n",
       "    </tr>\n",
       "    <tr>\n",
       "      <th>Burundi</th>\n",
       "      <td>-0.055032</td>\n",
       "      <td>-0.032184</td>\n",
       "      <td>-0.007722</td>\n",
       "      <td>-0.041234</td>\n",
       "      <td>0.032831</td>\n",
       "    </tr>\n",
       "    <tr>\n",
       "      <th>Afghanistan</th>\n",
       "      <td>-0.051175</td>\n",
       "      <td>-0.004374</td>\n",
       "      <td>0.017640</td>\n",
       "      <td>0.000294</td>\n",
       "      <td>0.037748</td>\n",
       "    </tr>\n",
       "    <tr>\n",
       "      <th>Togo</th>\n",
       "      <td>-0.046249</td>\n",
       "      <td>-0.010312</td>\n",
       "      <td>0.032151</td>\n",
       "      <td>0.012250</td>\n",
       "      <td>-0.005954</td>\n",
       "    </tr>\n",
       "    <tr>\n",
       "      <th>Haiti</th>\n",
       "      <td>-0.043901</td>\n",
       "      <td>-0.017457</td>\n",
       "      <td>-0.014638</td>\n",
       "      <td>0.021281</td>\n",
       "      <td>0.060894</td>\n",
       "    </tr>\n",
       "    <tr>\n",
       "      <th>Chad</th>\n",
       "      <td>-0.042763</td>\n",
       "      <td>-0.000880</td>\n",
       "      <td>-0.004310</td>\n",
       "      <td>0.009867</td>\n",
       "      <td>0.017825</td>\n",
       "    </tr>\n",
       "    <tr>\n",
       "      <th>Sierra Leone</th>\n",
       "      <td>-0.035977</td>\n",
       "      <td>-0.026361</td>\n",
       "      <td>0.014957</td>\n",
       "      <td>0.014531</td>\n",
       "      <td>-0.004463</td>\n",
       "    </tr>\n",
       "    <tr>\n",
       "      <th>Benin</th>\n",
       "      <td>-0.034763</td>\n",
       "      <td>-0.025276</td>\n",
       "      <td>0.025582</td>\n",
       "      <td>-0.007369</td>\n",
       "      <td>-0.016094</td>\n",
       "    </tr>\n",
       "    <tr>\n",
       "      <th>Congo (Kinshasa)</th>\n",
       "      <td>-0.033120</td>\n",
       "      <td>-0.002256</td>\n",
       "      <td>-0.024615</td>\n",
       "      <td>0.000158</td>\n",
       "      <td>0.015498</td>\n",
       "    </tr>\n",
       "    <tr>\n",
       "      <th>Pakistan</th>\n",
       "      <td>-0.032869</td>\n",
       "      <td>-0.000656</td>\n",
       "      <td>0.020178</td>\n",
       "      <td>0.004830</td>\n",
       "      <td>0.044117</td>\n",
       "    </tr>\n",
       "  </tbody>\n",
       "</table>\n",
       "</div>"
      ],
      "text/plain": [
       "                               PC1       PC2       PC3       PC4       PC5\n",
       "Country                                                                   \n",
       "Central African Republic -0.055487 -0.041215  0.023005  0.003557 -0.009005\n",
       "Burundi                  -0.055032 -0.032184 -0.007722 -0.041234  0.032831\n",
       "Afghanistan              -0.051175 -0.004374  0.017640  0.000294  0.037748\n",
       "Togo                     -0.046249 -0.010312  0.032151  0.012250 -0.005954\n",
       "Haiti                    -0.043901 -0.017457 -0.014638  0.021281  0.060894\n",
       "Chad                     -0.042763 -0.000880 -0.004310  0.009867  0.017825\n",
       "Sierra Leone             -0.035977 -0.026361  0.014957  0.014531 -0.004463\n",
       "Benin                    -0.034763 -0.025276  0.025582 -0.007369 -0.016094\n",
       "Congo (Kinshasa)         -0.033120 -0.002256 -0.024615  0.000158  0.015498\n",
       "Pakistan                 -0.032869 -0.000656  0.020178  0.004830  0.044117"
      ]
     },
     "execution_count": 19,
     "metadata": {},
     "output_type": "execute_result"
    }
   ],
   "source": [
    "pc1_least"
   ]
  },
  {
   "cell_type": "markdown",
   "id": "d7786e98-faed-4f55-86ea-bfe3d92ee2ae",
   "metadata": {},
   "source": [
    "Since PC1 explains the most variance of all of the PCs, it makes sense that these tables correlate strongly to the happiest and unhappiest countries, respectively. Let's dive deeper into a specific country, for example. Afghanistan’s PC1 loading value is about -0.053. Even in a table full of the lowest PC1 values, this is very low. Afghanistan's situation can be a direct result of the withdrawal of U.S. troops from the country, leading to the country being under Taliban control. Referring back to the individual PC plots above this table, we see that if the PC1 value is very low, it must be because the perceptions of corruption are high and things like social support and GDP per capita are low. This makes sense given Afghanistans's situation over the time this data was collected."
   ]
  },
  {
   "cell_type": "markdown",
   "id": "cb39b6c6-8747-49c2-86d3-70475eb03d94",
   "metadata": {},
   "source": [
    "## Summary of Findings\n",
    "Analyzing our findings, we can identify several factors that contribute to the overall happiness levels of a nation. One of the key findings is the negative correlation between perceptions of corruption and happiness. A higher perception of corruption is associated with lower levels of happiness. This suggests that transparency, trust, and integrity in a government are crucial for fostering happiness within a society. Countries with lower levels of corruption tend to have higher levels of happiness as citizens feel more secure and have confidence in their institutions. Furthermore, the freedom to make life choices and social support demonstrate positive correlations with happiness. Countries that provide individuals with greater freedom to make life choices tend to have higher levels of happiness. This suggests that the ability to shape one’s life contributes to overall well-being and\n",
    "satisfaction. Similarly, social support support programs promote happiness by providing security, meeting basic needs, reducing stress, and creating a sense of fairness. Health-related factors also have a significant impact on happiness. Healthy life expectancy at birth shows a strong positive correlation with happiness. This implies that countries with longer life expectancy and better overall health tend to have higher levels of happiness. Individuals who enjoy good health are more likely to lead fulfilling lives and experience greater happiness. Lastly, economic prosperity, as measured by log GDP per capita, shows the highest positive correlation with happiness. Countries with higher levels of economic development and wealth tend to have higher levels of happiness. Economic factors play a crucial role in providing individuals with opportunities, resources, and a sense of\n",
    "security, all of which contribute to overall well-being and happiness. This all adds up when looking at the tables of countries that are the happiest and unhappiest. Many of the unhappiest countries are war-torn and corrupt, while many of the happiest countries are the healthiest, freest, and most financially stable. Countries that have improved in happiness have become less corrupt and more free, resulting in being more free and financially stable. Countries that have become less happy have had the opposite happen, becoming more corrupt and in turn becoming less free and financially stable."
   ]
  },
  {
   "cell_type": "markdown",
   "id": "c8fdbd3c-d9f4-475d-803d-e68224557263",
   "metadata": {},
   "source": [
    "## Code Appendix"
   ]
  },
  {
   "cell_type": "code",
   "execution_count": 2,
   "id": "9d99a0ec-a39c-4c70-a3f9-f4b140f6afee",
   "metadata": {},
   "outputs": [
    {
     "data": {
      "text/plain": [
       "RendererRegistry.enable('mimetype')"
      ]
     },
     "execution_count": 2,
     "metadata": {},
     "output_type": "execute_result"
    }
   ],
   "source": [
    "import numpy as np\n",
    "import pandas as pd\n",
    "import matplotlib.pyplot as plt\n",
    "import altair as alt\n",
    "import seaborn as sns\n",
    "from scipy import linalg\n",
    "from statsmodels.multivariate.pca import PCA\n",
    "alt.renderers.enable('mimetype')"
   ]
  },
  {
   "cell_type": "code",
   "execution_count": 3,
   "id": "01f033bf-1fa4-46bd-a783-935010d1778d",
   "metadata": {},
   "outputs": [],
   "source": [
    "happy = pd.read_csv('data/World_Happiness_Report.csv')\n",
    "\n",
    "happy_year = happy.drop(columns = ['Country Name','Regional Indicator']).groupby('Year').mean().reset_index()\n",
    "year_bar = alt.Chart(happy_year).mark_bar(size = 15).encode(\n",
    "    x = 'Year',\n",
    "    y = 'Life Ladder'\n",
    ").properties(\n",
    "    width = 500,\n",
    "    height = 200,\n",
    "    title = 'World Happiness Over the Years'\n",
    ")\n",
    "\n",
    "happy_missing = happy.pivot_table(\n",
    "index = 'Country Name',\n",
    "columns = 'Year',\n",
    "values = 'Life Ladder'\n",
    ").isna().mean()\n",
    "\n",
    "happy_dir = happy[(happy['Year'] == 2007) | (happy['Year'] == 2022)]\n",
    "happy_dir = happy_dir.pivot_table(\n",
    "    index = 'Country Name',\n",
    "    columns = 'Year',\n",
    "    values = 'Life Ladder'\n",
    ").reset_index()\n",
    "happy_dir['Progress'] = happy_dir[2022] - happy_dir[2007]\n",
    "\n",
    "happiest_dir = happy_dir.sort_values(by=\"Progress\", ascending=False).head(10)\n",
    "unhappiest_dir = happy_dir.sort_values(by=\"Progress\", ascending=True).head(10)\n",
    "\n",
    "happy_agg = happy.drop(columns = ['Regional Indicator','Year']).groupby('Country Name').mean().reset_index()\n",
    "happiest = happy_agg[['Country Name', 'Life Ladder']].sort_values(by='Life Ladder', ascending=False).head(10)\n",
    "unhappiest = happy_agg[['Country Name', 'Life Ladder']].sort_values(by='Life Ladder', ascending=True).head(10)\n",
    "\n",
    "happy_quant = happy.drop(columns = ['Country Name', 'Regional Indicator','Year'])\n",
    "corr_happy = happy_quant.corr()\n",
    "corr_happy_long = corr_happy.reset_index().rename(\n",
    "columns = {'index': 'row'}\n",
    ").melt(\n",
    "    id_vars = 'row',\n",
    "    var_name = 'col',\n",
    "    value_name = 'Correlation'\n",
    ")\n",
    "# construct plot\n",
    "happy_corr_plot = alt.Chart(corr_happy_long).mark_rect().encode(\n",
    "    x = alt.X('col', title = '', sort = {'field': 'Correlation', 'order': 'ascending'}),\n",
    "    y = alt.Y('row', title = '', sort = {'field': 'Correlation', 'order': 'ascending'}),\n",
    "    color = alt.Color('Correlation', scale = alt.Scale(\n",
    "        scheme = 'blueorange',\n",
    "        domain = (-1, 1),\n",
    "        type = 'sqrt'),\n",
    "        legend = alt.Legend(tickCount = 5))\n",
    ").properties(width = 300, height = 300)\n",
    "\n",
    "life_ladder_corr = corr_happy.loc[:, 'Life Ladder'].sort_values()\n",
    "\n",
    "pca = PCA(happy_quant.dropna(), standardize = True)\n",
    "var_ratios = pca.eigenvals/pca.eigenvals.sum()\n",
    "pca_var_explained = pd.DataFrame({\n",
    "    'Component': np.arange(1, 11),\n",
    "    'Proportion of variance explained': var_ratios})\n",
    "pca_var_explained['Cumulative variance explained'] = var_ratios.cumsum()\n",
    "base = alt.Chart(pca_var_explained).encode(x = 'Component')\n",
    "prop_var_base = base.encode(\n",
    "    y = alt.Y('Proportion of variance explained',\n",
    "    axis = alt.Axis(titleColor = 'blue'))\n",
    ")\n",
    "cum_var_base = base.encode(\n",
    "    y = alt.Y('Cumulative variance explained', axis = alt.Axis(titleColor = 'red'))\n",
    ")\n",
    "prop_var = prop_var_base.mark_line(stroke = 'blue') + prop_var_base.mark_point(color = 'blue')\n",
    "cum_var = cum_var_base.mark_line(stroke = 'red') + cum_var_base.mark_point(stroke = 'red')\n",
    "var_explained_plot = alt.layer(prop_var, cum_var).resolve_scale(y = 'independent')"
   ]
  },
  {
   "cell_type": "code",
   "execution_count": 4,
   "id": "c6cbfafd-d830-48e9-a399-b3852d3c0982",
   "metadata": {},
   "outputs": [
    {
     "data": {
      "text/plain": [
       "5"
      ]
     },
     "execution_count": 4,
     "metadata": {},
     "output_type": "execute_result"
    }
   ],
   "source": [
    "num_pc = np.sum(pca_var_explained['Proportion of variance explained'] > 0.05)\n",
    "num_pc"
   ]
  },
  {
   "cell_type": "code",
   "execution_count": 5,
   "id": "413be9f4-4526-4304-aa5f-7a870356f03f",
   "metadata": {},
   "outputs": [
    {
     "data": {
      "text/plain": [
       "0.8750425761565848"
      ]
     },
     "execution_count": 5,
     "metadata": {},
     "output_type": "execute_result"
    }
   ],
   "source": [
    "var_explained = var_ratios[0:num_pc].sum()\n",
    "var_explained"
   ]
  },
  {
   "cell_type": "code",
   "execution_count": 6,
   "id": "07160b15-68b7-46b2-b23d-ae9f779498b3",
   "metadata": {},
   "outputs": [],
   "source": [
    "loading_df = pca.loadings.iloc[:, 0:num_pc]\n",
    "loading_df = loading_df.rename(columns = dict(zip(loading_df.columns, ['PC' + str(i) for i in range(1, num_pc + 1)])))\n",
    "loading_plot_df = loading_df.reset_index().melt(\n",
    "    id_vars = 'index',\n",
    "    var_name = 'Principal Component',\n",
    "    value_name = 'Loading'\n",
    ").rename(columns = {'index': 'Variable'})\n",
    "loading_plot_df['zero'] = np.repeat(0, len(loading_plot_df))\n",
    "base = alt.Chart(loading_plot_df)\n",
    "loadings = base.mark_line(point = True).encode(\n",
    "    y = alt.X('Variable', title = ''),\n",
    "    x = 'Loading',\n",
    "    color = 'Principal Component'\n",
    ")\n",
    "rule = base.mark_rule().encode(x = alt.X('zero', title = 'Loading'), size = alt.value(0.05))\n",
    "loading_plot = (loadings + rule).properties(height = 250, width = 100)\n",
    "PC_plot = loading_plot.facet(column = alt.Column('Principal Component', title = ''))\n",
    "\n",
    "score_df = pca.scores.iloc[:, 0:num_pc]\n",
    "score_df = score_df.rename(columns = dict(zip(score_df.columns, ['PC' + str(i) for i in range(1, num_pc + 1)])))\n",
    "score_df['Country'] = happy['Country Name']\n",
    "score_df = score_df.groupby('Country').mean()\n",
    "pc1_most = score_df.sort_values(by=\"PC1\", ascending=False).head(10)\n",
    "pc1_least = score_df.sort_values(by=\"PC1\", ascending=True).head(10)"
   ]
  },
  {
   "cell_type": "code",
   "execution_count": null,
   "id": "83621455-954c-4a3c-a251-da643c938251",
   "metadata": {},
   "outputs": [],
   "source": []
  }
 ],
 "metadata": {
  "kernelspec": {
   "display_name": "Python 3 (ipykernel)",
   "language": "python",
   "name": "python3"
  },
  "language_info": {
   "codemirror_mode": {
    "name": "ipython",
    "version": 3
   },
   "file_extension": ".py",
   "mimetype": "text/x-python",
   "name": "python",
   "nbconvert_exporter": "python",
   "pygments_lexer": "ipython3",
   "version": "3.12.1"
  }
 },
 "nbformat": 4,
 "nbformat_minor": 5
}
